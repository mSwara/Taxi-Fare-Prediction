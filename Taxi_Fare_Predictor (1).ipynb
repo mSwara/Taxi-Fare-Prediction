{
  "cells": [
    {
      "cell_type": "markdown",
      "metadata": {
        "id": "toXTm3L26r7C"
      },
      "source": [
        "#Taxi Fare Predictor"
      ]
    },
    {
      "cell_type": "markdown",
      "metadata": {
        "id": "v17mV6C4ABH2"
      },
      "source": [
        "**Description -**\n",
        "- As target variable is already known, we treat this as a Supervised Learning problem.\n",
        "- Fare is a continuous real variable, so regression models will be used.\n",
        "- As Taxi Fare is extremely dependent on Fuel price, we have used a public dataset which includes weekly average of fuel prices in New York City"
      ]
    },
    {
      "cell_type": "markdown",
      "metadata": {
        "id": "rQL4RlTWmvhZ"
      },
      "source": [
        "**Steps -**\n",
        "1. Downloading dataset, Installing packages & Loading dataset\n",
        "2. Exploratory Data Analysis & Visualization\n",
        "3. Preparing the dataset for Machine Learning\n",
        "4. Training Hardcoded & Baseline Models\n",
        "5. Feature Engineering\n",
        "6. Training & Evaluating Different Models\n",
        "7. Predicting Fares for test data & Creating the submission file"
      ]
    },
    {
      "cell_type": "markdown",
      "metadata": {
        "id": "J3Gob9dA6_Rs"
      },
      "source": [
        "##1. Downloading dataset, Installing packages & Loading dataset"
      ]
    },
    {
      "cell_type": "markdown",
      "metadata": {
        "id": "eY-skgnP7R9z"
      },
      "source": [
        "###Installing packages & downloading dataset"
      ]
    },
    {
      "cell_type": "code",
      "execution_count": 1,
      "metadata": {
        "id": "Eb4W4iOlzT3j"
      },
      "outputs": [],
      "source": [
        "!pip install opendatasets --quiet"
      ]
    },
    {
      "cell_type": "code",
      "execution_count": 2,
      "metadata": {
        "id": "dx12C6747W0i"
      },
      "outputs": [],
      "source": [
        "import opendatasets as od"
      ]
    },
    {
      "cell_type": "code",
      "source": [
        "!mkdir -p ~/.kaggle\n",
        "!cp kaggle.json ~/.kaggle/\n",
        "!chmod 600 ~/.kaggle/kaggle.json"
      ],
      "metadata": {
        "id": "StJwDegOb-Wa"
      },
      "execution_count": 3,
      "outputs": []
    },
    {
      "cell_type": "code",
      "execution_count": 4,
      "metadata": {
        "id": "yxrn2Rfo70UZ"
      },
      "outputs": [],
      "source": [
        "download_url = 'https://www.kaggle.com/competitions/new-york-city-taxi-fare-prediction/'\n",
        "download_url_fuel = 'https://www.kaggle.com/datasets/new-york-state/nys-diesel-retail-price-weekly-average'"
      ]
    },
    {
      "cell_type": "code",
      "source": [
        "!mkdir -p ~/.kaggle\n",
        "!cp kaggle.json ~/.kaggle/\n",
        "!chmod 600 ~/.kaggle/kaggle.json"
      ],
      "metadata": {
        "id": "BBi4kMC5ch4A"
      },
      "execution_count": 5,
      "outputs": []
    },
    {
      "cell_type": "code",
      "source": [
        "!kaggle competitions download -c new-york-city-taxi-fare-prediction"
      ],
      "metadata": {
        "colab": {
          "base_uri": "https://localhost:8080/"
        },
        "id": "sxl0h3CFdj77",
        "outputId": "a1b35a05-2237-4d5d-a967-8f041e091d5b"
      },
      "execution_count": 10,
      "outputs": [
        {
          "output_type": "stream",
          "name": "stdout",
          "text": [
            "Downloading new-york-city-taxi-fare-prediction.zip to /content\n",
            "100% 1.56G/1.56G [01:24<00:00, 28.7MB/s]\n",
            "100% 1.56G/1.56G [01:24<00:00, 19.9MB/s]\n"
          ]
        }
      ]
    },
    {
      "cell_type": "markdown",
      "metadata": {
        "id": "FtiLyGyonP_a"
      },
      "source": [
        "Upload the kaggle API key json file from kaggle or input the username & API key when asked after running the following two cells"
      ]
    },
    {
      "cell_type": "code",
      "execution_count": 11,
      "metadata": {
        "colab": {
          "base_uri": "https://localhost:8080/"
        },
        "id": "4ujB_dNfTmXd",
        "outputId": "983f62bb-0502-4ca6-df61-f559e3f1c283"
      },
      "outputs": [
        {
          "output_type": "stream",
          "name": "stdout",
          "text": [
            "Downloading new-york-city-taxi-fare-prediction.zip to ./new-york-city-taxi-fare-prediction\n"
          ]
        },
        {
          "output_type": "stream",
          "name": "stderr",
          "text": [
            "100%|██████████| 1.56G/1.56G [01:20<00:00, 20.7MB/s]\n"
          ]
        },
        {
          "output_type": "stream",
          "name": "stdout",
          "text": [
            "\n",
            "Extracting archive ./new-york-city-taxi-fare-prediction/new-york-city-taxi-fare-prediction.zip to ./new-york-city-taxi-fare-prediction\n"
          ]
        }
      ],
      "source": [
        "od.download(download_url)"
      ]
    },
    {
      "cell_type": "code",
      "execution_count": 12,
      "metadata": {
        "colab": {
          "base_uri": "https://localhost:8080/"
        },
        "id": "44Y_1gUlTnBH",
        "outputId": "6af62a2d-cc5e-4c3d-a11f-af004e56877a"
      },
      "outputs": [
        {
          "output_type": "stream",
          "name": "stdout",
          "text": [
            "Dataset URL: https://www.kaggle.com/datasets/new-york-state/nys-diesel-retail-price-weekly-average\n",
            "Downloading nys-diesel-retail-price-weekly-average.zip to ./nys-diesel-retail-price-weekly-average\n"
          ]
        },
        {
          "output_type": "stream",
          "name": "stderr",
          "text": [
            "100%|██████████| 199k/199k [00:00<00:00, 542kB/s]"
          ]
        },
        {
          "output_type": "stream",
          "name": "stdout",
          "text": [
            "\n"
          ]
        },
        {
          "output_type": "stream",
          "name": "stderr",
          "text": [
            "\n"
          ]
        }
      ],
      "source": [
        "od.download(download_url_fuel)"
      ]
    },
    {
      "cell_type": "markdown",
      "metadata": {
        "id": "_G_hnytj-c0x"
      },
      "source": [
        "###Viewing Dataset Files"
      ]
    },
    {
      "cell_type": "code",
      "execution_count": 13,
      "metadata": {
        "id": "rckAqSB19uxB"
      },
      "outputs": [],
      "source": [
        "data_dir = 'new-york-city-taxi-fare-prediction/'"
      ]
    },
    {
      "cell_type": "code",
      "execution_count": 14,
      "metadata": {
        "id": "DNyLtP9WPmat"
      },
      "outputs": [],
      "source": [
        "data_dir_fuel = 'nys-diesel-retail-price-weekly-average/'"
      ]
    },
    {
      "cell_type": "code",
      "execution_count": 15,
      "metadata": {
        "colab": {
          "base_uri": "https://localhost:8080/"
        },
        "id": "89YIH_Vv-RDQ",
        "outputId": "7569bd51-f297-4773-dec7-c51568449acf"
      },
      "outputs": [
        {
          "output_type": "stream",
          "name": "stdout",
          "text": [
            "total 5.4G\n",
            "-rw-r--r-- 1 root root  486 Jun 25 17:38 GCP-Coupons-Instructions.rtf\n",
            "-rw-r--r-- 1 root root 336K Jun 25 17:38 sample_submission.csv\n",
            "-rw-r--r-- 1 root root 960K Jun 25 17:38 test.csv\n",
            "-rw-r--r-- 1 root root 5.4G Jun 25 17:39 train.csv\n"
          ]
        }
      ],
      "source": [
        "!ls -lh {data_dir} #'!' means run the command in shell"
      ]
    },
    {
      "cell_type": "code",
      "execution_count": 16,
      "metadata": {
        "colab": {
          "base_uri": "https://localhost:8080/"
        },
        "id": "9iujyHf6-amk",
        "outputId": "238eba22-b75e-4a30-bcd2-49e7bd8ccb6f"
      },
      "outputs": [
        {
          "output_type": "stream",
          "name": "stdout",
          "text": [
            "55423856 new-york-city-taxi-fare-prediction/train.csv\n"
          ]
        }
      ],
      "source": [
        "!wc -l {data_dir}train.csv"
      ]
    },
    {
      "cell_type": "code",
      "execution_count": 17,
      "metadata": {
        "colab": {
          "base_uri": "https://localhost:8080/"
        },
        "id": "TqjngPQN-j4u",
        "outputId": "3fd892d0-b966-414f-ddc4-ce2a135fc41f"
      },
      "outputs": [
        {
          "output_type": "stream",
          "name": "stdout",
          "text": [
            "9914 new-york-city-taxi-fare-prediction/test.csv\n"
          ]
        }
      ],
      "source": [
        "!wc -l {data_dir}test.csv"
      ]
    },
    {
      "cell_type": "code",
      "execution_count": 18,
      "metadata": {
        "colab": {
          "base_uri": "https://localhost:8080/"
        },
        "id": "DwsZteWZ-oMj",
        "outputId": "bf4b30f3-1fa4-4280-b686-7593a95bfc27"
      },
      "outputs": [
        {
          "output_type": "stream",
          "name": "stdout",
          "text": [
            "9915 new-york-city-taxi-fare-prediction/sample_submission.csv\n"
          ]
        }
      ],
      "source": [
        "!wc -l {data_dir}sample_submission.csv"
      ]
    },
    {
      "cell_type": "code",
      "execution_count": 19,
      "metadata": {
        "colab": {
          "base_uri": "https://localhost:8080/"
        },
        "id": "ED6KVCw3-tEd",
        "outputId": "53b242df-a6ce-4134-cefb-28b9d844a33b"
      },
      "outputs": [
        {
          "output_type": "stream",
          "name": "stdout",
          "text": [
            "key,fare_amount,pickup_datetime,pickup_longitude,pickup_latitude,dropoff_longitude,dropoff_latitude,passenger_count\r\n",
            "2009-06-15 17:26:21.0000001,4.5,2009-06-15 17:26:21 UTC,-73.844311,40.721319,-73.84161,40.712278,1\r\n",
            "2010-01-05 16:52:16.0000002,16.9,2010-01-05 16:52:16 UTC,-74.016048,40.711303,-73.979268,40.782004,1\r\n",
            "2011-08-18 00:35:00.00000049,5.7,2011-08-18 00:35:00 UTC,-73.982738,40.76127,-73.991242,40.750562,2\r\n",
            "2012-04-21 04:30:42.0000001,7.7,2012-04-21 04:30:42 UTC,-73.98713,40.733143,-73.991567,40.758092,1\r\n",
            "2010-03-09 07:51:00.000000135,5.3,2010-03-09 07:51:00 UTC,-73.968095,40.768008,-73.956655,40.783762,1\r\n",
            "2011-01-06 09:50:45.0000002,12.1,2011-01-06 09:50:45 UTC,-74.000964,40.73163,-73.972892,40.758233,1\r\n",
            "2012-11-20 20:35:00.0000001,7.5,2012-11-20 20:35:00 UTC,-73.980002,40.751662,-73.973802,40.764842,1\r\n",
            "2012-01-04 17:22:00.00000081,16.5,2012-01-04 17:22:00 UTC,-73.9513,40.774138,-73.990095,40.751048,1\r\n",
            "2012-12-03 13:10:00.000000125,9,2012-12-03 13:10:00 UTC,-74.006462,40.726713,-73.993078,40.731628,1\r\n"
          ]
        }
      ],
      "source": [
        "!head {data_dir}train.csv"
      ]
    },
    {
      "cell_type": "code",
      "execution_count": 20,
      "metadata": {
        "colab": {
          "base_uri": "https://localhost:8080/"
        },
        "id": "nRqScPzZ8ggy",
        "outputId": "d090bd88-1a68-4113-aa24-d6a3f5478b1c"
      },
      "outputs": [
        {
          "output_type": "stream",
          "name": "stdout",
          "text": [
            "key,pickup_datetime,pickup_longitude,pickup_latitude,dropoff_longitude,dropoff_latitude,passenger_count\r\n",
            "2015-01-27 13:08:24.0000002,2015-01-27 13:08:24 UTC,-73.973320007324219,40.7638053894043,-73.981430053710938,40.74383544921875,1\r\n",
            "2015-01-27 13:08:24.0000003,2015-01-27 13:08:24 UTC,-73.986862182617188,40.719383239746094,-73.998886108398438,40.739200592041016,1\r\n",
            "2011-10-08 11:53:44.0000002,2011-10-08 11:53:44 UTC,-73.982524,40.75126,-73.979654,40.746139,1\r\n",
            "2012-12-01 21:12:12.0000002,2012-12-01 21:12:12 UTC,-73.98116,40.767807,-73.990448,40.751635,1\r\n",
            "2012-12-01 21:12:12.0000003,2012-12-01 21:12:12 UTC,-73.966046,40.789775,-73.988565,40.744427,1\r\n",
            "2012-12-01 21:12:12.0000005,2012-12-01 21:12:12 UTC,-73.960983,40.765547,-73.979177,40.740053,1\r\n",
            "2011-10-06 12:10:20.0000001,2011-10-06 12:10:20 UTC,-73.949013,40.773204,-73.959622,40.770893,1\r\n",
            "2011-10-06 12:10:20.0000003,2011-10-06 12:10:20 UTC,-73.777282,40.646636,-73.985083,40.759368,1\r\n",
            "2011-10-06 12:10:20.0000002,2011-10-06 12:10:20 UTC,-74.014099,40.709638,-73.995106,40.741365,1\r\n"
          ]
        }
      ],
      "source": [
        "!head {data_dir}test.csv"
      ]
    },
    {
      "cell_type": "markdown",
      "metadata": {
        "id": "l7KR8VKOAT39"
      },
      "source": [
        "###Loading the dataset"
      ]
    },
    {
      "cell_type": "code",
      "execution_count": 21,
      "metadata": {
        "id": "xcHJg9ehAad1"
      },
      "outputs": [],
      "source": [
        "import numpy as np\n",
        "import pandas as pd\n",
        "import random\n",
        "import matplotlib.pyplot as plt"
      ]
    },
    {
      "cell_type": "code",
      "execution_count": 22,
      "metadata": {
        "colab": {
          "base_uri": "https://localhost:8080/"
        },
        "id": "p6Rygx-mBnJc",
        "outputId": "9d8d74de-0b4d-4c83-e8bb-9b207e1eb5fa"
      },
      "outputs": [
        {
          "output_type": "stream",
          "name": "stdout",
          "text": [
            "['fare_amount', 'pickup_datetime', 'pickup_longitude', 'pickup_latitude', 'dropoff_longitude', 'dropoff_latitude', 'passenger_count']\n"
          ]
        }
      ],
      "source": [
        "cols = ('fare_amount,pickup_datetime,pickup_longitude,pickup_latitude,dropoff_longitude,dropoff_latitude,passenger_count').split(',')\n",
        "print(cols)"
      ]
    },
    {
      "cell_type": "code",
      "execution_count": 23,
      "metadata": {
        "id": "ynzK5KAx8_Kt"
      },
      "outputs": [],
      "source": [
        "dtypes = {\n",
        "    'fare_amount':'float32',\n",
        "    'pickup_longitude':'float32',\n",
        "    'pickup_latitude':'float32',\n",
        "    'dropoff_longitude':'float32',\n",
        "    'dropoff_latitude':'float32',\n",
        "    'passenger_count':'uint8' #count can't be nagative, so we use unsigned int datatype\n",
        "}"
      ]
    },
    {
      "cell_type": "code",
      "execution_count": 24,
      "metadata": {
        "id": "F3DRL6szCvc5"
      },
      "outputs": [],
      "source": [
        "sample_fraction = 0.03 #We are going to use only 3% dataset\n",
        "random.seed(42) #Fixing the seed to get same results everytime\n",
        "\n",
        "#Utility Function to randomly read only 3% rows from the csv file\n",
        "def skip_row(row_idx):\n",
        "  if row_idx == 0:\n",
        "    return False\n",
        "  else:\n",
        "    return random.random() > sample_fraction"
      ]
    },
    {
      "cell_type": "markdown",
      "metadata": {
        "id": "PNoRePEK9LFh"
      },
      "source": [
        "Loading the training data"
      ]
    },
    {
      "cell_type": "code",
      "execution_count": 25,
      "metadata": {
        "id": "MOi1xQcDCuVh"
      },
      "outputs": [],
      "source": [
        "df = pd.read_csv(\n",
        "    data_dir+'train.csv',\n",
        "    usecols=cols,\n",
        "    parse_dates=['pickup_datetime'],\n",
        "    dtype=dtypes,\n",
        "    skiprows=skip_row)"
      ]
    },
    {
      "cell_type": "code",
      "execution_count": 26,
      "metadata": {
        "id": "aLWXf_6dINoU"
      },
      "outputs": [],
      "source": [
        "test_df = pd.read_csv(\n",
        "    data_dir+'/test.csv',\n",
        "    dtype=dtypes,\n",
        "    parse_dates=['pickup_datetime'])"
      ]
    },
    {
      "cell_type": "code",
      "execution_count": 27,
      "metadata": {
        "id": "zaMpw4rYPE5o"
      },
      "outputs": [],
      "source": [
        "df_fuel = pd.read_csv(\n",
        "    data_dir_fuel+'diesel-retail-price-weekly-average-by-region-beginning-2007.csv',\n",
        "    parse_dates=['Date'],\n",
        "    usecols=['Date', 'New York State Average ($/gal)'])"
      ]
    },
    {
      "cell_type": "markdown",
      "metadata": {
        "id": "NgB0jZmhKYJD"
      },
      "source": [
        "##2. Exploratory Data Analysis & Visualization"
      ]
    },
    {
      "cell_type": "markdown",
      "metadata": {
        "id": "rPVZGLMkIrhS"
      },
      "source": [
        "####Training Set"
      ]
    },
    {
      "cell_type": "code",
      "execution_count": 28,
      "metadata": {
        "colab": {
          "base_uri": "https://localhost:8080/",
          "height": 206
        },
        "id": "p78q7hxXQFhT",
        "outputId": "d2c9d9cb-b3ae-4f1a-9d3c-78732749f72a"
      },
      "outputs": [
        {
          "output_type": "execute_result",
          "data": {
            "text/plain": [
              "   fare_amount           pickup_datetime  pickup_longitude  pickup_latitude  \\\n",
              "0         16.9 2010-01-05 16:52:16+00:00        -74.016045        40.711304   \n",
              "1          8.9 2009-09-02 01:11:00+00:00        -73.980659        40.733871   \n",
              "2          4.1 2009-11-06 01:04:03+00:00        -73.991600        40.744713   \n",
              "3          4.0 2014-12-06 20:36:22+00:00        -73.979813        40.751904   \n",
              "4         10.0 2014-11-12 12:40:29+00:00        -74.002579        40.739571   \n",
              "\n",
              "   dropoff_longitude  dropoff_latitude  passenger_count  \n",
              "0         -73.979271         40.782005                1  \n",
              "1         -73.991539         40.758137                2  \n",
              "2         -73.983078         40.744682                2  \n",
              "3         -73.979446         40.755482                1  \n",
              "4         -73.994583         40.760681                1  "
            ],
            "text/html": [
              "\n",
              "  <div id=\"df-bc49f07a-467d-4300-93ad-ba594fb76697\" class=\"colab-df-container\">\n",
              "    <div>\n",
              "<style scoped>\n",
              "    .dataframe tbody tr th:only-of-type {\n",
              "        vertical-align: middle;\n",
              "    }\n",
              "\n",
              "    .dataframe tbody tr th {\n",
              "        vertical-align: top;\n",
              "    }\n",
              "\n",
              "    .dataframe thead th {\n",
              "        text-align: right;\n",
              "    }\n",
              "</style>\n",
              "<table border=\"1\" class=\"dataframe\">\n",
              "  <thead>\n",
              "    <tr style=\"text-align: right;\">\n",
              "      <th></th>\n",
              "      <th>fare_amount</th>\n",
              "      <th>pickup_datetime</th>\n",
              "      <th>pickup_longitude</th>\n",
              "      <th>pickup_latitude</th>\n",
              "      <th>dropoff_longitude</th>\n",
              "      <th>dropoff_latitude</th>\n",
              "      <th>passenger_count</th>\n",
              "    </tr>\n",
              "  </thead>\n",
              "  <tbody>\n",
              "    <tr>\n",
              "      <th>0</th>\n",
              "      <td>16.9</td>\n",
              "      <td>2010-01-05 16:52:16+00:00</td>\n",
              "      <td>-74.016045</td>\n",
              "      <td>40.711304</td>\n",
              "      <td>-73.979271</td>\n",
              "      <td>40.782005</td>\n",
              "      <td>1</td>\n",
              "    </tr>\n",
              "    <tr>\n",
              "      <th>1</th>\n",
              "      <td>8.9</td>\n",
              "      <td>2009-09-02 01:11:00+00:00</td>\n",
              "      <td>-73.980659</td>\n",
              "      <td>40.733871</td>\n",
              "      <td>-73.991539</td>\n",
              "      <td>40.758137</td>\n",
              "      <td>2</td>\n",
              "    </tr>\n",
              "    <tr>\n",
              "      <th>2</th>\n",
              "      <td>4.1</td>\n",
              "      <td>2009-11-06 01:04:03+00:00</td>\n",
              "      <td>-73.991600</td>\n",
              "      <td>40.744713</td>\n",
              "      <td>-73.983078</td>\n",
              "      <td>40.744682</td>\n",
              "      <td>2</td>\n",
              "    </tr>\n",
              "    <tr>\n",
              "      <th>3</th>\n",
              "      <td>4.0</td>\n",
              "      <td>2014-12-06 20:36:22+00:00</td>\n",
              "      <td>-73.979813</td>\n",
              "      <td>40.751904</td>\n",
              "      <td>-73.979446</td>\n",
              "      <td>40.755482</td>\n",
              "      <td>1</td>\n",
              "    </tr>\n",
              "    <tr>\n",
              "      <th>4</th>\n",
              "      <td>10.0</td>\n",
              "      <td>2014-11-12 12:40:29+00:00</td>\n",
              "      <td>-74.002579</td>\n",
              "      <td>40.739571</td>\n",
              "      <td>-73.994583</td>\n",
              "      <td>40.760681</td>\n",
              "      <td>1</td>\n",
              "    </tr>\n",
              "  </tbody>\n",
              "</table>\n",
              "</div>\n",
              "    <div class=\"colab-df-buttons\">\n",
              "\n",
              "  <div class=\"colab-df-container\">\n",
              "    <button class=\"colab-df-convert\" onclick=\"convertToInteractive('df-bc49f07a-467d-4300-93ad-ba594fb76697')\"\n",
              "            title=\"Convert this dataframe to an interactive table.\"\n",
              "            style=\"display:none;\">\n",
              "\n",
              "  <svg xmlns=\"http://www.w3.org/2000/svg\" height=\"24px\" viewBox=\"0 -960 960 960\">\n",
              "    <path d=\"M120-120v-720h720v720H120Zm60-500h600v-160H180v160Zm220 220h160v-160H400v160Zm0 220h160v-160H400v160ZM180-400h160v-160H180v160Zm440 0h160v-160H620v160ZM180-180h160v-160H180v160Zm440 0h160v-160H620v160Z\"/>\n",
              "  </svg>\n",
              "    </button>\n",
              "\n",
              "  <style>\n",
              "    .colab-df-container {\n",
              "      display:flex;\n",
              "      gap: 12px;\n",
              "    }\n",
              "\n",
              "    .colab-df-convert {\n",
              "      background-color: #E8F0FE;\n",
              "      border: none;\n",
              "      border-radius: 50%;\n",
              "      cursor: pointer;\n",
              "      display: none;\n",
              "      fill: #1967D2;\n",
              "      height: 32px;\n",
              "      padding: 0 0 0 0;\n",
              "      width: 32px;\n",
              "    }\n",
              "\n",
              "    .colab-df-convert:hover {\n",
              "      background-color: #E2EBFA;\n",
              "      box-shadow: 0px 1px 2px rgba(60, 64, 67, 0.3), 0px 1px 3px 1px rgba(60, 64, 67, 0.15);\n",
              "      fill: #174EA6;\n",
              "    }\n",
              "\n",
              "    .colab-df-buttons div {\n",
              "      margin-bottom: 4px;\n",
              "    }\n",
              "\n",
              "    [theme=dark] .colab-df-convert {\n",
              "      background-color: #3B4455;\n",
              "      fill: #D2E3FC;\n",
              "    }\n",
              "\n",
              "    [theme=dark] .colab-df-convert:hover {\n",
              "      background-color: #434B5C;\n",
              "      box-shadow: 0px 1px 3px 1px rgba(0, 0, 0, 0.15);\n",
              "      filter: drop-shadow(0px 1px 2px rgba(0, 0, 0, 0.3));\n",
              "      fill: #FFFFFF;\n",
              "    }\n",
              "  </style>\n",
              "\n",
              "    <script>\n",
              "      const buttonEl =\n",
              "        document.querySelector('#df-bc49f07a-467d-4300-93ad-ba594fb76697 button.colab-df-convert');\n",
              "      buttonEl.style.display =\n",
              "        google.colab.kernel.accessAllowed ? 'block' : 'none';\n",
              "\n",
              "      async function convertToInteractive(key) {\n",
              "        const element = document.querySelector('#df-bc49f07a-467d-4300-93ad-ba594fb76697');\n",
              "        const dataTable =\n",
              "          await google.colab.kernel.invokeFunction('convertToInteractive',\n",
              "                                                    [key], {});\n",
              "        if (!dataTable) return;\n",
              "\n",
              "        const docLinkHtml = 'Like what you see? Visit the ' +\n",
              "          '<a target=\"_blank\" href=https://colab.research.google.com/notebooks/data_table.ipynb>data table notebook</a>'\n",
              "          + ' to learn more about interactive tables.';\n",
              "        element.innerHTML = '';\n",
              "        dataTable['output_type'] = 'display_data';\n",
              "        await google.colab.output.renderOutput(dataTable, element);\n",
              "        const docLink = document.createElement('div');\n",
              "        docLink.innerHTML = docLinkHtml;\n",
              "        element.appendChild(docLink);\n",
              "      }\n",
              "    </script>\n",
              "  </div>\n",
              "\n",
              "\n",
              "<div id=\"df-e11b19c6-488e-4bc3-a1a7-621202075806\">\n",
              "  <button class=\"colab-df-quickchart\" onclick=\"quickchart('df-e11b19c6-488e-4bc3-a1a7-621202075806')\"\n",
              "            title=\"Suggest charts\"\n",
              "            style=\"display:none;\">\n",
              "\n",
              "<svg xmlns=\"http://www.w3.org/2000/svg\" height=\"24px\"viewBox=\"0 0 24 24\"\n",
              "     width=\"24px\">\n",
              "    <g>\n",
              "        <path d=\"M19 3H5c-1.1 0-2 .9-2 2v14c0 1.1.9 2 2 2h14c1.1 0 2-.9 2-2V5c0-1.1-.9-2-2-2zM9 17H7v-7h2v7zm4 0h-2V7h2v10zm4 0h-2v-4h2v4z\"/>\n",
              "    </g>\n",
              "</svg>\n",
              "  </button>\n",
              "\n",
              "<style>\n",
              "  .colab-df-quickchart {\n",
              "      --bg-color: #E8F0FE;\n",
              "      --fill-color: #1967D2;\n",
              "      --hover-bg-color: #E2EBFA;\n",
              "      --hover-fill-color: #174EA6;\n",
              "      --disabled-fill-color: #AAA;\n",
              "      --disabled-bg-color: #DDD;\n",
              "  }\n",
              "\n",
              "  [theme=dark] .colab-df-quickchart {\n",
              "      --bg-color: #3B4455;\n",
              "      --fill-color: #D2E3FC;\n",
              "      --hover-bg-color: #434B5C;\n",
              "      --hover-fill-color: #FFFFFF;\n",
              "      --disabled-bg-color: #3B4455;\n",
              "      --disabled-fill-color: #666;\n",
              "  }\n",
              "\n",
              "  .colab-df-quickchart {\n",
              "    background-color: var(--bg-color);\n",
              "    border: none;\n",
              "    border-radius: 50%;\n",
              "    cursor: pointer;\n",
              "    display: none;\n",
              "    fill: var(--fill-color);\n",
              "    height: 32px;\n",
              "    padding: 0;\n",
              "    width: 32px;\n",
              "  }\n",
              "\n",
              "  .colab-df-quickchart:hover {\n",
              "    background-color: var(--hover-bg-color);\n",
              "    box-shadow: 0 1px 2px rgba(60, 64, 67, 0.3), 0 1px 3px 1px rgba(60, 64, 67, 0.15);\n",
              "    fill: var(--button-hover-fill-color);\n",
              "  }\n",
              "\n",
              "  .colab-df-quickchart-complete:disabled,\n",
              "  .colab-df-quickchart-complete:disabled:hover {\n",
              "    background-color: var(--disabled-bg-color);\n",
              "    fill: var(--disabled-fill-color);\n",
              "    box-shadow: none;\n",
              "  }\n",
              "\n",
              "  .colab-df-spinner {\n",
              "    border: 2px solid var(--fill-color);\n",
              "    border-color: transparent;\n",
              "    border-bottom-color: var(--fill-color);\n",
              "    animation:\n",
              "      spin 1s steps(1) infinite;\n",
              "  }\n",
              "\n",
              "  @keyframes spin {\n",
              "    0% {\n",
              "      border-color: transparent;\n",
              "      border-bottom-color: var(--fill-color);\n",
              "      border-left-color: var(--fill-color);\n",
              "    }\n",
              "    20% {\n",
              "      border-color: transparent;\n",
              "      border-left-color: var(--fill-color);\n",
              "      border-top-color: var(--fill-color);\n",
              "    }\n",
              "    30% {\n",
              "      border-color: transparent;\n",
              "      border-left-color: var(--fill-color);\n",
              "      border-top-color: var(--fill-color);\n",
              "      border-right-color: var(--fill-color);\n",
              "    }\n",
              "    40% {\n",
              "      border-color: transparent;\n",
              "      border-right-color: var(--fill-color);\n",
              "      border-top-color: var(--fill-color);\n",
              "    }\n",
              "    60% {\n",
              "      border-color: transparent;\n",
              "      border-right-color: var(--fill-color);\n",
              "    }\n",
              "    80% {\n",
              "      border-color: transparent;\n",
              "      border-right-color: var(--fill-color);\n",
              "      border-bottom-color: var(--fill-color);\n",
              "    }\n",
              "    90% {\n",
              "      border-color: transparent;\n",
              "      border-bottom-color: var(--fill-color);\n",
              "    }\n",
              "  }\n",
              "</style>\n",
              "\n",
              "  <script>\n",
              "    async function quickchart(key) {\n",
              "      const quickchartButtonEl =\n",
              "        document.querySelector('#' + key + ' button');\n",
              "      quickchartButtonEl.disabled = true;  // To prevent multiple clicks.\n",
              "      quickchartButtonEl.classList.add('colab-df-spinner');\n",
              "      try {\n",
              "        const charts = await google.colab.kernel.invokeFunction(\n",
              "            'suggestCharts', [key], {});\n",
              "      } catch (error) {\n",
              "        console.error('Error during call to suggestCharts:', error);\n",
              "      }\n",
              "      quickchartButtonEl.classList.remove('colab-df-spinner');\n",
              "      quickchartButtonEl.classList.add('colab-df-quickchart-complete');\n",
              "    }\n",
              "    (() => {\n",
              "      let quickchartButtonEl =\n",
              "        document.querySelector('#df-e11b19c6-488e-4bc3-a1a7-621202075806 button');\n",
              "      quickchartButtonEl.style.display =\n",
              "        google.colab.kernel.accessAllowed ? 'block' : 'none';\n",
              "    })();\n",
              "  </script>\n",
              "</div>\n",
              "\n",
              "    </div>\n",
              "  </div>\n"
            ],
            "application/vnd.google.colaboratory.intrinsic+json": {
              "type": "dataframe",
              "variable_name": "df"
            }
          },
          "metadata": {},
          "execution_count": 28
        }
      ],
      "source": [
        "df.head()"
      ]
    },
    {
      "cell_type": "code",
      "execution_count": 29,
      "metadata": {
        "colab": {
          "base_uri": "https://localhost:8080/"
        },
        "id": "Yqgj4MJPIypU",
        "outputId": "e5774da6-8d60-46f0-cf56-cf929ac8f5a9"
      },
      "outputs": [
        {
          "output_type": "stream",
          "name": "stdout",
          "text": [
            "<class 'pandas.core.frame.DataFrame'>\n",
            "RangeIndex: 1661731 entries, 0 to 1661730\n",
            "Data columns (total 7 columns):\n",
            " #   Column             Non-Null Count    Dtype              \n",
            "---  ------             --------------    -----              \n",
            " 0   fare_amount        1661731 non-null  float32            \n",
            " 1   pickup_datetime    1661731 non-null  datetime64[ns, UTC]\n",
            " 2   pickup_longitude   1661731 non-null  float32            \n",
            " 3   pickup_latitude    1661731 non-null  float32            \n",
            " 4   dropoff_longitude  1661717 non-null  float32            \n",
            " 5   dropoff_latitude   1661717 non-null  float32            \n",
            " 6   passenger_count    1661731 non-null  uint8              \n",
            "dtypes: datetime64[ns, UTC](1), float32(5), uint8(1)\n",
            "memory usage: 46.0 MB\n"
          ]
        }
      ],
      "source": [
        "df.info()"
      ]
    },
    {
      "cell_type": "code",
      "execution_count": 30,
      "metadata": {
        "colab": {
          "base_uri": "https://localhost:8080/",
          "height": 300
        },
        "id": "nhDYTecoI4ad",
        "outputId": "1b328809-c7b0-44e8-f83f-7ea80a6bd2e7"
      },
      "outputs": [
        {
          "output_type": "execute_result",
          "data": {
            "text/plain": [
              "        fare_amount  pickup_longitude  pickup_latitude  dropoff_longitude  \\\n",
              "count  1.661731e+06      1.661731e+06     1.661731e+06       1.661717e+06   \n",
              "mean   1.135368e+01     -7.250970e+01     3.991889e+01      -7.251003e+01   \n",
              "std    9.836679e+00      1.282921e+01     1.052012e+01       1.306792e+01   \n",
              "min   -3.000000e+02     -3.439245e+03    -3.474112e+03      -3.367929e+03   \n",
              "25%    6.000000e+00     -7.399203e+01     4.073491e+01      -7.399140e+01   \n",
              "50%    8.500000e+00     -7.398180e+01     4.075266e+01      -7.398017e+01   \n",
              "75%    1.250000e+01     -7.396710e+01     4.076711e+01      -7.396368e+01   \n",
              "max    1.097480e+03      3.442185e+03     3.347260e+03       3.442185e+03   \n",
              "\n",
              "       dropoff_latitude  passenger_count  \n",
              "count      1.661717e+06     1.661731e+06  \n",
              "mean       3.991955e+01     1.685489e+00  \n",
              "std        1.029647e+01     1.328315e+00  \n",
              "min       -3.474112e+03     0.000000e+00  \n",
              "25%        4.073399e+01     1.000000e+00  \n",
              "50%        4.075313e+01     1.000000e+00  \n",
              "75%        4.076806e+01     2.000000e+00  \n",
              "max        3.351403e+03     2.080000e+02  "
            ],
            "text/html": [
              "\n",
              "  <div id=\"df-37ed65a1-37fa-4f03-aafa-fb6b7fb0c869\" class=\"colab-df-container\">\n",
              "    <div>\n",
              "<style scoped>\n",
              "    .dataframe tbody tr th:only-of-type {\n",
              "        vertical-align: middle;\n",
              "    }\n",
              "\n",
              "    .dataframe tbody tr th {\n",
              "        vertical-align: top;\n",
              "    }\n",
              "\n",
              "    .dataframe thead th {\n",
              "        text-align: right;\n",
              "    }\n",
              "</style>\n",
              "<table border=\"1\" class=\"dataframe\">\n",
              "  <thead>\n",
              "    <tr style=\"text-align: right;\">\n",
              "      <th></th>\n",
              "      <th>fare_amount</th>\n",
              "      <th>pickup_longitude</th>\n",
              "      <th>pickup_latitude</th>\n",
              "      <th>dropoff_longitude</th>\n",
              "      <th>dropoff_latitude</th>\n",
              "      <th>passenger_count</th>\n",
              "    </tr>\n",
              "  </thead>\n",
              "  <tbody>\n",
              "    <tr>\n",
              "      <th>count</th>\n",
              "      <td>1.661731e+06</td>\n",
              "      <td>1.661731e+06</td>\n",
              "      <td>1.661731e+06</td>\n",
              "      <td>1.661717e+06</td>\n",
              "      <td>1.661717e+06</td>\n",
              "      <td>1.661731e+06</td>\n",
              "    </tr>\n",
              "    <tr>\n",
              "      <th>mean</th>\n",
              "      <td>1.135368e+01</td>\n",
              "      <td>-7.250970e+01</td>\n",
              "      <td>3.991889e+01</td>\n",
              "      <td>-7.251003e+01</td>\n",
              "      <td>3.991955e+01</td>\n",
              "      <td>1.685489e+00</td>\n",
              "    </tr>\n",
              "    <tr>\n",
              "      <th>std</th>\n",
              "      <td>9.836679e+00</td>\n",
              "      <td>1.282921e+01</td>\n",
              "      <td>1.052012e+01</td>\n",
              "      <td>1.306792e+01</td>\n",
              "      <td>1.029647e+01</td>\n",
              "      <td>1.328315e+00</td>\n",
              "    </tr>\n",
              "    <tr>\n",
              "      <th>min</th>\n",
              "      <td>-3.000000e+02</td>\n",
              "      <td>-3.439245e+03</td>\n",
              "      <td>-3.474112e+03</td>\n",
              "      <td>-3.367929e+03</td>\n",
              "      <td>-3.474112e+03</td>\n",
              "      <td>0.000000e+00</td>\n",
              "    </tr>\n",
              "    <tr>\n",
              "      <th>25%</th>\n",
              "      <td>6.000000e+00</td>\n",
              "      <td>-7.399203e+01</td>\n",
              "      <td>4.073491e+01</td>\n",
              "      <td>-7.399140e+01</td>\n",
              "      <td>4.073399e+01</td>\n",
              "      <td>1.000000e+00</td>\n",
              "    </tr>\n",
              "    <tr>\n",
              "      <th>50%</th>\n",
              "      <td>8.500000e+00</td>\n",
              "      <td>-7.398180e+01</td>\n",
              "      <td>4.075266e+01</td>\n",
              "      <td>-7.398017e+01</td>\n",
              "      <td>4.075313e+01</td>\n",
              "      <td>1.000000e+00</td>\n",
              "    </tr>\n",
              "    <tr>\n",
              "      <th>75%</th>\n",
              "      <td>1.250000e+01</td>\n",
              "      <td>-7.396710e+01</td>\n",
              "      <td>4.076711e+01</td>\n",
              "      <td>-7.396368e+01</td>\n",
              "      <td>4.076806e+01</td>\n",
              "      <td>2.000000e+00</td>\n",
              "    </tr>\n",
              "    <tr>\n",
              "      <th>max</th>\n",
              "      <td>1.097480e+03</td>\n",
              "      <td>3.442185e+03</td>\n",
              "      <td>3.347260e+03</td>\n",
              "      <td>3.442185e+03</td>\n",
              "      <td>3.351403e+03</td>\n",
              "      <td>2.080000e+02</td>\n",
              "    </tr>\n",
              "  </tbody>\n",
              "</table>\n",
              "</div>\n",
              "    <div class=\"colab-df-buttons\">\n",
              "\n",
              "  <div class=\"colab-df-container\">\n",
              "    <button class=\"colab-df-convert\" onclick=\"convertToInteractive('df-37ed65a1-37fa-4f03-aafa-fb6b7fb0c869')\"\n",
              "            title=\"Convert this dataframe to an interactive table.\"\n",
              "            style=\"display:none;\">\n",
              "\n",
              "  <svg xmlns=\"http://www.w3.org/2000/svg\" height=\"24px\" viewBox=\"0 -960 960 960\">\n",
              "    <path d=\"M120-120v-720h720v720H120Zm60-500h600v-160H180v160Zm220 220h160v-160H400v160Zm0 220h160v-160H400v160ZM180-400h160v-160H180v160Zm440 0h160v-160H620v160ZM180-180h160v-160H180v160Zm440 0h160v-160H620v160Z\"/>\n",
              "  </svg>\n",
              "    </button>\n",
              "\n",
              "  <style>\n",
              "    .colab-df-container {\n",
              "      display:flex;\n",
              "      gap: 12px;\n",
              "    }\n",
              "\n",
              "    .colab-df-convert {\n",
              "      background-color: #E8F0FE;\n",
              "      border: none;\n",
              "      border-radius: 50%;\n",
              "      cursor: pointer;\n",
              "      display: none;\n",
              "      fill: #1967D2;\n",
              "      height: 32px;\n",
              "      padding: 0 0 0 0;\n",
              "      width: 32px;\n",
              "    }\n",
              "\n",
              "    .colab-df-convert:hover {\n",
              "      background-color: #E2EBFA;\n",
              "      box-shadow: 0px 1px 2px rgba(60, 64, 67, 0.3), 0px 1px 3px 1px rgba(60, 64, 67, 0.15);\n",
              "      fill: #174EA6;\n",
              "    }\n",
              "\n",
              "    .colab-df-buttons div {\n",
              "      margin-bottom: 4px;\n",
              "    }\n",
              "\n",
              "    [theme=dark] .colab-df-convert {\n",
              "      background-color: #3B4455;\n",
              "      fill: #D2E3FC;\n",
              "    }\n",
              "\n",
              "    [theme=dark] .colab-df-convert:hover {\n",
              "      background-color: #434B5C;\n",
              "      box-shadow: 0px 1px 3px 1px rgba(0, 0, 0, 0.15);\n",
              "      filter: drop-shadow(0px 1px 2px rgba(0, 0, 0, 0.3));\n",
              "      fill: #FFFFFF;\n",
              "    }\n",
              "  </style>\n",
              "\n",
              "    <script>\n",
              "      const buttonEl =\n",
              "        document.querySelector('#df-37ed65a1-37fa-4f03-aafa-fb6b7fb0c869 button.colab-df-convert');\n",
              "      buttonEl.style.display =\n",
              "        google.colab.kernel.accessAllowed ? 'block' : 'none';\n",
              "\n",
              "      async function convertToInteractive(key) {\n",
              "        const element = document.querySelector('#df-37ed65a1-37fa-4f03-aafa-fb6b7fb0c869');\n",
              "        const dataTable =\n",
              "          await google.colab.kernel.invokeFunction('convertToInteractive',\n",
              "                                                    [key], {});\n",
              "        if (!dataTable) return;\n",
              "\n",
              "        const docLinkHtml = 'Like what you see? Visit the ' +\n",
              "          '<a target=\"_blank\" href=https://colab.research.google.com/notebooks/data_table.ipynb>data table notebook</a>'\n",
              "          + ' to learn more about interactive tables.';\n",
              "        element.innerHTML = '';\n",
              "        dataTable['output_type'] = 'display_data';\n",
              "        await google.colab.output.renderOutput(dataTable, element);\n",
              "        const docLink = document.createElement('div');\n",
              "        docLink.innerHTML = docLinkHtml;\n",
              "        element.appendChild(docLink);\n",
              "      }\n",
              "    </script>\n",
              "  </div>\n",
              "\n",
              "\n",
              "<div id=\"df-eee8ad99-dd52-4ba2-ae76-89740351787f\">\n",
              "  <button class=\"colab-df-quickchart\" onclick=\"quickchart('df-eee8ad99-dd52-4ba2-ae76-89740351787f')\"\n",
              "            title=\"Suggest charts\"\n",
              "            style=\"display:none;\">\n",
              "\n",
              "<svg xmlns=\"http://www.w3.org/2000/svg\" height=\"24px\"viewBox=\"0 0 24 24\"\n",
              "     width=\"24px\">\n",
              "    <g>\n",
              "        <path d=\"M19 3H5c-1.1 0-2 .9-2 2v14c0 1.1.9 2 2 2h14c1.1 0 2-.9 2-2V5c0-1.1-.9-2-2-2zM9 17H7v-7h2v7zm4 0h-2V7h2v10zm4 0h-2v-4h2v4z\"/>\n",
              "    </g>\n",
              "</svg>\n",
              "  </button>\n",
              "\n",
              "<style>\n",
              "  .colab-df-quickchart {\n",
              "      --bg-color: #E8F0FE;\n",
              "      --fill-color: #1967D2;\n",
              "      --hover-bg-color: #E2EBFA;\n",
              "      --hover-fill-color: #174EA6;\n",
              "      --disabled-fill-color: #AAA;\n",
              "      --disabled-bg-color: #DDD;\n",
              "  }\n",
              "\n",
              "  [theme=dark] .colab-df-quickchart {\n",
              "      --bg-color: #3B4455;\n",
              "      --fill-color: #D2E3FC;\n",
              "      --hover-bg-color: #434B5C;\n",
              "      --hover-fill-color: #FFFFFF;\n",
              "      --disabled-bg-color: #3B4455;\n",
              "      --disabled-fill-color: #666;\n",
              "  }\n",
              "\n",
              "  .colab-df-quickchart {\n",
              "    background-color: var(--bg-color);\n",
              "    border: none;\n",
              "    border-radius: 50%;\n",
              "    cursor: pointer;\n",
              "    display: none;\n",
              "    fill: var(--fill-color);\n",
              "    height: 32px;\n",
              "    padding: 0;\n",
              "    width: 32px;\n",
              "  }\n",
              "\n",
              "  .colab-df-quickchart:hover {\n",
              "    background-color: var(--hover-bg-color);\n",
              "    box-shadow: 0 1px 2px rgba(60, 64, 67, 0.3), 0 1px 3px 1px rgba(60, 64, 67, 0.15);\n",
              "    fill: var(--button-hover-fill-color);\n",
              "  }\n",
              "\n",
              "  .colab-df-quickchart-complete:disabled,\n",
              "  .colab-df-quickchart-complete:disabled:hover {\n",
              "    background-color: var(--disabled-bg-color);\n",
              "    fill: var(--disabled-fill-color);\n",
              "    box-shadow: none;\n",
              "  }\n",
              "\n",
              "  .colab-df-spinner {\n",
              "    border: 2px solid var(--fill-color);\n",
              "    border-color: transparent;\n",
              "    border-bottom-color: var(--fill-color);\n",
              "    animation:\n",
              "      spin 1s steps(1) infinite;\n",
              "  }\n",
              "\n",
              "  @keyframes spin {\n",
              "    0% {\n",
              "      border-color: transparent;\n",
              "      border-bottom-color: var(--fill-color);\n",
              "      border-left-color: var(--fill-color);\n",
              "    }\n",
              "    20% {\n",
              "      border-color: transparent;\n",
              "      border-left-color: var(--fill-color);\n",
              "      border-top-color: var(--fill-color);\n",
              "    }\n",
              "    30% {\n",
              "      border-color: transparent;\n",
              "      border-left-color: var(--fill-color);\n",
              "      border-top-color: var(--fill-color);\n",
              "      border-right-color: var(--fill-color);\n",
              "    }\n",
              "    40% {\n",
              "      border-color: transparent;\n",
              "      border-right-color: var(--fill-color);\n",
              "      border-top-color: var(--fill-color);\n",
              "    }\n",
              "    60% {\n",
              "      border-color: transparent;\n",
              "      border-right-color: var(--fill-color);\n",
              "    }\n",
              "    80% {\n",
              "      border-color: transparent;\n",
              "      border-right-color: var(--fill-color);\n",
              "      border-bottom-color: var(--fill-color);\n",
              "    }\n",
              "    90% {\n",
              "      border-color: transparent;\n",
              "      border-bottom-color: var(--fill-color);\n",
              "    }\n",
              "  }\n",
              "</style>\n",
              "\n",
              "  <script>\n",
              "    async function quickchart(key) {\n",
              "      const quickchartButtonEl =\n",
              "        document.querySelector('#' + key + ' button');\n",
              "      quickchartButtonEl.disabled = true;  // To prevent multiple clicks.\n",
              "      quickchartButtonEl.classList.add('colab-df-spinner');\n",
              "      try {\n",
              "        const charts = await google.colab.kernel.invokeFunction(\n",
              "            'suggestCharts', [key], {});\n",
              "      } catch (error) {\n",
              "        console.error('Error during call to suggestCharts:', error);\n",
              "      }\n",
              "      quickchartButtonEl.classList.remove('colab-df-spinner');\n",
              "      quickchartButtonEl.classList.add('colab-df-quickchart-complete');\n",
              "    }\n",
              "    (() => {\n",
              "      let quickchartButtonEl =\n",
              "        document.querySelector('#df-eee8ad99-dd52-4ba2-ae76-89740351787f button');\n",
              "      quickchartButtonEl.style.display =\n",
              "        google.colab.kernel.accessAllowed ? 'block' : 'none';\n",
              "    })();\n",
              "  </script>\n",
              "</div>\n",
              "\n",
              "    </div>\n",
              "  </div>\n"
            ],
            "application/vnd.google.colaboratory.intrinsic+json": {
              "type": "dataframe",
              "summary": "{\n  \"name\": \"df\",\n  \"rows\": 8,\n  \"fields\": [\n    {\n      \"column\": \"fare_amount\",\n      \"properties\": {\n        \"dtype\": \"number\",\n        \"std\": 587468.0615292321,\n        \"min\": -300.0,\n        \"max\": 1661731.0,\n        \"num_unique_values\": 8,\n        \"samples\": [\n          11.353681564331055,\n          8.5,\n          1661731.0\n        ],\n        \"semantic_type\": \"\",\n        \"description\": \"\"\n      }\n    },\n    {\n      \"column\": \"pickup_longitude\",\n      \"properties\": {\n        \"dtype\": \"number\",\n        \"std\": 587527.5846905537,\n        \"min\": -3439.2451171875,\n        \"max\": 1661731.0,\n        \"num_unique_values\": 8,\n        \"samples\": [\n          -72.50969696044922,\n          -73.98179626464844,\n          1661731.0\n        ],\n        \"semantic_type\": \"\",\n        \"description\": \"\"\n      }\n    },\n    {\n      \"column\": \"pickup_latitude\",\n      \"properties\": {\n        \"dtype\": \"number\",\n        \"std\": 587511.1442744206,\n        \"min\": -3474.112060546875,\n        \"max\": 1661731.0,\n        \"num_unique_values\": 8,\n        \"samples\": [\n          39.918888092041016,\n          40.75265884399414,\n          1661731.0\n        ],\n        \"semantic_type\": \"\",\n        \"description\": \"\"\n      }\n    },\n    {\n      \"column\": \"dropoff_longitude\",\n      \"properties\": {\n        \"dtype\": \"number\",\n        \"std\": 587518.9622571786,\n        \"min\": -3367.929443359375,\n        \"max\": 1661717.0,\n        \"num_unique_values\": 8,\n        \"samples\": [\n          -72.5100326538086,\n          -73.98017120361328,\n          1661717.0\n        ],\n        \"semantic_type\": \"\",\n        \"description\": \"\"\n      }\n    },\n    {\n      \"column\": \"dropoff_latitude\",\n      \"properties\": {\n        \"dtype\": \"number\",\n        \"std\": 587505.9999240513,\n        \"min\": -3474.112060546875,\n        \"max\": 1661717.0,\n        \"num_unique_values\": 8,\n        \"samples\": [\n          39.919551849365234,\n          40.75312805175781,\n          1661717.0\n        ],\n        \"semantic_type\": \"\",\n        \"description\": \"\"\n      }\n    },\n    {\n      \"column\": \"passenger_count\",\n      \"properties\": {\n        \"dtype\": \"number\",\n        \"std\": 587499.7739252317,\n        \"min\": 0.0,\n        \"max\": 1661731.0,\n        \"num_unique_values\": 7,\n        \"samples\": [\n          1661731.0,\n          1.6854894083338399,\n          2.0\n        ],\n        \"semantic_type\": \"\",\n        \"description\": \"\"\n      }\n    }\n  ]\n}"
            }
          },
          "metadata": {},
          "execution_count": 30
        }
      ],
      "source": [
        "df.describe()"
      ]
    },
    {
      "cell_type": "markdown",
      "metadata": {
        "id": "-p8upbpF9jq9"
      },
      "source": [
        "Time Period of Records"
      ]
    },
    {
      "cell_type": "code",
      "execution_count": 31,
      "metadata": {
        "colab": {
          "base_uri": "https://localhost:8080/"
        },
        "id": "u-D9VPRTJSwG",
        "outputId": "5e798e24-6e90-4a5d-c15d-940652241103"
      },
      "outputs": [
        {
          "output_type": "execute_result",
          "data": {
            "text/plain": [
              "(Timestamp('2009-01-01 00:11:46+0000', tz='UTC'),\n",
              " Timestamp('2015-06-30 23:59:54+0000', tz='UTC'))"
            ]
          },
          "metadata": {},
          "execution_count": 31
        }
      ],
      "source": [
        "df.pickup_datetime.min(), df.pickup_datetime.max()"
      ]
    },
    {
      "cell_type": "markdown",
      "metadata": {
        "id": "BYdbuH73QeYT"
      },
      "source": [
        "Distribution of number of records in each year"
      ]
    },
    {
      "cell_type": "code",
      "execution_count": 32,
      "metadata": {
        "colab": {
          "base_uri": "https://localhost:8080/",
          "height": 447
        },
        "id": "FMA_5e3pKQvm",
        "outputId": "0fc17012-2a98-4bdc-9468-8b179d0dae0b"
      },
      "outputs": [
        {
          "output_type": "execute_result",
          "data": {
            "text/plain": [
              "<Axes: ylabel='pickup_datetime'>"
            ]
          },
          "metadata": {},
          "execution_count": 32
        },
        {
          "output_type": "display_data",
          "data": {
            "text/plain": [
              "<Figure size 640x480 with 1 Axes>"
            ],
            "image/png": "[encoded data removed]"
          },
          "metadata": {}
        }
      ],
      "source": [
        "df.pickup_datetime.dt.year.value_counts().plot(kind='barh')"
      ]
    },
    {
      "cell_type": "markdown",
      "metadata": {
        "id": "qRVv8FuP9-EG"
      },
      "source": [
        "Number of rows from each year are quite uniform, except for year 2015 as the dataset was recorded till June, 2015"
      ]
    },
    {
      "cell_type": "markdown",
      "metadata": {
        "id": "cg9YHkjAQo_s"
      },
      "source": [
        "Percentage of weekend trips"
      ]
    },
    {
      "cell_type": "code",
      "execution_count": 33,
      "metadata": {
        "colab": {
          "base_uri": "https://localhost:8080/"
        },
        "id": "umvOJT2kKrxe",
        "outputId": "fdac8d0d-bdbf-4973-eec3-af277d8c881c"
      },
      "outputs": [
        {
          "output_type": "execute_result",
          "data": {
            "text/plain": [
              "28.249698657604633"
            ]
          },
          "metadata": {},
          "execution_count": 33
        }
      ],
      "source": [
        "len(df[df.pickup_datetime.dt.dayofweek.isin([5,6])])/len(df)*100"
      ]
    },
    {
      "cell_type": "markdown",
      "metadata": {
        "id": "Og1BoM_sJlLi"
      },
      "source": [
        "####Test Data"
      ]
    },
    {
      "cell_type": "code",
      "execution_count": 34,
      "metadata": {
        "colab": {
          "base_uri": "https://localhost:8080/",
          "height": 206
        },
        "id": "plFfgLgbQTH7",
        "outputId": "ffef8fae-0ef9-4bc3-de01-eeeba1a5ee89"
      },
      "outputs": [
        {
          "output_type": "execute_result",
          "data": {
            "text/plain": [
              "                           key           pickup_datetime  pickup_longitude  \\\n",
              "0  2015-01-27 13:08:24.0000002 2015-01-27 13:08:24+00:00        -73.973320   \n",
              "1  2015-01-27 13:08:24.0000003 2015-01-27 13:08:24+00:00        -73.986862   \n",
              "2  2011-10-08 11:53:44.0000002 2011-10-08 11:53:44+00:00        -73.982521   \n",
              "3  2012-12-01 21:12:12.0000002 2012-12-01 21:12:12+00:00        -73.981163   \n",
              "4  2012-12-01 21:12:12.0000003 2012-12-01 21:12:12+00:00        -73.966049   \n",
              "\n",
              "   pickup_latitude  dropoff_longitude  dropoff_latitude  passenger_count  \n",
              "0        40.763805         -73.981430         40.743835                1  \n",
              "1        40.719383         -73.998886         40.739201                1  \n",
              "2        40.751259         -73.979652         40.746140                1  \n",
              "3        40.767807         -73.990448         40.751637                1  \n",
              "4        40.789776         -73.988564         40.744427                1  "
            ],
            "text/html": [
              "\n",
              "  <div id=\"df-1af36e47-fdc7-4a08-91eb-9e0237f46c7b\" class=\"colab-df-container\">\n",
              "    <div>\n",
              "<style scoped>\n",
              "    .dataframe tbody tr th:only-of-type {\n",
              "        vertical-align: middle;\n",
              "    }\n",
              "\n",
              "    .dataframe tbody tr th {\n",
              "        vertical-align: top;\n",
              "    }\n",
              "\n",
              "    .dataframe thead th {\n",
              "        text-align: right;\n",
              "    }\n",
              "</style>\n",
              "<table border=\"1\" class=\"dataframe\">\n",
              "  <thead>\n",
              "    <tr style=\"text-align: right;\">\n",
              "      <th></th>\n",
              "      <th>key</th>\n",
              "      <th>pickup_datetime</th>\n",
              "      <th>pickup_longitude</th>\n",
              "      <th>pickup_latitude</th>\n",
              "      <th>dropoff_longitude</th>\n",
              "      <th>dropoff_latitude</th>\n",
              "      <th>passenger_count</th>\n",
              "    </tr>\n",
              "  </thead>\n",
              "  <tbody>\n",
              "    <tr>\n",
              "      <th>0</th>\n",
              "      <td>2015-01-27 13:08:24.0000002</td>\n",
              "      <td>2015-01-27 13:08:24+00:00</td>\n",
              "      <td>-73.973320</td>\n",
              "      <td>40.763805</td>\n",
              "      <td>-73.981430</td>\n",
              "      <td>40.743835</td>\n",
              "      <td>1</td>\n",
              "    </tr>\n",
              "    <tr>\n",
              "      <th>1</th>\n",
              "      <td>2015-01-27 13:08:24.0000003</td>\n",
              "      <td>2015-01-27 13:08:24+00:00</td>\n",
              "      <td>-73.986862</td>\n",
              "      <td>40.719383</td>\n",
              "      <td>-73.998886</td>\n",
              "      <td>40.739201</td>\n",
              "      <td>1</td>\n",
              "    </tr>\n",
              "    <tr>\n",
              "      <th>2</th>\n",
              "      <td>2011-10-08 11:53:44.0000002</td>\n",
              "      <td>2011-10-08 11:53:44+00:00</td>\n",
              "      <td>-73.982521</td>\n",
              "      <td>40.751259</td>\n",
              "      <td>-73.979652</td>\n",
              "      <td>40.746140</td>\n",
              "      <td>1</td>\n",
              "    </tr>\n",
              "    <tr>\n",
              "      <th>3</th>\n",
              "      <td>2012-12-01 21:12:12.0000002</td>\n",
              "      <td>2012-12-01 21:12:12+00:00</td>\n",
              "      <td>-73.981163</td>\n",
              "      <td>40.767807</td>\n",
              "      <td>-73.990448</td>\n",
              "      <td>40.751637</td>\n",
              "      <td>1</td>\n",
              "    </tr>\n",
              "    <tr>\n",
              "      <th>4</th>\n",
              "      <td>2012-12-01 21:12:12.0000003</td>\n",
              "      <td>2012-12-01 21:12:12+00:00</td>\n",
              "      <td>-73.966049</td>\n",
              "      <td>40.789776</td>\n",
              "      <td>-73.988564</td>\n",
              "      <td>40.744427</td>\n",
              "      <td>1</td>\n",
              "    </tr>\n",
              "  </tbody>\n",
              "</table>\n",
              "</div>\n",
              "    <div class=\"colab-df-buttons\">\n",
              "\n",
              "  <div class=\"colab-df-container\">\n",
              "    <button class=\"colab-df-convert\" onclick=\"convertToInteractive('df-1af36e47-fdc7-4a08-91eb-9e0237f46c7b')\"\n",
              "            title=\"Convert this dataframe to an interactive table.\"\n",
              "            style=\"display:none;\">\n",
              "\n",
              "  <svg xmlns=\"http://www.w3.org/2000/svg\" height=\"24px\" viewBox=\"0 -960 960 960\">\n",
              "    <path d=\"M120-120v-720h720v720H120Zm60-500h600v-160H180v160Zm220 220h160v-160H400v160Zm0 220h160v-160H400v160ZM180-400h160v-160H180v160Zm440 0h160v-160H620v160ZM180-180h160v-160H180v160Zm440 0h160v-160H620v160Z\"/>\n",
              "  </svg>\n",
              "    </button>\n",
              "\n",
              "  <style>\n",
              "    .colab-df-container {\n",
              "      display:flex;\n",
              "      gap: 12px;\n",
              "    }\n",
              "\n",
              "    .colab-df-convert {\n",
              "      background-color: #E8F0FE;\n",
              "      border: none;\n",
              "      border-radius: 50%;\n",
              "      cursor: pointer;\n",
              "      display: none;\n",
              "      fill: #1967D2;\n",
              "      height: 32px;\n",
              "      padding: 0 0 0 0;\n",
              "      width: 32px;\n",
              "    }\n",
              "\n",
              "    .colab-df-convert:hover {\n",
              "      background-color: #E2EBFA;\n",
              "      box-shadow: 0px 1px 2px rgba(60, 64, 67, 0.3), 0px 1px 3px 1px rgba(60, 64, 67, 0.15);\n",
              "      fill: #174EA6;\n",
              "    }\n",
              "\n",
              "    .colab-df-buttons div {\n",
              "      margin-bottom: 4px;\n",
              "    }\n",
              "\n",
              "    [theme=dark] .colab-df-convert {\n",
              "      background-color: #3B4455;\n",
              "      fill: #D2E3FC;\n",
              "    }\n",
              "\n",
              "    [theme=dark] .colab-df-convert:hover {\n",
              "      background-color: #434B5C;\n",
              "      box-shadow: 0px 1px 3px 1px rgba(0, 0, 0, 0.15);\n",
              "      filter: drop-shadow(0px 1px 2px rgba(0, 0, 0, 0.3));\n",
              "      fill: #FFFFFF;\n",
              "    }\n",
              "  </style>\n",
              "\n",
              "    <script>\n",
              "      const buttonEl =\n",
              "        document.querySelector('#df-1af36e47-fdc7-4a08-91eb-9e0237f46c7b button.colab-df-convert');\n",
              "      buttonEl.style.display =\n",
              "        google.colab.kernel.accessAllowed ? 'block' : 'none';\n",
              "\n",
              "      async function convertToInteractive(key) {\n",
              "        const element = document.querySelector('#df-1af36e47-fdc7-4a08-91eb-9e0237f46c7b');\n",
              "        const dataTable =\n",
              "          await google.colab.kernel.invokeFunction('convertToInteractive',\n",
              "                                                    [key], {});\n",
              "        if (!dataTable) return;\n",
              "\n",
              "        const docLinkHtml = 'Like what you see? Visit the ' +\n",
              "          '<a target=\"_blank\" href=https://colab.research.google.com/notebooks/data_table.ipynb>data table notebook</a>'\n",
              "          + ' to learn more about interactive tables.';\n",
              "        element.innerHTML = '';\n",
              "        dataTable['output_type'] = 'display_data';\n",
              "        await google.colab.output.renderOutput(dataTable, element);\n",
              "        const docLink = document.createElement('div');\n",
              "        docLink.innerHTML = docLinkHtml;\n",
              "        element.appendChild(docLink);\n",
              "      }\n",
              "    </script>\n",
              "  </div>\n",
              "\n",
              "\n",
              "<div id=\"df-93bb8c1b-1865-4f54-b287-781d99140de0\">\n",
              "  <button class=\"colab-df-quickchart\" onclick=\"quickchart('df-93bb8c1b-1865-4f54-b287-781d99140de0')\"\n",
              "            title=\"Suggest charts\"\n",
              "            style=\"display:none;\">\n",
              "\n",
              "<svg xmlns=\"http://www.w3.org/2000/svg\" height=\"24px\"viewBox=\"0 0 24 24\"\n",
              "     width=\"24px\">\n",
              "    <g>\n",
              "        <path d=\"M19 3H5c-1.1 0-2 .9-2 2v14c0 1.1.9 2 2 2h14c1.1 0 2-.9 2-2V5c0-1.1-.9-2-2-2zM9 17H7v-7h2v7zm4 0h-2V7h2v10zm4 0h-2v-4h2v4z\"/>\n",
              "    </g>\n",
              "</svg>\n",
              "  </button>\n",
              "\n",
              "<style>\n",
              "  .colab-df-quickchart {\n",
              "      --bg-color: #E8F0FE;\n",
              "      --fill-color: #1967D2;\n",
              "      --hover-bg-color: #E2EBFA;\n",
              "      --hover-fill-color: #174EA6;\n",
              "      --disabled-fill-color: #AAA;\n",
              "      --disabled-bg-color: #DDD;\n",
              "  }\n",
              "\n",
              "  [theme=dark] .colab-df-quickchart {\n",
              "      --bg-color: #3B4455;\n",
              "      --fill-color: #D2E3FC;\n",
              "      --hover-bg-color: #434B5C;\n",
              "      --hover-fill-color: #FFFFFF;\n",
              "      --disabled-bg-color: #3B4455;\n",
              "      --disabled-fill-color: #666;\n",
              "  }\n",
              "\n",
              "  .colab-df-quickchart {\n",
              "    background-color: var(--bg-color);\n",
              "    border: none;\n",
              "    border-radius: 50%;\n",
              "    cursor: pointer;\n",
              "    display: none;\n",
              "    fill: var(--fill-color);\n",
              "    height: 32px;\n",
              "    padding: 0;\n",
              "    width: 32px;\n",
              "  }\n",
              "\n",
              "  .colab-df-quickchart:hover {\n",
              "    background-color: var(--hover-bg-color);\n",
              "    box-shadow: 0 1px 2px rgba(60, 64, 67, 0.3), 0 1px 3px 1px rgba(60, 64, 67, 0.15);\n",
              "    fill: var(--button-hover-fill-color);\n",
              "  }\n",
              "\n",
              "  .colab-df-quickchart-complete:disabled,\n",
              "  .colab-df-quickchart-complete:disabled:hover {\n",
              "    background-color: var(--disabled-bg-color);\n",
              "    fill: var(--disabled-fill-color);\n",
              "    box-shadow: none;\n",
              "  }\n",
              "\n",
              "  .colab-df-spinner {\n",
              "    border: 2px solid var(--fill-color);\n",
              "    border-color: transparent;\n",
              "    border-bottom-color: var(--fill-color);\n",
              "    animation:\n",
              "      spin 1s steps(1) infinite;\n",
              "  }\n",
              "\n",
              "  @keyframes spin {\n",
              "    0% {\n",
              "      border-color: transparent;\n",
              "      border-bottom-color: var(--fill-color);\n",
              "      border-left-color: var(--fill-color);\n",
              "    }\n",
              "    20% {\n",
              "      border-color: transparent;\n",
              "      border-left-color: var(--fill-color);\n",
              "      border-top-color: var(--fill-color);\n",
              "    }\n",
              "    30% {\n",
              "      border-color: transparent;\n",
              "      border-left-color: var(--fill-color);\n",
              "      border-top-color: var(--fill-color);\n",
              "      border-right-color: var(--fill-color);\n",
              "    }\n",
              "    40% {\n",
              "      border-color: transparent;\n",
              "      border-right-color: var(--fill-color);\n",
              "      border-top-color: var(--fill-color);\n",
              "    }\n",
              "    60% {\n",
              "      border-color: transparent;\n",
              "      border-right-color: var(--fill-color);\n",
              "    }\n",
              "    80% {\n",
              "      border-color: transparent;\n",
              "      border-right-color: var(--fill-color);\n",
              "      border-bottom-color: var(--fill-color);\n",
              "    }\n",
              "    90% {\n",
              "      border-color: transparent;\n",
              "      border-bottom-color: var(--fill-color);\n",
              "    }\n",
              "  }\n",
              "</style>\n",
              "\n",
              "  <script>\n",
              "    async function quickchart(key) {\n",
              "      const quickchartButtonEl =\n",
              "        document.querySelector('#' + key + ' button');\n",
              "      quickchartButtonEl.disabled = true;  // To prevent multiple clicks.\n",
              "      quickchartButtonEl.classList.add('colab-df-spinner');\n",
              "      try {\n",
              "        const charts = await google.colab.kernel.invokeFunction(\n",
              "            'suggestCharts', [key], {});\n",
              "      } catch (error) {\n",
              "        console.error('Error during call to suggestCharts:', error);\n",
              "      }\n",
              "      quickchartButtonEl.classList.remove('colab-df-spinner');\n",
              "      quickchartButtonEl.classList.add('colab-df-quickchart-complete');\n",
              "    }\n",
              "    (() => {\n",
              "      let quickchartButtonEl =\n",
              "        document.querySelector('#df-93bb8c1b-1865-4f54-b287-781d99140de0 button');\n",
              "      quickchartButtonEl.style.display =\n",
              "        google.colab.kernel.accessAllowed ? 'block' : 'none';\n",
              "    })();\n",
              "  </script>\n",
              "</div>\n",
              "\n",
              "    </div>\n",
              "  </div>\n"
            ],
            "application/vnd.google.colaboratory.intrinsic+json": {
              "type": "dataframe",
              "variable_name": "test_df",
              "summary": "{\n  \"name\": \"test_df\",\n  \"rows\": 9914,\n  \"fields\": [\n    {\n      \"column\": \"key\",\n      \"properties\": {\n        \"dtype\": \"object\",\n        \"num_unique_values\": 9914,\n        \"samples\": [\n          \"2012-01-26 07:33:00.000000147\",\n          \"2012-10-15 20:10:31.0000005\",\n          \"2009-06-10 16:55:00.000000139\"\n        ],\n        \"semantic_type\": \"\",\n        \"description\": \"\"\n      }\n    },\n    {\n      \"column\": \"pickup_datetime\",\n      \"properties\": {\n        \"dtype\": \"date\",\n        \"min\": \"2009-01-01 11:04:24+00:00\",\n        \"max\": \"2015-06-30 20:03:50+00:00\",\n        \"num_unique_values\": 1753,\n        \"samples\": [\n          \"2010-12-01 08:35:20+00:00\",\n          \"2012-05-31 13:14:12+00:00\",\n          \"2013-06-05 01:34:56+00:00\"\n        ],\n        \"semantic_type\": \"\",\n        \"description\": \"\"\n      }\n    },\n    {\n      \"column\": \"pickup_longitude\",\n      \"properties\": {\n        \"dtype\": \"float32\",\n        \"num_unique_values\": 5894,\n        \"samples\": [\n          -74.0028076171875,\n          -74.0020523071289,\n          -73.99974060058594\n        ],\n        \"semantic_type\": \"\",\n        \"description\": \"\"\n      }\n    },\n    {\n      \"column\": \"pickup_latitude\",\n      \"properties\": {\n        \"dtype\": \"float32\",\n        \"num_unique_values\": 7857,\n        \"samples\": [\n          40.753414154052734,\n          40.73805236816406,\n          40.7579231262207\n        ],\n        \"semantic_type\": \"\",\n        \"description\": \"\"\n      }\n    },\n    {\n      \"column\": \"dropoff_longitude\",\n      \"properties\": {\n        \"dtype\": \"float32\",\n        \"num_unique_values\": 6174,\n        \"samples\": [\n          -73.97686767578125,\n          -73.97747802734375,\n          -73.78315734863281\n        ],\n        \"semantic_type\": \"\",\n        \"description\": \"\"\n      }\n    },\n    {\n      \"column\": \"dropoff_latitude\",\n      \"properties\": {\n        \"dtype\": \"float32\",\n        \"num_unique_values\": 8124,\n        \"samples\": [\n          40.76008224487305,\n          40.713375091552734,\n          40.7858772277832\n        ],\n        \"semantic_type\": \"\",\n        \"description\": \"\"\n      }\n    },\n    {\n      \"column\": \"passenger_count\",\n      \"properties\": {\n        \"dtype\": \"uint8\",\n        \"num_unique_values\": 6,\n        \"samples\": [\n          1,\n          2,\n          6\n        ],\n        \"semantic_type\": \"\",\n        \"description\": \"\"\n      }\n    }\n  ]\n}"
            }
          },
          "metadata": {},
          "execution_count": 34
        }
      ],
      "source": [
        "test_df.head()"
      ]
    },
    {
      "cell_type": "code",
      "execution_count": 35,
      "metadata": {
        "colab": {
          "base_uri": "https://localhost:8080/"
        },
        "id": "iSSMI6ppJm9W",
        "outputId": "679b4815-ff80-4cdf-f28d-78fa1f0f4f7a"
      },
      "outputs": [
        {
          "output_type": "stream",
          "name": "stdout",
          "text": [
            "<class 'pandas.core.frame.DataFrame'>\n",
            "RangeIndex: 9914 entries, 0 to 9913\n",
            "Data columns (total 7 columns):\n",
            " #   Column             Non-Null Count  Dtype              \n",
            "---  ------             --------------  -----              \n",
            " 0   key                9914 non-null   object             \n",
            " 1   pickup_datetime    9914 non-null   datetime64[ns, UTC]\n",
            " 2   pickup_longitude   9914 non-null   float32            \n",
            " 3   pickup_latitude    9914 non-null   float32            \n",
            " 4   dropoff_longitude  9914 non-null   float32            \n",
            " 5   dropoff_latitude   9914 non-null   float32            \n",
            " 6   passenger_count    9914 non-null   uint8              \n",
            "dtypes: datetime64[ns, UTC](1), float32(4), object(1), uint8(1)\n",
            "memory usage: 319.6+ KB\n"
          ]
        }
      ],
      "source": [
        "test_df.info()"
      ]
    },
    {
      "cell_type": "code",
      "execution_count": 36,
      "metadata": {
        "colab": {
          "base_uri": "https://localhost:8080/",
          "height": 300
        },
        "id": "14h7JM8SJpWZ",
        "outputId": "b4d5d97e-9695-4a5c-871a-e6072c525295"
      },
      "outputs": [
        {
          "output_type": "execute_result",
          "data": {
            "text/plain": [
              "       pickup_longitude  pickup_latitude  dropoff_longitude  dropoff_latitude  \\\n",
              "count       9914.000000      9914.000000        9914.000000       9914.000000   \n",
              "mean         -73.974716        40.751041         -73.973656         40.751740   \n",
              "std            0.042774         0.033541           0.039072          0.035435   \n",
              "min          -74.252190        40.573143         -74.263245         40.568974   \n",
              "25%          -73.992500        40.736125         -73.991249         40.735253   \n",
              "50%          -73.982327        40.753052         -73.980015         40.754065   \n",
              "75%          -73.968012        40.767113         -73.964062         40.768757   \n",
              "max          -72.986534        41.709557         -72.990967         41.696682   \n",
              "\n",
              "       passenger_count  \n",
              "count      9914.000000  \n",
              "mean          1.671273  \n",
              "std           1.278747  \n",
              "min           1.000000  \n",
              "25%           1.000000  \n",
              "50%           1.000000  \n",
              "75%           2.000000  \n",
              "max           6.000000  "
            ],
            "text/html": [
              "\n",
              "  <div id=\"df-e5fe61a2-8eab-484c-b4bf-6d406ee6d1ce\" class=\"colab-df-container\">\n",
              "    <div>\n",
              "<style scoped>\n",
              "    .dataframe tbody tr th:only-of-type {\n",
              "        vertical-align: middle;\n",
              "    }\n",
              "\n",
              "    .dataframe tbody tr th {\n",
              "        vertical-align: top;\n",
              "    }\n",
              "\n",
              "    .dataframe thead th {\n",
              "        text-align: right;\n",
              "    }\n",
              "</style>\n",
              "<table border=\"1\" class=\"dataframe\">\n",
              "  <thead>\n",
              "    <tr style=\"text-align: right;\">\n",
              "      <th></th>\n",
              "      <th>pickup_longitude</th>\n",
              "      <th>pickup_latitude</th>\n",
              "      <th>dropoff_longitude</th>\n",
              "      <th>dropoff_latitude</th>\n",
              "      <th>passenger_count</th>\n",
              "    </tr>\n",
              "  </thead>\n",
              "  <tbody>\n",
              "    <tr>\n",
              "      <th>count</th>\n",
              "      <td>9914.000000</td>\n",
              "      <td>9914.000000</td>\n",
              "      <td>9914.000000</td>\n",
              "      <td>9914.000000</td>\n",
              "      <td>9914.000000</td>\n",
              "    </tr>\n",
              "    <tr>\n",
              "      <th>mean</th>\n",
              "      <td>-73.974716</td>\n",
              "      <td>40.751041</td>\n",
              "      <td>-73.973656</td>\n",
              "      <td>40.751740</td>\n",
              "      <td>1.671273</td>\n",
              "    </tr>\n",
              "    <tr>\n",
              "      <th>std</th>\n",
              "      <td>0.042774</td>\n",
              "      <td>0.033541</td>\n",
              "      <td>0.039072</td>\n",
              "      <td>0.035435</td>\n",
              "      <td>1.278747</td>\n",
              "    </tr>\n",
              "    <tr>\n",
              "      <th>min</th>\n",
              "      <td>-74.252190</td>\n",
              "      <td>40.573143</td>\n",
              "      <td>-74.263245</td>\n",
              "      <td>40.568974</td>\n",
              "      <td>1.000000</td>\n",
              "    </tr>\n",
              "    <tr>\n",
              "      <th>25%</th>\n",
              "      <td>-73.992500</td>\n",
              "      <td>40.736125</td>\n",
              "      <td>-73.991249</td>\n",
              "      <td>40.735253</td>\n",
              "      <td>1.000000</td>\n",
              "    </tr>\n",
              "    <tr>\n",
              "      <th>50%</th>\n",
              "      <td>-73.982327</td>\n",
              "      <td>40.753052</td>\n",
              "      <td>-73.980015</td>\n",
              "      <td>40.754065</td>\n",
              "      <td>1.000000</td>\n",
              "    </tr>\n",
              "    <tr>\n",
              "      <th>75%</th>\n",
              "      <td>-73.968012</td>\n",
              "      <td>40.767113</td>\n",
              "      <td>-73.964062</td>\n",
              "      <td>40.768757</td>\n",
              "      <td>2.000000</td>\n",
              "    </tr>\n",
              "    <tr>\n",
              "      <th>max</th>\n",
              "      <td>-72.986534</td>\n",
              "      <td>41.709557</td>\n",
              "      <td>-72.990967</td>\n",
              "      <td>41.696682</td>\n",
              "      <td>6.000000</td>\n",
              "    </tr>\n",
              "  </tbody>\n",
              "</table>\n",
              "</div>\n",
              "    <div class=\"colab-df-buttons\">\n",
              "\n",
              "  <div class=\"colab-df-container\">\n",
              "    <button class=\"colab-df-convert\" onclick=\"convertToInteractive('df-e5fe61a2-8eab-484c-b4bf-6d406ee6d1ce')\"\n",
              "            title=\"Convert this dataframe to an interactive table.\"\n",
              "            style=\"display:none;\">\n",
              "\n",
              "  <svg xmlns=\"http://www.w3.org/2000/svg\" height=\"24px\" viewBox=\"0 -960 960 960\">\n",
              "    <path d=\"M120-120v-720h720v720H120Zm60-500h600v-160H180v160Zm220 220h160v-160H400v160Zm0 220h160v-160H400v160ZM180-400h160v-160H180v160Zm440 0h160v-160H620v160ZM180-180h160v-160H180v160Zm440 0h160v-160H620v160Z\"/>\n",
              "  </svg>\n",
              "    </button>\n",
              "\n",
              "  <style>\n",
              "    .colab-df-container {\n",
              "      display:flex;\n",
              "      gap: 12px;\n",
              "    }\n",
              "\n",
              "    .colab-df-convert {\n",
              "      background-color: #E8F0FE;\n",
              "      border: none;\n",
              "      border-radius: 50%;\n",
              "      cursor: pointer;\n",
              "      display: none;\n",
              "      fill: #1967D2;\n",
              "      height: 32px;\n",
              "      padding: 0 0 0 0;\n",
              "      width: 32px;\n",
              "    }\n",
              "\n",
              "    .colab-df-convert:hover {\n",
              "      background-color: #E2EBFA;\n",
              "      box-shadow: 0px 1px 2px rgba(60, 64, 67, 0.3), 0px 1px 3px 1px rgba(60, 64, 67, 0.15);\n",
              "      fill: #174EA6;\n",
              "    }\n",
              "\n",
              "    .colab-df-buttons div {\n",
              "      margin-bottom: 4px;\n",
              "    }\n",
              "\n",
              "    [theme=dark] .colab-df-convert {\n",
              "      background-color: #3B4455;\n",
              "      fill: #D2E3FC;\n",
              "    }\n",
              "\n",
              "    [theme=dark] .colab-df-convert:hover {\n",
              "      background-color: #434B5C;\n",
              "      box-shadow: 0px 1px 3px 1px rgba(0, 0, 0, 0.15);\n",
              "      filter: drop-shadow(0px 1px 2px rgba(0, 0, 0, 0.3));\n",
              "      fill: #FFFFFF;\n",
              "    }\n",
              "  </style>\n",
              "\n",
              "    <script>\n",
              "      const buttonEl =\n",
              "        document.querySelector('#df-e5fe61a2-8eab-484c-b4bf-6d406ee6d1ce button.colab-df-convert');\n",
              "      buttonEl.style.display =\n",
              "        google.colab.kernel.accessAllowed ? 'block' : 'none';\n",
              "\n",
              "      async function convertToInteractive(key) {\n",
              "        const element = document.querySelector('#df-e5fe61a2-8eab-484c-b4bf-6d406ee6d1ce');\n",
              "        const dataTable =\n",
              "          await google.colab.kernel.invokeFunction('convertToInteractive',\n",
              "                                                    [key], {});\n",
              "        if (!dataTable) return;\n",
              "\n",
              "        const docLinkHtml = 'Like what you see? Visit the ' +\n",
              "          '<a target=\"_blank\" href=https://colab.research.google.com/notebooks/data_table.ipynb>data table notebook</a>'\n",
              "          + ' to learn more about interactive tables.';\n",
              "        element.innerHTML = '';\n",
              "        dataTable['output_type'] = 'display_data';\n",
              "        await google.colab.output.renderOutput(dataTable, element);\n",
              "        const docLink = document.createElement('div');\n",
              "        docLink.innerHTML = docLinkHtml;\n",
              "        element.appendChild(docLink);\n",
              "      }\n",
              "    </script>\n",
              "  </div>\n",
              "\n",
              "\n",
              "<div id=\"df-141e28ad-0590-49ce-8b73-68ad70a64cc8\">\n",
              "  <button class=\"colab-df-quickchart\" onclick=\"quickchart('df-141e28ad-0590-49ce-8b73-68ad70a64cc8')\"\n",
              "            title=\"Suggest charts\"\n",
              "            style=\"display:none;\">\n",
              "\n",
              "<svg xmlns=\"http://www.w3.org/2000/svg\" height=\"24px\"viewBox=\"0 0 24 24\"\n",
              "     width=\"24px\">\n",
              "    <g>\n",
              "        <path d=\"M19 3H5c-1.1 0-2 .9-2 2v14c0 1.1.9 2 2 2h14c1.1 0 2-.9 2-2V5c0-1.1-.9-2-2-2zM9 17H7v-7h2v7zm4 0h-2V7h2v10zm4 0h-2v-4h2v4z\"/>\n",
              "    </g>\n",
              "</svg>\n",
              "  </button>\n",
              "\n",
              "<style>\n",
              "  .colab-df-quickchart {\n",
              "      --bg-color: #E8F0FE;\n",
              "      --fill-color: #1967D2;\n",
              "      --hover-bg-color: #E2EBFA;\n",
              "      --hover-fill-color: #174EA6;\n",
              "      --disabled-fill-color: #AAA;\n",
              "      --disabled-bg-color: #DDD;\n",
              "  }\n",
              "\n",
              "  [theme=dark] .colab-df-quickchart {\n",
              "      --bg-color: #3B4455;\n",
              "      --fill-color: #D2E3FC;\n",
              "      --hover-bg-color: #434B5C;\n",
              "      --hover-fill-color: #FFFFFF;\n",
              "      --disabled-bg-color: #3B4455;\n",
              "      --disabled-fill-color: #666;\n",
              "  }\n",
              "\n",
              "  .colab-df-quickchart {\n",
              "    background-color: var(--bg-color);\n",
              "    border: none;\n",
              "    border-radius: 50%;\n",
              "    cursor: pointer;\n",
              "    display: none;\n",
              "    fill: var(--fill-color);\n",
              "    height: 32px;\n",
              "    padding: 0;\n",
              "    width: 32px;\n",
              "  }\n",
              "\n",
              "  .colab-df-quickchart:hover {\n",
              "    background-color: var(--hover-bg-color);\n",
              "    box-shadow: 0 1px 2px rgba(60, 64, 67, 0.3), 0 1px 3px 1px rgba(60, 64, 67, 0.15);\n",
              "    fill: var(--button-hover-fill-color);\n",
              "  }\n",
              "\n",
              "  .colab-df-quickchart-complete:disabled,\n",
              "  .colab-df-quickchart-complete:disabled:hover {\n",
              "    background-color: var(--disabled-bg-color);\n",
              "    fill: var(--disabled-fill-color);\n",
              "    box-shadow: none;\n",
              "  }\n",
              "\n",
              "  .colab-df-spinner {\n",
              "    border: 2px solid var(--fill-color);\n",
              "    border-color: transparent;\n",
              "    border-bottom-color: var(--fill-color);\n",
              "    animation:\n",
              "      spin 1s steps(1) infinite;\n",
              "  }\n",
              "\n",
              "  @keyframes spin {\n",
              "    0% {\n",
              "      border-color: transparent;\n",
              "      border-bottom-color: var(--fill-color);\n",
              "      border-left-color: var(--fill-color);\n",
              "    }\n",
              "    20% {\n",
              "      border-color: transparent;\n",
              "      border-left-color: var(--fill-color);\n",
              "      border-top-color: var(--fill-color);\n",
              "    }\n",
              "    30% {\n",
              "      border-color: transparent;\n",
              "      border-left-color: var(--fill-color);\n",
              "      border-top-color: var(--fill-color);\n",
              "      border-right-color: var(--fill-color);\n",
              "    }\n",
              "    40% {\n",
              "      border-color: transparent;\n",
              "      border-right-color: var(--fill-color);\n",
              "      border-top-color: var(--fill-color);\n",
              "    }\n",
              "    60% {\n",
              "      border-color: transparent;\n",
              "      border-right-color: var(--fill-color);\n",
              "    }\n",
              "    80% {\n",
              "      border-color: transparent;\n",
              "      border-right-color: var(--fill-color);\n",
              "      border-bottom-color: var(--fill-color);\n",
              "    }\n",
              "    90% {\n",
              "      border-color: transparent;\n",
              "      border-bottom-color: var(--fill-color);\n",
              "    }\n",
              "  }\n",
              "</style>\n",
              "\n",
              "  <script>\n",
              "    async function quickchart(key) {\n",
              "      const quickchartButtonEl =\n",
              "        document.querySelector('#' + key + ' button');\n",
              "      quickchartButtonEl.disabled = true;  // To prevent multiple clicks.\n",
              "      quickchartButtonEl.classList.add('colab-df-spinner');\n",
              "      try {\n",
              "        const charts = await google.colab.kernel.invokeFunction(\n",
              "            'suggestCharts', [key], {});\n",
              "      } catch (error) {\n",
              "        console.error('Error during call to suggestCharts:', error);\n",
              "      }\n",
              "      quickchartButtonEl.classList.remove('colab-df-spinner');\n",
              "      quickchartButtonEl.classList.add('colab-df-quickchart-complete');\n",
              "    }\n",
              "    (() => {\n",
              "      let quickchartButtonEl =\n",
              "        document.querySelector('#df-141e28ad-0590-49ce-8b73-68ad70a64cc8 button');\n",
              "      quickchartButtonEl.style.display =\n",
              "        google.colab.kernel.accessAllowed ? 'block' : 'none';\n",
              "    })();\n",
              "  </script>\n",
              "</div>\n",
              "\n",
              "    </div>\n",
              "  </div>\n"
            ],
            "application/vnd.google.colaboratory.intrinsic+json": {
              "type": "dataframe",
              "summary": "{\n  \"name\": \"test_df\",\n  \"rows\": 8,\n  \"fields\": [\n    {\n      \"column\": \"pickup_longitude\",\n      \"properties\": {\n        \"dtype\": \"number\",\n        \"std\": 3527.603736406376,\n        \"min\": -74.25218963623047,\n        \"max\": 9914.0,\n        \"num_unique_values\": 8,\n        \"samples\": [\n          -73.97471618652344,\n          -73.98232650756836,\n          9914.0\n        ],\n        \"semantic_type\": \"\",\n        \"description\": \"\"\n      }\n    },\n    {\n      \"column\": \"pickup_latitude\",\n      \"properties\": {\n        \"dtype\": \"number\",\n        \"std\": 3492.7668685471854,\n        \"min\": 0.0335414856672287,\n        \"max\": 9914.0,\n        \"num_unique_values\": 8,\n        \"samples\": [\n          40.751041412353516,\n          40.7530517578125,\n          9914.0\n        ],\n        \"semantic_type\": \"\",\n        \"description\": \"\"\n      }\n    },\n    {\n      \"column\": \"dropoff_longitude\",\n      \"properties\": {\n        \"dtype\": \"number\",\n        \"std\": 3527.6042660359194,\n        \"min\": -74.26324462890625,\n        \"max\": 9914.0,\n        \"num_unique_values\": 8,\n        \"samples\": [\n          -73.9736557006836,\n          -73.98001480102539,\n          9914.0\n        ],\n        \"semantic_type\": \"\",\n        \"description\": \"\"\n      }\n    },\n    {\n      \"column\": \"dropoff_latitude\",\n      \"properties\": {\n        \"dtype\": \"number\",\n        \"std\": 3492.7675017420042,\n        \"min\": 0.035435210913419724,\n        \"max\": 9914.0,\n        \"num_unique_values\": 8,\n        \"samples\": [\n          40.751739501953125,\n          40.75406455993652,\n          9914.0\n        ],\n        \"semantic_type\": \"\",\n        \"description\": \"\"\n      }\n    },\n    {\n      \"column\": \"passenger_count\",\n      \"properties\": {\n        \"dtype\": \"number\",\n        \"std\": 3504.4241319953294,\n        \"min\": 1.0,\n        \"max\": 9914.0,\n        \"num_unique_values\": 6,\n        \"samples\": [\n          9914.0,\n          1.671272947347186,\n          6.0\n        ],\n        \"semantic_type\": \"\",\n        \"description\": \"\"\n      }\n    }\n  ]\n}"
            }
          },
          "metadata": {},
          "execution_count": 36
        }
      ],
      "source": [
        "test_df.describe()"
      ]
    },
    {
      "cell_type": "markdown",
      "metadata": {
        "id": "3HwOSVDvQXp2"
      },
      "source": [
        "Time period of test records"
      ]
    },
    {
      "cell_type": "code",
      "execution_count": 37,
      "metadata": {
        "colab": {
          "base_uri": "https://localhost:8080/"
        },
        "id": "7-AG29nBJvVz",
        "outputId": "6ce6c78c-a3cc-4b91-de0f-be7eaa0ba3d5"
      },
      "outputs": [
        {
          "output_type": "execute_result",
          "data": {
            "text/plain": [
              "(Timestamp('2009-01-01 11:04:24+0000', tz='UTC'),\n",
              " Timestamp('2015-06-30 20:03:50+0000', tz='UTC'))"
            ]
          },
          "metadata": {},
          "execution_count": 37
        }
      ],
      "source": [
        "test_df.pickup_datetime.min(),test_df.pickup_datetime.max()"
      ]
    },
    {
      "cell_type": "markdown",
      "metadata": {
        "id": "OyWyWlwI-MKO"
      },
      "source": [
        "28% records are of weekends"
      ]
    },
    {
      "cell_type": "markdown",
      "metadata": {
        "id": "RcqEV86EP-8X"
      },
      "source": [
        "####Fuel Data"
      ]
    },
    {
      "cell_type": "code",
      "execution_count": 38,
      "metadata": {
        "colab": {
          "base_uri": "https://localhost:8080/",
          "height": 206
        },
        "id": "AnAymkcxQC-l",
        "outputId": "090d7297-14ec-4e10-d5de-d51e9e56bda1"
      },
      "outputs": [
        {
          "output_type": "execute_result",
          "data": {
            "text/plain": [
              "        Date  New York State Average ($/gal)\n",
              "0 2019-08-26                            3.18\n",
              "1 2019-08-19                            3.19\n",
              "2 2019-08-12                            3.20\n",
              "3 2019-08-05                            3.21\n",
              "4 2019-07-29                            3.22"
            ],
            "text/html": [
              "\n",
              "  <div id=\"df-7334844b-1d33-4225-aeb8-85a49ca3db8b\" class=\"colab-df-container\">\n",
              "    <div>\n",
              "<style scoped>\n",
              "    .dataframe tbody tr th:only-of-type {\n",
              "        vertical-align: middle;\n",
              "    }\n",
              "\n",
              "    .dataframe tbody tr th {\n",
              "        vertical-align: top;\n",
              "    }\n",
              "\n",
              "    .dataframe thead th {\n",
              "        text-align: right;\n",
              "    }\n",
              "</style>\n",
              "<table border=\"1\" class=\"dataframe\">\n",
              "  <thead>\n",
              "    <tr style=\"text-align: right;\">\n",
              "      <th></th>\n",
              "      <th>Date</th>\n",
              "      <th>New York State Average ($/gal)</th>\n",
              "    </tr>\n",
              "  </thead>\n",
              "  <tbody>\n",
              "    <tr>\n",
              "      <th>0</th>\n",
              "      <td>2019-08-26</td>\n",
              "      <td>3.18</td>\n",
              "    </tr>\n",
              "    <tr>\n",
              "      <th>1</th>\n",
              "      <td>2019-08-19</td>\n",
              "      <td>3.19</td>\n",
              "    </tr>\n",
              "    <tr>\n",
              "      <th>2</th>\n",
              "      <td>2019-08-12</td>\n",
              "      <td>3.20</td>\n",
              "    </tr>\n",
              "    <tr>\n",
              "      <th>3</th>\n",
              "      <td>2019-08-05</td>\n",
              "      <td>3.21</td>\n",
              "    </tr>\n",
              "    <tr>\n",
              "      <th>4</th>\n",
              "      <td>2019-07-29</td>\n",
              "      <td>3.22</td>\n",
              "    </tr>\n",
              "  </tbody>\n",
              "</table>\n",
              "</div>\n",
              "    <div class=\"colab-df-buttons\">\n",
              "\n",
              "  <div class=\"colab-df-container\">\n",
              "    <button class=\"colab-df-convert\" onclick=\"convertToInteractive('df-7334844b-1d33-4225-aeb8-85a49ca3db8b')\"\n",
              "            title=\"Convert this dataframe to an interactive table.\"\n",
              "            style=\"display:none;\">\n",
              "\n",
              "  <svg xmlns=\"http://www.w3.org/2000/svg\" height=\"24px\" viewBox=\"0 -960 960 960\">\n",
              "    <path d=\"M120-120v-720h720v720H120Zm60-500h600v-160H180v160Zm220 220h160v-160H400v160Zm0 220h160v-160H400v160ZM180-400h160v-160H180v160Zm440 0h160v-160H620v160ZM180-180h160v-160H180v160Zm440 0h160v-160H620v160Z\"/>\n",
              "  </svg>\n",
              "    </button>\n",
              "\n",
              "  <style>\n",
              "    .colab-df-container {\n",
              "      display:flex;\n",
              "      gap: 12px;\n",
              "    }\n",
              "\n",
              "    .colab-df-convert {\n",
              "      background-color: #E8F0FE;\n",
              "      border: none;\n",
              "      border-radius: 50%;\n",
              "      cursor: pointer;\n",
              "      display: none;\n",
              "      fill: #1967D2;\n",
              "      height: 32px;\n",
              "      padding: 0 0 0 0;\n",
              "      width: 32px;\n",
              "    }\n",
              "\n",
              "    .colab-df-convert:hover {\n",
              "      background-color: #E2EBFA;\n",
              "      box-shadow: 0px 1px 2px rgba(60, 64, 67, 0.3), 0px 1px 3px 1px rgba(60, 64, 67, 0.15);\n",
              "      fill: #174EA6;\n",
              "    }\n",
              "\n",
              "    .colab-df-buttons div {\n",
              "      margin-bottom: 4px;\n",
              "    }\n",
              "\n",
              "    [theme=dark] .colab-df-convert {\n",
              "      background-color: #3B4455;\n",
              "      fill: #D2E3FC;\n",
              "    }\n",
              "\n",
              "    [theme=dark] .colab-df-convert:hover {\n",
              "      background-color: #434B5C;\n",
              "      box-shadow: 0px 1px 3px 1px rgba(0, 0, 0, 0.15);\n",
              "      filter: drop-shadow(0px 1px 2px rgba(0, 0, 0, 0.3));\n",
              "      fill: #FFFFFF;\n",
              "    }\n",
              "  </style>\n",
              "\n",
              "    <script>\n",
              "      const buttonEl =\n",
              "        document.querySelector('#df-7334844b-1d33-4225-aeb8-85a49ca3db8b button.colab-df-convert');\n",
              "      buttonEl.style.display =\n",
              "        google.colab.kernel.accessAllowed ? 'block' : 'none';\n",
              "\n",
              "      async function convertToInteractive(key) {\n",
              "        const element = document.querySelector('#df-7334844b-1d33-4225-aeb8-85a49ca3db8b');\n",
              "        const dataTable =\n",
              "          await google.colab.kernel.invokeFunction('convertToInteractive',\n",
              "                                                    [key], {});\n",
              "        if (!dataTable) return;\n",
              "\n",
              "        const docLinkHtml = 'Like what you see? Visit the ' +\n",
              "          '<a target=\"_blank\" href=https://colab.research.google.com/notebooks/data_table.ipynb>data table notebook</a>'\n",
              "          + ' to learn more about interactive tables.';\n",
              "        element.innerHTML = '';\n",
              "        dataTable['output_type'] = 'display_data';\n",
              "        await google.colab.output.renderOutput(dataTable, element);\n",
              "        const docLink = document.createElement('div');\n",
              "        docLink.innerHTML = docLinkHtml;\n",
              "        element.appendChild(docLink);\n",
              "      }\n",
              "    </script>\n",
              "  </div>\n",
              "\n",
              "\n",
              "<div id=\"df-a64af758-f5d8-4b79-b9b0-0293cfafb521\">\n",
              "  <button class=\"colab-df-quickchart\" onclick=\"quickchart('df-a64af758-f5d8-4b79-b9b0-0293cfafb521')\"\n",
              "            title=\"Suggest charts\"\n",
              "            style=\"display:none;\">\n",
              "\n",
              "<svg xmlns=\"http://www.w3.org/2000/svg\" height=\"24px\"viewBox=\"0 0 24 24\"\n",
              "     width=\"24px\">\n",
              "    <g>\n",
              "        <path d=\"M19 3H5c-1.1 0-2 .9-2 2v14c0 1.1.9 2 2 2h14c1.1 0 2-.9 2-2V5c0-1.1-.9-2-2-2zM9 17H7v-7h2v7zm4 0h-2V7h2v10zm4 0h-2v-4h2v4z\"/>\n",
              "    </g>\n",
              "</svg>\n",
              "  </button>\n",
              "\n",
              "<style>\n",
              "  .colab-df-quickchart {\n",
              "      --bg-color: #E8F0FE;\n",
              "      --fill-color: #1967D2;\n",
              "      --hover-bg-color: #E2EBFA;\n",
              "      --hover-fill-color: #174EA6;\n",
              "      --disabled-fill-color: #AAA;\n",
              "      --disabled-bg-color: #DDD;\n",
              "  }\n",
              "\n",
              "  [theme=dark] .colab-df-quickchart {\n",
              "      --bg-color: #3B4455;\n",
              "      --fill-color: #D2E3FC;\n",
              "      --hover-bg-color: #434B5C;\n",
              "      --hover-fill-color: #FFFFFF;\n",
              "      --disabled-bg-color: #3B4455;\n",
              "      --disabled-fill-color: #666;\n",
              "  }\n",
              "\n",
              "  .colab-df-quickchart {\n",
              "    background-color: var(--bg-color);\n",
              "    border: none;\n",
              "    border-radius: 50%;\n",
              "    cursor: pointer;\n",
              "    display: none;\n",
              "    fill: var(--fill-color);\n",
              "    height: 32px;\n",
              "    padding: 0;\n",
              "    width: 32px;\n",
              "  }\n",
              "\n",
              "  .colab-df-quickchart:hover {\n",
              "    background-color: var(--hover-bg-color);\n",
              "    box-shadow: 0 1px 2px rgba(60, 64, 67, 0.3), 0 1px 3px 1px rgba(60, 64, 67, 0.15);\n",
              "    fill: var(--button-hover-fill-color);\n",
              "  }\n",
              "\n",
              "  .colab-df-quickchart-complete:disabled,\n",
              "  .colab-df-quickchart-complete:disabled:hover {\n",
              "    background-color: var(--disabled-bg-color);\n",
              "    fill: var(--disabled-fill-color);\n",
              "    box-shadow: none;\n",
              "  }\n",
              "\n",
              "  .colab-df-spinner {\n",
              "    border: 2px solid var(--fill-color);\n",
              "    border-color: transparent;\n",
              "    border-bottom-color: var(--fill-color);\n",
              "    animation:\n",
              "      spin 1s steps(1) infinite;\n",
              "  }\n",
              "\n",
              "  @keyframes spin {\n",
              "    0% {\n",
              "      border-color: transparent;\n",
              "      border-bottom-color: var(--fill-color);\n",
              "      border-left-color: var(--fill-color);\n",
              "    }\n",
              "    20% {\n",
              "      border-color: transparent;\n",
              "      border-left-color: var(--fill-color);\n",
              "      border-top-color: var(--fill-color);\n",
              "    }\n",
              "    30% {\n",
              "      border-color: transparent;\n",
              "      border-left-color: var(--fill-color);\n",
              "      border-top-color: var(--fill-color);\n",
              "      border-right-color: var(--fill-color);\n",
              "    }\n",
              "    40% {\n",
              "      border-color: transparent;\n",
              "      border-right-color: var(--fill-color);\n",
              "      border-top-color: var(--fill-color);\n",
              "    }\n",
              "    60% {\n",
              "      border-color: transparent;\n",
              "      border-right-color: var(--fill-color);\n",
              "    }\n",
              "    80% {\n",
              "      border-color: transparent;\n",
              "      border-right-color: var(--fill-color);\n",
              "      border-bottom-color: var(--fill-color);\n",
              "    }\n",
              "    90% {\n",
              "      border-color: transparent;\n",
              "      border-bottom-color: var(--fill-color);\n",
              "    }\n",
              "  }\n",
              "</style>\n",
              "\n",
              "  <script>\n",
              "    async function quickchart(key) {\n",
              "      const quickchartButtonEl =\n",
              "        document.querySelector('#' + key + ' button');\n",
              "      quickchartButtonEl.disabled = true;  // To prevent multiple clicks.\n",
              "      quickchartButtonEl.classList.add('colab-df-spinner');\n",
              "      try {\n",
              "        const charts = await google.colab.kernel.invokeFunction(\n",
              "            'suggestCharts', [key], {});\n",
              "      } catch (error) {\n",
              "        console.error('Error during call to suggestCharts:', error);\n",
              "      }\n",
              "      quickchartButtonEl.classList.remove('colab-df-spinner');\n",
              "      quickchartButtonEl.classList.add('colab-df-quickchart-complete');\n",
              "    }\n",
              "    (() => {\n",
              "      let quickchartButtonEl =\n",
              "        document.querySelector('#df-a64af758-f5d8-4b79-b9b0-0293cfafb521 button');\n",
              "      quickchartButtonEl.style.display =\n",
              "        google.colab.kernel.accessAllowed ? 'block' : 'none';\n",
              "    })();\n",
              "  </script>\n",
              "</div>\n",
              "\n",
              "    </div>\n",
              "  </div>\n"
            ],
            "application/vnd.google.colaboratory.intrinsic+json": {
              "type": "dataframe",
              "variable_name": "df_fuel",
              "summary": "{\n  \"name\": \"df_fuel\",\n  \"rows\": 618,\n  \"fields\": [\n    {\n      \"column\": \"Date\",\n      \"properties\": {\n        \"dtype\": \"date\",\n        \"min\": \"2007-10-29 00:00:00\",\n        \"max\": \"2019-08-26 00:00:00\",\n        \"num_unique_values\": 618,\n        \"samples\": [\n          \"2018-09-17 00:00:00\",\n          \"2008-06-30 00:00:00\",\n          \"2018-01-29 00:00:00\"\n        ],\n        \"semantic_type\": \"\",\n        \"description\": \"\"\n      }\n    },\n    {\n      \"column\": \"New York State Average ($/gal)\",\n      \"properties\": {\n        \"dtype\": \"number\",\n        \"std\": 0.6876698227397902,\n        \"min\": 2.3,\n        \"max\": 5.13,\n        \"num_unique_values\": 192,\n        \"samples\": [\n          2.74,\n          4.04,\n          2.8\n        ],\n        \"semantic_type\": \"\",\n        \"description\": \"\"\n      }\n    }\n  ]\n}"
            }
          },
          "metadata": {},
          "execution_count": 38
        }
      ],
      "source": [
        "df_fuel.head()"
      ]
    },
    {
      "cell_type": "code",
      "execution_count": 39,
      "metadata": {
        "colab": {
          "base_uri": "https://localhost:8080/"
        },
        "id": "pzEAQOLAVRG8",
        "outputId": "742f2568-ef74-4ba0-9987-eef328e5ebbe"
      },
      "outputs": [
        {
          "output_type": "execute_result",
          "data": {
            "text/plain": [
              "618"
            ]
          },
          "metadata": {},
          "execution_count": 39
        }
      ],
      "source": [
        "len(df_fuel)"
      ]
    },
    {
      "cell_type": "markdown",
      "metadata": {
        "id": "0PJaKvHMVNCC"
      },
      "source": [
        "Time period of fuel data records"
      ]
    },
    {
      "cell_type": "code",
      "execution_count": 40,
      "metadata": {
        "colab": {
          "base_uri": "https://localhost:8080/"
        },
        "id": "n0OWpOPjRUBf",
        "outputId": "ff8b91c0-2945-4454-ee7b-4d66cef2ff25"
      },
      "outputs": [
        {
          "output_type": "execute_result",
          "data": {
            "text/plain": [
              "(2007, 2019)"
            ]
          },
          "metadata": {},
          "execution_count": 40
        }
      ],
      "source": [
        "df_fuel.Date.dt.year.min(), df_fuel.Date.dt.year.max()"
      ]
    },
    {
      "cell_type": "code",
      "execution_count": 41,
      "metadata": {
        "colab": {
          "base_uri": "https://localhost:8080/",
          "height": 430
        },
        "id": "mSgVnUJ3Q35_",
        "outputId": "6c30bb74-e099-40e4-8f10-d139b478f6f5"
      },
      "outputs": [
        {
          "output_type": "display_data",
          "data": {
            "text/plain": [
              "<Figure size 640x480 with 1 Axes>"
            ],
            "image/png": "[encoded data removed]"
          },
          "metadata": {}
        }
      ],
      "source": [
        "plt.plot(df_fuel.Date.dt.date.values,df_fuel['New York State Average ($/gal)'].values)\n",
        "plt.show()"
      ]
    },
    {
      "cell_type": "markdown",
      "metadata": {
        "id": "o2V5IbGMKsW4"
      },
      "source": [
        "##3. Preparing the dataset for Machine Learning"
      ]
    },
    {
      "cell_type": "markdown",
      "metadata": {
        "id": "bARAeeA8KyOJ"
      },
      "source": [
        "###Splitting Training & Validation Set"
      ]
    },
    {
      "cell_type": "code",
      "execution_count": 42,
      "metadata": {
        "id": "GdTTzoHkK108"
      },
      "outputs": [],
      "source": [
        "X = df.iloc[:,1:].values\n",
        "y = df.iloc[:,1].values"
      ]
    },
    {
      "cell_type": "code",
      "execution_count": 43,
      "metadata": {
        "id": "Pd3prTnQLZ-1"
      },
      "outputs": [],
      "source": [
        "from sklearn.model_selection import train_test_split\n",
        "train_df, val_df = train_test_split(df, test_size=0.2,random_state=42)"
      ]
    },
    {
      "cell_type": "code",
      "execution_count": 44,
      "metadata": {
        "colab": {
          "base_uri": "https://localhost:8080/"
        },
        "id": "MxvozWffLnuW",
        "outputId": "16ecc478-0844-4102-fea3-78f312397876"
      },
      "outputs": [
        {
          "output_type": "execute_result",
          "data": {
            "text/plain": [
              "(1329384, 332347)"
            ]
          },
          "metadata": {},
          "execution_count": 44
        }
      ],
      "source": [
        "len(train_df), len(val_df)"
      ]
    },
    {
      "cell_type": "markdown",
      "metadata": {
        "id": "EMjLABXeL0nO"
      },
      "source": [
        "###Filling/Removing Missing Values"
      ]
    },
    {
      "cell_type": "code",
      "execution_count": 45,
      "metadata": {
        "colab": {
          "base_uri": "https://localhost:8080/"
        },
        "id": "ts62wVa4LvBr",
        "outputId": "2c65e8be-1020-4d55-8e81-97ac72624bd4"
      },
      "outputs": [
        {
          "output_type": "stream",
          "name": "stdout",
          "text": [
            "fare_amount           0\n",
            "pickup_datetime       0\n",
            "pickup_longitude      0\n",
            "pickup_latitude       0\n",
            "dropoff_longitude    13\n",
            "dropoff_latitude     13\n",
            "passenger_count       0\n",
            "dtype: int64\n",
            "1329384\n",
            "fare_amount          0\n",
            "pickup_datetime      0\n",
            "pickup_longitude     0\n",
            "pickup_latitude      0\n",
            "dropoff_longitude    1\n",
            "dropoff_latitude     1\n",
            "passenger_count      0\n",
            "dtype: int64\n",
            "332347\n"
          ]
        }
      ],
      "source": [
        "print(train_df.isna().sum())\n",
        "print(len(train_df))\n",
        "print(val_df.isna().sum())\n",
        "print(len(val_df))"
      ]
    },
    {
      "cell_type": "code",
      "execution_count": 46,
      "metadata": {
        "id": "4-LN8k6ZMGKB"
      },
      "outputs": [],
      "source": [
        "#As the number of missing values is very less compared to the total size of the dataset, we drop the rows with null values\n",
        "train_df = train_df.dropna()\n",
        "val_df = val_df.dropna()"
      ]
    },
    {
      "cell_type": "code",
      "execution_count": 47,
      "metadata": {
        "colab": {
          "base_uri": "https://localhost:8080/"
        },
        "id": "k2_aJZmiNEnn",
        "outputId": "02014714-7552-461c-8614-ac0cd3826222"
      },
      "outputs": [
        {
          "output_type": "execute_result",
          "data": {
            "text/plain": [
              "Index(['fare_amount', 'pickup_datetime', 'pickup_longitude', 'pickup_latitude',\n",
              "       'dropoff_longitude', 'dropoff_latitude', 'passenger_count'],\n",
              "      dtype='object')"
            ]
          },
          "metadata": {},
          "execution_count": 47
        }
      ],
      "source": [
        "train_df.columns"
      ]
    },
    {
      "cell_type": "code",
      "execution_count": 48,
      "metadata": {
        "id": "SU6q_nKdRW0p"
      },
      "outputs": [],
      "source": [
        "input_cols = ['pickup_longitude', 'pickup_latitude',\n",
        "       'dropoff_longitude', 'dropoff_latitude', 'passenger_count']"
      ]
    },
    {
      "cell_type": "code",
      "execution_count": 49,
      "metadata": {
        "id": "f7_e-mpsReJC"
      },
      "outputs": [],
      "source": [
        "target_col = 'fare_amount'"
      ]
    },
    {
      "cell_type": "markdown",
      "metadata": {
        "id": "QvuOr5-FRqnt"
      },
      "source": [
        "###Training"
      ]
    },
    {
      "cell_type": "code",
      "execution_count": 50,
      "metadata": {
        "id": "6fHEUKRSRmB6"
      },
      "outputs": [],
      "source": [
        "train_inputs = train_df[input_cols]"
      ]
    },
    {
      "cell_type": "code",
      "execution_count": 51,
      "metadata": {
        "id": "abXrEWA3R6cd"
      },
      "outputs": [],
      "source": [
        "train_targets = train_df[target_col]"
      ]
    },
    {
      "cell_type": "markdown",
      "metadata": {
        "id": "AYCpxF_0SCcO"
      },
      "source": [
        "####Validation"
      ]
    },
    {
      "cell_type": "code",
      "execution_count": 52,
      "metadata": {
        "id": "JzeogQRESECf"
      },
      "outputs": [],
      "source": [
        "val_inputs = val_df[input_cols]"
      ]
    },
    {
      "cell_type": "code",
      "execution_count": 53,
      "metadata": {
        "id": "xnlqxcAqSHZN"
      },
      "outputs": [],
      "source": [
        "val_targets = val_df[target_col]"
      ]
    },
    {
      "cell_type": "markdown",
      "metadata": {
        "id": "LyqmxFjLSi7L"
      },
      "source": [
        "###Testing"
      ]
    },
    {
      "cell_type": "code",
      "execution_count": 55,
      "metadata": {
        "id": "rcbhONfOSmSQ"
      },
      "outputs": [],
      "source": [
        "test_inputs = test_df[input_cols]"
      ]
    },
    {
      "cell_type": "markdown",
      "metadata": {
        "id": "fOUOcFkWS7un"
      },
      "source": [
        "##4. Training Hardcoded & Baseline Models"
      ]
    },
    {
      "cell_type": "markdown",
      "metadata": {
        "id": "0qT2NFoNttVg"
      },
      "source": [
        "- It is necessary to have a base model which will provide us the minimum performance that we should get.                                       \n",
        "- We obtain that minimum performance by simply predicting the fare amount for all trips as the mean of all the fare amounts in training set.\n",
        "- This will help in evaluating the performance of the models that we will build later."
      ]
    },
    {
      "cell_type": "code",
      "execution_count": 56,
      "metadata": {
        "id": "B9L7uf3SALvz"
      },
      "outputs": [],
      "source": [
        "class MeanRegressor:\n",
        "  def fit(self, inputs, targets):\n",
        "    self.mean = targets.mean()\n",
        "\n",
        "  def predict(self, inputs):\n",
        "    return np.full(inputs.shape[0],self.mean)"
      ]
    },
    {
      "cell_type": "code",
      "execution_count": 57,
      "metadata": {
        "id": "oK9-BZQPT0l4"
      },
      "outputs": [],
      "source": [
        "mean_model = MeanRegressor()"
      ]
    },
    {
      "cell_type": "code",
      "execution_count": 58,
      "metadata": {
        "id": "8HoFGsM1T-8h"
      },
      "outputs": [],
      "source": [
        "mean_model.fit(train_inputs, train_targets)"
      ]
    },
    {
      "cell_type": "code",
      "execution_count": 59,
      "metadata": {
        "colab": {
          "base_uri": "https://localhost:8080/"
        },
        "id": "PY3ByCnSUK7H",
        "outputId": "2e891e5c-0304-42b7-d606-0a0a9fa118f3"
      },
      "outputs": [
        {
          "output_type": "execute_result",
          "data": {
            "text/plain": [
              "11.352699"
            ]
          },
          "metadata": {},
          "execution_count": 59
        }
      ],
      "source": [
        "mean_model.mean"
      ]
    },
    {
      "cell_type": "code",
      "execution_count": 60,
      "metadata": {
        "id": "gNo_tN5WUJqq"
      },
      "outputs": [],
      "source": [
        "train_preds = mean_model.predict(train_inputs)"
      ]
    },
    {
      "cell_type": "code",
      "execution_count": 61,
      "metadata": {
        "id": "jINBu6_KUMac"
      },
      "outputs": [],
      "source": [
        "from sklearn.metrics import mean_squared_error"
      ]
    },
    {
      "cell_type": "code",
      "execution_count": 62,
      "metadata": {
        "id": "n2BTnA7SUWj3"
      },
      "outputs": [],
      "source": [
        "def rmse(targets,preds):\n",
        "  return mean_squared_error(targets, preds, squared=False)"
      ]
    },
    {
      "cell_type": "code",
      "execution_count": 63,
      "metadata": {
        "id": "YBr5dBRVUdi2"
      },
      "outputs": [],
      "source": [
        "train_rmse = rmse(train_targets, train_preds)"
      ]
    },
    {
      "cell_type": "code",
      "execution_count": 64,
      "metadata": {
        "colab": {
          "base_uri": "https://localhost:8080/"
        },
        "id": "A1Ernn_7U9ZM",
        "outputId": "fab02906-16b6-4771-893a-4b2917b1ce98"
      },
      "outputs": [
        {
          "output_type": "execute_result",
          "data": {
            "text/plain": [
              "9.843743"
            ]
          },
          "metadata": {},
          "execution_count": 64
        }
      ],
      "source": [
        "train_rmse"
      ]
    },
    {
      "cell_type": "code",
      "execution_count": 65,
      "metadata": {
        "id": "ccDQy60GUw1V"
      },
      "outputs": [],
      "source": [
        "val_preds = mean_model.predict(val_inputs)"
      ]
    },
    {
      "cell_type": "code",
      "execution_count": 66,
      "metadata": {
        "id": "-cwFt4Z5VHT9"
      },
      "outputs": [],
      "source": [
        "val_rmse = rmse(val_targets, val_preds)"
      ]
    },
    {
      "cell_type": "code",
      "execution_count": 67,
      "metadata": {
        "colab": {
          "base_uri": "https://localhost:8080/"
        },
        "id": "QHcLQym4VNe1",
        "outputId": "31d0c8ba-2ffc-4a68-c5f8-4d3b5d84f19f"
      },
      "outputs": [
        {
          "output_type": "execute_result",
          "data": {
            "text/plain": [
              "9.808499"
            ]
          },
          "metadata": {},
          "execution_count": 67
        }
      ],
      "source": [
        "val_rmse"
      ]
    },
    {
      "cell_type": "markdown",
      "metadata": {
        "id": "hHLW2_87X4LW"
      },
      "source": [
        "###Training a basic Linear Regression model"
      ]
    },
    {
      "cell_type": "code",
      "execution_count": 68,
      "metadata": {
        "colab": {
          "base_uri": "https://localhost:8080/",
          "height": 75
        },
        "id": "jjJTBbtgVPxx",
        "outputId": "f94f1ca0-c3a4-4b47-8e99-60db93be0897"
      },
      "outputs": [
        {
          "output_type": "execute_result",
          "data": {
            "text/plain": [
              "LinearRegression()"
            ],
            "text/html": [
              "<style>#sk-container-id-1 {color: black;background-color: white;}#sk-container-id-1 pre{padding: 0;}#sk-container-id-1 div.sk-toggleable {background-color: white;}#sk-container-id-1 label.sk-toggleable__label {cursor: pointer;display: block;width: 100%;margin-bottom: 0;padding: 0.3em;box-sizing: border-box;text-align: center;}#sk-container-id-1 label.sk-toggleable__label-arrow:before {content: \"▸\";float: left;margin-right: 0.25em;color: #696969;}#sk-container-id-1 label.sk-toggleable__label-arrow:hover:before {color: black;}#sk-container-id-1 div.sk-estimator:hover label.sk-toggleable__label-arrow:before {color: black;}#sk-container-id-1 div.sk-toggleable__content {max-height: 0;max-width: 0;overflow: hidden;text-align: left;background-color: #f0f8ff;}#sk-container-id-1 div.sk-toggleable__content pre {margin: 0.2em;color: black;border-radius: 0.25em;background-color: #f0f8ff;}#sk-container-id-1 input.sk-toggleable__control:checked~div.sk-toggleable__content {max-height: 200px;max-width: 100%;overflow: auto;}#sk-container-id-1 input.sk-toggleable__control:checked~label.sk-toggleable__label-arrow:before {content: \"▾\";}#sk-container-id-1 div.sk-estimator input.sk-toggleable__control:checked~label.sk-toggleable__label {background-color: #d4ebff;}#sk-container-id-1 div.sk-label input.sk-toggleable__control:checked~label.sk-toggleable__label {background-color: #d4ebff;}#sk-container-id-1 input.sk-hidden--visually {border: 0;clip: rect(1px 1px 1px 1px);clip: rect(1px, 1px, 1px, 1px);height: 1px;margin: -1px;overflow: hidden;padding: 0;position: absolute;width: 1px;}#sk-container-id-1 div.sk-estimator {font-family: monospace;background-color: #f0f8ff;border: 1px dotted black;border-radius: 0.25em;box-sizing: border-box;margin-bottom: 0.5em;}#sk-container-id-1 div.sk-estimator:hover {background-color: #d4ebff;}#sk-container-id-1 div.sk-parallel-item::after {content: \"\";width: 100%;border-bottom: 1px solid gray;flex-grow: 1;}#sk-container-id-1 div.sk-label:hover label.sk-toggleable__label {background-color: #d4ebff;}#sk-container-id-1 div.sk-serial::before {content: \"\";position: absolute;border-left: 1px solid gray;box-sizing: border-box;top: 0;bottom: 0;left: 50%;z-index: 0;}#sk-container-id-1 div.sk-serial {display: flex;flex-direction: column;align-items: center;background-color: white;padding-right: 0.2em;padding-left: 0.2em;position: relative;}#sk-container-id-1 div.sk-item {position: relative;z-index: 1;}#sk-container-id-1 div.sk-parallel {display: flex;align-items: stretch;justify-content: center;background-color: white;position: relative;}#sk-container-id-1 div.sk-item::before, #sk-container-id-1 div.sk-parallel-item::before {content: \"\";position: absolute;border-left: 1px solid gray;box-sizing: border-box;top: 0;bottom: 0;left: 50%;z-index: -1;}#sk-container-id-1 div.sk-parallel-item {display: flex;flex-direction: column;z-index: 1;position: relative;background-color: white;}#sk-container-id-1 div.sk-parallel-item:first-child::after {align-self: flex-end;width: 50%;}#sk-container-id-1 div.sk-parallel-item:last-child::after {align-self: flex-start;width: 50%;}#sk-container-id-1 div.sk-parallel-item:only-child::after {width: 0;}#sk-container-id-1 div.sk-dashed-wrapped {border: 1px dashed gray;margin: 0 0.4em 0.5em 0.4em;box-sizing: border-box;padding-bottom: 0.4em;background-color: white;}#sk-container-id-1 div.sk-label label {font-family: monospace;font-weight: bold;display: inline-block;line-height: 1.2em;}#sk-container-id-1 div.sk-label-container {text-align: center;}#sk-container-id-1 div.sk-container {/* jupyter's `normalize.less` sets `[hidden] { display: none; }` but bootstrap.min.css set `[hidden] { display: none !important; }` so we also need the `!important` here to be able to override the default hidden behavior on the sphinx rendered scikit-learn.org. See: https://github.com/scikit-learn/scikit-learn/issues/21755 */display: inline-block !important;position: relative;}#sk-container-id-1 div.sk-text-repr-fallback {display: none;}</style><div id=\"sk-container-id-1\" class=\"sk-top-container\"><div class=\"sk-text-repr-fallback\"><pre>LinearRegression()</pre><b>In a Jupyter environment, please rerun this cell to show the HTML representation or trust the notebook. <br />On GitHub, the HTML representation is unable to render, please try loading this page with nbviewer.org.</b></div><div class=\"sk-container\" hidden><div class=\"sk-item\"><div class=\"sk-estimator sk-toggleable\"><input class=\"sk-toggleable__control sk-hidden--visually\" id=\"sk-estimator-id-1\" type=\"checkbox\" checked><label for=\"sk-estimator-id-1\" class=\"sk-toggleable__label sk-toggleable__label-arrow\">LinearRegression</label><div class=\"sk-toggleable__content\"><pre>LinearRegression()</pre></div></div></div></div></div>"
            ]
          },
          "metadata": {},
          "execution_count": 68
        }
      ],
      "source": [
        "from sklearn.linear_model import LinearRegression\n",
        "linear_model = LinearRegression()\n",
        "linear_model.fit(train_inputs,train_targets)"
      ]
    },
    {
      "cell_type": "code",
      "execution_count": 69,
      "metadata": {
        "id": "8-tqiJ_WYKiI"
      },
      "outputs": [],
      "source": [
        "train_preds = linear_model.predict(train_inputs)"
      ]
    },
    {
      "cell_type": "code",
      "execution_count": 70,
      "metadata": {
        "colab": {
          "base_uri": "https://localhost:8080/"
        },
        "id": "dpMVIo-zYVZz",
        "outputId": "5161561e-872e-4695-95e6-d9c94e8ac03d"
      },
      "outputs": [
        {
          "output_type": "execute_result",
          "data": {
            "text/plain": [
              "array([11.369594, 11.637493, 11.28045 , ..., 11.459168, 11.280387,\n",
              "       11.280388], dtype=float32)"
            ]
          },
          "metadata": {},
          "execution_count": 70
        }
      ],
      "source": [
        "train_preds"
      ]
    },
    {
      "cell_type": "code",
      "execution_count": 71,
      "metadata": {
        "colab": {
          "base_uri": "https://localhost:8080/"
        },
        "id": "0CETK4kYYXKp",
        "outputId": "49cd24b3-1318-46e3-be6c-c38f95698bef"
      },
      "outputs": [
        {
          "output_type": "execute_result",
          "data": {
            "text/plain": [
              "9.842572"
            ]
          },
          "metadata": {},
          "execution_count": 71
        }
      ],
      "source": [
        "rmse(train_targets,train_preds)"
      ]
    },
    {
      "cell_type": "code",
      "execution_count": 72,
      "metadata": {
        "id": "KTWPk5seYbDL"
      },
      "outputs": [],
      "source": [
        "val_preds = linear_model.predict(val_inputs)"
      ]
    },
    {
      "cell_type": "code",
      "execution_count": 73,
      "metadata": {
        "colab": {
          "base_uri": "https://localhost:8080/"
        },
        "id": "2GEI1p-IYt4F",
        "outputId": "a1ded74a-cf27-434b-f293-6df56b884c16"
      },
      "outputs": [
        {
          "output_type": "execute_result",
          "data": {
            "text/plain": [
              "array([11.369747 , 11.2802925, 11.280443 , ..., 11.280327 , 11.637991 ,\n",
              "       11.2805605], dtype=float32)"
            ]
          },
          "metadata": {},
          "execution_count": 73
        }
      ],
      "source": [
        "val_preds"
      ]
    },
    {
      "cell_type": "code",
      "execution_count": 74,
      "metadata": {
        "colab": {
          "base_uri": "https://localhost:8080/"
        },
        "id": "O0dVX8QnYu_L",
        "outputId": "8f9cb900-258d-47d2-9e1e-2b488d211e26"
      },
      "outputs": [
        {
          "output_type": "execute_result",
          "data": {
            "text/plain": [
              "9.807019"
            ]
          },
          "metadata": {},
          "execution_count": 74
        }
      ],
      "source": [
        "rmse(val_targets, val_preds)"
      ]
    },
    {
      "cell_type": "markdown",
      "metadata": {
        "id": "_gjhxJ46ckLU"
      },
      "source": [
        "##5. Feature Engineering\n",
        "  - Add Date based features like hour, is_weekend, is_holiday\n",
        "  - Add distance from popular landmarks\n",
        "  - Add fuel prices feature\n",
        "  - Add trip distance feature"
      ]
    },
    {
      "cell_type": "markdown",
      "metadata": {
        "id": "JmSMK8-wcoSG"
      },
      "source": [
        "###Adding Features related to date\n",
        "  - month\n",
        "  - is weekend\n",
        "  - hour\n",
        "  - is holiday"
      ]
    },
    {
      "cell_type": "code",
      "execution_count": 75,
      "metadata": {
        "id": "INO8NvHiAPSk"
      },
      "outputs": [],
      "source": [
        "import holidays"
      ]
    },
    {
      "cell_type": "code",
      "execution_count": 76,
      "metadata": {
        "id": "iHLR8RVZARIL"
      },
      "outputs": [],
      "source": [
        "holidays_list = []\n",
        "for item in holidays.USA(years=2016).items():\n",
        "  holidays_list.append(item[0])"
      ]
    },
    {
      "cell_type": "code",
      "execution_count": 77,
      "metadata": {
        "colab": {
          "base_uri": "https://localhost:8080/"
        },
        "id": "2Qdmrw-gAZCf",
        "outputId": "e15b5a1a-6acb-4089-d2c5-2c5da4c33802"
      },
      "outputs": [
        {
          "output_type": "execute_result",
          "data": {
            "text/plain": [
              "[datetime.date(2016, 1, 1),\n",
              " datetime.date(2016, 5, 30),\n",
              " datetime.date(2016, 7, 4),\n",
              " datetime.date(2016, 9, 5),\n",
              " datetime.date(2016, 11, 11),\n",
              " datetime.date(2016, 11, 24),\n",
              " datetime.date(2016, 12, 25),\n",
              " datetime.date(2016, 12, 26),\n",
              " datetime.date(2016, 1, 18),\n",
              " datetime.date(2016, 2, 15),\n",
              " datetime.date(2016, 10, 10)]"
            ]
          },
          "metadata": {},
          "execution_count": 77
        }
      ],
      "source": [
        "holidays_list"
      ]
    },
    {
      "cell_type": "code",
      "execution_count": 78,
      "metadata": {
        "id": "YXFroKyLY0qo"
      },
      "outputs": [],
      "source": [
        "def add_dateparts(df, col):\n",
        "  df['is_weekend'] = df[col].dt.day.isin([5,6])\n",
        "  df['is_holiday'] = df[col].dt.date.isin(holidays_list)\n",
        "  df['hour'] = df[col].dt.hour\n",
        "  df['Date'] = df[col].dt.date"
      ]
    },
    {
      "cell_type": "code",
      "execution_count": 79,
      "metadata": {
        "id": "L59Qn1hCdUdd"
      },
      "outputs": [],
      "source": [
        "add_dateparts(train_df, 'pickup_datetime')\n",
        "add_dateparts(val_df, 'pickup_datetime')\n",
        "add_dateparts(test_df, 'pickup_datetime')"
      ]
    },
    {
      "cell_type": "code",
      "execution_count": 80,
      "metadata": {
        "colab": {
          "base_uri": "https://localhost:8080/",
          "height": 313
        },
        "id": "yGnoUjuYlcw4",
        "outputId": "55a75a09-7fe7-479e-e81d-1f1b9dc6ce23"
      },
      "outputs": [
        {
          "output_type": "execute_result",
          "data": {
            "text/plain": [
              "         fare_amount           pickup_datetime  pickup_longitude  \\\n",
              "1344710     7.000000 2013-06-21 19:20:00+00:00        -73.986603   \n",
              "881046      4.500000 2014-01-09 18:36:00+00:00        -73.982513   \n",
              "484486      6.500000 2010-11-07 06:10:00+00:00        -73.988365   \n",
              "560794     25.299999 2009-11-02 08:07:00+00:00        -73.991158   \n",
              "1422663     7.300000 2010-05-25 23:15:23+00:00        -73.980354   \n",
              "\n",
              "         pickup_latitude  dropoff_longitude  dropoff_latitude  \\\n",
              "1344710        40.777008         -73.983513         40.762398   \n",
              "881046         40.775196         -73.985092         40.769451   \n",
              "484486         40.737541         -73.990646         40.756027   \n",
              "560794         40.749142         -73.982712         40.756866   \n",
              "1422663        40.780384         -73.955025         40.800144   \n",
              "\n",
              "         passenger_count  is_weekend  is_holiday  hour        Date  \n",
              "1344710                2       False       False    19  2013-06-21  \n",
              "881046                 5       False       False    18  2014-01-09  \n",
              "484486                 1       False       False     6  2010-11-07  \n",
              "560794                 1       False       False     8  2009-11-02  \n",
              "1422663                1       False       False    23  2010-05-25  "
            ],
            "text/html": [
              "\n",
              "  <div id=\"df-92c23cf4-ab23-4a82-a273-bc2c13e36219\" class=\"colab-df-container\">\n",
              "    <div>\n",
              "<style scoped>\n",
              "    .dataframe tbody tr th:only-of-type {\n",
              "        vertical-align: middle;\n",
              "    }\n",
              "\n",
              "    .dataframe tbody tr th {\n",
              "        vertical-align: top;\n",
              "    }\n",
              "\n",
              "    .dataframe thead th {\n",
              "        text-align: right;\n",
              "    }\n",
              "</style>\n",
              "<table border=\"1\" class=\"dataframe\">\n",
              "  <thead>\n",
              "    <tr style=\"text-align: right;\">\n",
              "      <th></th>\n",
              "      <th>fare_amount</th>\n",
              "      <th>pickup_datetime</th>\n",
              "      <th>pickup_longitude</th>\n",
              "      <th>pickup_latitude</th>\n",
              "      <th>dropoff_longitude</th>\n",
              "      <th>dropoff_latitude</th>\n",
              "      <th>passenger_count</th>\n",
              "      <th>is_weekend</th>\n",
              "      <th>is_holiday</th>\n",
              "      <th>hour</th>\n",
              "      <th>Date</th>\n",
              "    </tr>\n",
              "  </thead>\n",
              "  <tbody>\n",
              "    <tr>\n",
              "      <th>1344710</th>\n",
              "      <td>7.000000</td>\n",
              "      <td>2013-06-21 19:20:00+00:00</td>\n",
              "      <td>-73.986603</td>\n",
              "      <td>40.777008</td>\n",
              "      <td>-73.983513</td>\n",
              "      <td>40.762398</td>\n",
              "      <td>2</td>\n",
              "      <td>False</td>\n",
              "      <td>False</td>\n",
              "      <td>19</td>\n",
              "      <td>2013-06-21</td>\n",
              "    </tr>\n",
              "    <tr>\n",
              "      <th>881046</th>\n",
              "      <td>4.500000</td>\n",
              "      <td>2014-01-09 18:36:00+00:00</td>\n",
              "      <td>-73.982513</td>\n",
              "      <td>40.775196</td>\n",
              "      <td>-73.985092</td>\n",
              "      <td>40.769451</td>\n",
              "      <td>5</td>\n",
              "      <td>False</td>\n",
              "      <td>False</td>\n",
              "      <td>18</td>\n",
              "      <td>2014-01-09</td>\n",
              "    </tr>\n",
              "    <tr>\n",
              "      <th>484486</th>\n",
              "      <td>6.500000</td>\n",
              "      <td>2010-11-07 06:10:00+00:00</td>\n",
              "      <td>-73.988365</td>\n",
              "      <td>40.737541</td>\n",
              "      <td>-73.990646</td>\n",
              "      <td>40.756027</td>\n",
              "      <td>1</td>\n",
              "      <td>False</td>\n",
              "      <td>False</td>\n",
              "      <td>6</td>\n",
              "      <td>2010-11-07</td>\n",
              "    </tr>\n",
              "    <tr>\n",
              "      <th>560794</th>\n",
              "      <td>25.299999</td>\n",
              "      <td>2009-11-02 08:07:00+00:00</td>\n",
              "      <td>-73.991158</td>\n",
              "      <td>40.749142</td>\n",
              "      <td>-73.982712</td>\n",
              "      <td>40.756866</td>\n",
              "      <td>1</td>\n",
              "      <td>False</td>\n",
              "      <td>False</td>\n",
              "      <td>8</td>\n",
              "      <td>2009-11-02</td>\n",
              "    </tr>\n",
              "    <tr>\n",
              "      <th>1422663</th>\n",
              "      <td>7.300000</td>\n",
              "      <td>2010-05-25 23:15:23+00:00</td>\n",
              "      <td>-73.980354</td>\n",
              "      <td>40.780384</td>\n",
              "      <td>-73.955025</td>\n",
              "      <td>40.800144</td>\n",
              "      <td>1</td>\n",
              "      <td>False</td>\n",
              "      <td>False</td>\n",
              "      <td>23</td>\n",
              "      <td>2010-05-25</td>\n",
              "    </tr>\n",
              "  </tbody>\n",
              "</table>\n",
              "</div>\n",
              "    <div class=\"colab-df-buttons\">\n",
              "\n",
              "  <div class=\"colab-df-container\">\n",
              "    <button class=\"colab-df-convert\" onclick=\"convertToInteractive('df-92c23cf4-ab23-4a82-a273-bc2c13e36219')\"\n",
              "            title=\"Convert this dataframe to an interactive table.\"\n",
              "            style=\"display:none;\">\n",
              "\n",
              "  <svg xmlns=\"http://www.w3.org/2000/svg\" height=\"24px\" viewBox=\"0 -960 960 960\">\n",
              "    <path d=\"M120-120v-720h720v720H120Zm60-500h600v-160H180v160Zm220 220h160v-160H400v160Zm0 220h160v-160H400v160ZM180-400h160v-160H180v160Zm440 0h160v-160H620v160ZM180-180h160v-160H180v160Zm440 0h160v-160H620v160Z\"/>\n",
              "  </svg>\n",
              "    </button>\n",
              "\n",
              "  <style>\n",
              "    .colab-df-container {\n",
              "      display:flex;\n",
              "      gap: 12px;\n",
              "    }\n",
              "\n",
              "    .colab-df-convert {\n",
              "      background-color: #E8F0FE;\n",
              "      border: none;\n",
              "      border-radius: 50%;\n",
              "      cursor: pointer;\n",
              "      display: none;\n",
              "      fill: #1967D2;\n",
              "      height: 32px;\n",
              "      padding: 0 0 0 0;\n",
              "      width: 32px;\n",
              "    }\n",
              "\n",
              "    .colab-df-convert:hover {\n",
              "      background-color: #E2EBFA;\n",
              "      box-shadow: 0px 1px 2px rgba(60, 64, 67, 0.3), 0px 1px 3px 1px rgba(60, 64, 67, 0.15);\n",
              "      fill: #174EA6;\n",
              "    }\n",
              "\n",
              "    .colab-df-buttons div {\n",
              "      margin-bottom: 4px;\n",
              "    }\n",
              "\n",
              "    [theme=dark] .colab-df-convert {\n",
              "      background-color: #3B4455;\n",
              "      fill: #D2E3FC;\n",
              "    }\n",
              "\n",
              "    [theme=dark] .colab-df-convert:hover {\n",
              "      background-color: #434B5C;\n",
              "      box-shadow: 0px 1px 3px 1px rgba(0, 0, 0, 0.15);\n",
              "      filter: drop-shadow(0px 1px 2px rgba(0, 0, 0, 0.3));\n",
              "      fill: #FFFFFF;\n",
              "    }\n",
              "  </style>\n",
              "\n",
              "    <script>\n",
              "      const buttonEl =\n",
              "        document.querySelector('#df-92c23cf4-ab23-4a82-a273-bc2c13e36219 button.colab-df-convert');\n",
              "      buttonEl.style.display =\n",
              "        google.colab.kernel.accessAllowed ? 'block' : 'none';\n",
              "\n",
              "      async function convertToInteractive(key) {\n",
              "        const element = document.querySelector('#df-92c23cf4-ab23-4a82-a273-bc2c13e36219');\n",
              "        const dataTable =\n",
              "          await google.colab.kernel.invokeFunction('convertToInteractive',\n",
              "                                                    [key], {});\n",
              "        if (!dataTable) return;\n",
              "\n",
              "        const docLinkHtml = 'Like what you see? Visit the ' +\n",
              "          '<a target=\"_blank\" href=https://colab.research.google.com/notebooks/data_table.ipynb>data table notebook</a>'\n",
              "          + ' to learn more about interactive tables.';\n",
              "        element.innerHTML = '';\n",
              "        dataTable['output_type'] = 'display_data';\n",
              "        await google.colab.output.renderOutput(dataTable, element);\n",
              "        const docLink = document.createElement('div');\n",
              "        docLink.innerHTML = docLinkHtml;\n",
              "        element.appendChild(docLink);\n",
              "      }\n",
              "    </script>\n",
              "  </div>\n",
              "\n",
              "\n",
              "<div id=\"df-96bdf6c9-9b25-4e3f-8546-12d09a508736\">\n",
              "  <button class=\"colab-df-quickchart\" onclick=\"quickchart('df-96bdf6c9-9b25-4e3f-8546-12d09a508736')\"\n",
              "            title=\"Suggest charts\"\n",
              "            style=\"display:none;\">\n",
              "\n",
              "<svg xmlns=\"http://www.w3.org/2000/svg\" height=\"24px\"viewBox=\"0 0 24 24\"\n",
              "     width=\"24px\">\n",
              "    <g>\n",
              "        <path d=\"M19 3H5c-1.1 0-2 .9-2 2v14c0 1.1.9 2 2 2h14c1.1 0 2-.9 2-2V5c0-1.1-.9-2-2-2zM9 17H7v-7h2v7zm4 0h-2V7h2v10zm4 0h-2v-4h2v4z\"/>\n",
              "    </g>\n",
              "</svg>\n",
              "  </button>\n",
              "\n",
              "<style>\n",
              "  .colab-df-quickchart {\n",
              "      --bg-color: #E8F0FE;\n",
              "      --fill-color: #1967D2;\n",
              "      --hover-bg-color: #E2EBFA;\n",
              "      --hover-fill-color: #174EA6;\n",
              "      --disabled-fill-color: #AAA;\n",
              "      --disabled-bg-color: #DDD;\n",
              "  }\n",
              "\n",
              "  [theme=dark] .colab-df-quickchart {\n",
              "      --bg-color: #3B4455;\n",
              "      --fill-color: #D2E3FC;\n",
              "      --hover-bg-color: #434B5C;\n",
              "      --hover-fill-color: #FFFFFF;\n",
              "      --disabled-bg-color: #3B4455;\n",
              "      --disabled-fill-color: #666;\n",
              "  }\n",
              "\n",
              "  .colab-df-quickchart {\n",
              "    background-color: var(--bg-color);\n",
              "    border: none;\n",
              "    border-radius: 50%;\n",
              "    cursor: pointer;\n",
              "    display: none;\n",
              "    fill: var(--fill-color);\n",
              "    height: 32px;\n",
              "    padding: 0;\n",
              "    width: 32px;\n",
              "  }\n",
              "\n",
              "  .colab-df-quickchart:hover {\n",
              "    background-color: var(--hover-bg-color);\n",
              "    box-shadow: 0 1px 2px rgba(60, 64, 67, 0.3), 0 1px 3px 1px rgba(60, 64, 67, 0.15);\n",
              "    fill: var(--button-hover-fill-color);\n",
              "  }\n",
              "\n",
              "  .colab-df-quickchart-complete:disabled,\n",
              "  .colab-df-quickchart-complete:disabled:hover {\n",
              "    background-color: var(--disabled-bg-color);\n",
              "    fill: var(--disabled-fill-color);\n",
              "    box-shadow: none;\n",
              "  }\n",
              "\n",
              "  .colab-df-spinner {\n",
              "    border: 2px solid var(--fill-color);\n",
              "    border-color: transparent;\n",
              "    border-bottom-color: var(--fill-color);\n",
              "    animation:\n",
              "      spin 1s steps(1) infinite;\n",
              "  }\n",
              "\n",
              "  @keyframes spin {\n",
              "    0% {\n",
              "      border-color: transparent;\n",
              "      border-bottom-color: var(--fill-color);\n",
              "      border-left-color: var(--fill-color);\n",
              "    }\n",
              "    20% {\n",
              "      border-color: transparent;\n",
              "      border-left-color: var(--fill-color);\n",
              "      border-top-color: var(--fill-color);\n",
              "    }\n",
              "    30% {\n",
              "      border-color: transparent;\n",
              "      border-left-color: var(--fill-color);\n",
              "      border-top-color: var(--fill-color);\n",
              "      border-right-color: var(--fill-color);\n",
              "    }\n",
              "    40% {\n",
              "      border-color: transparent;\n",
              "      border-right-color: var(--fill-color);\n",
              "      border-top-color: var(--fill-color);\n",
              "    }\n",
              "    60% {\n",
              "      border-color: transparent;\n",
              "      border-right-color: var(--fill-color);\n",
              "    }\n",
              "    80% {\n",
              "      border-color: transparent;\n",
              "      border-right-color: var(--fill-color);\n",
              "      border-bottom-color: var(--fill-color);\n",
              "    }\n",
              "    90% {\n",
              "      border-color: transparent;\n",
              "      border-bottom-color: var(--fill-color);\n",
              "    }\n",
              "  }\n",
              "</style>\n",
              "\n",
              "  <script>\n",
              "    async function quickchart(key) {\n",
              "      const quickchartButtonEl =\n",
              "        document.querySelector('#' + key + ' button');\n",
              "      quickchartButtonEl.disabled = true;  // To prevent multiple clicks.\n",
              "      quickchartButtonEl.classList.add('colab-df-spinner');\n",
              "      try {\n",
              "        const charts = await google.colab.kernel.invokeFunction(\n",
              "            'suggestCharts', [key], {});\n",
              "      } catch (error) {\n",
              "        console.error('Error during call to suggestCharts:', error);\n",
              "      }\n",
              "      quickchartButtonEl.classList.remove('colab-df-spinner');\n",
              "      quickchartButtonEl.classList.add('colab-df-quickchart-complete');\n",
              "    }\n",
              "    (() => {\n",
              "      let quickchartButtonEl =\n",
              "        document.querySelector('#df-96bdf6c9-9b25-4e3f-8546-12d09a508736 button');\n",
              "      quickchartButtonEl.style.display =\n",
              "        google.colab.kernel.accessAllowed ? 'block' : 'none';\n",
              "    })();\n",
              "  </script>\n",
              "</div>\n",
              "\n",
              "    </div>\n",
              "  </div>\n"
            ],
            "application/vnd.google.colaboratory.intrinsic+json": {
              "type": "dataframe",
              "variable_name": "train_df"
            }
          },
          "metadata": {},
          "execution_count": 80
        }
      ],
      "source": [
        "train_df.head()"
      ]
    },
    {
      "cell_type": "markdown",
      "metadata": {
        "id": "GplEqf26fRTI"
      },
      "source": [
        "###Calculate Journey Distance"
      ]
    },
    {
      "cell_type": "code",
      "execution_count": 81,
      "metadata": {
        "id": "KS3IV-KmdsaP"
      },
      "outputs": [],
      "source": [
        "import numpy as np\n",
        "\n",
        "def haversine_np(lon1, lat1, lon2, lat2):\n",
        "    \"\"\"\n",
        "    Calculate the great circle distance between two points\n",
        "    on the earth (specified in decimal degrees)\n",
        "\n",
        "    All args must be of equal length.\n",
        "\n",
        "    \"\"\"\n",
        "    lon1, lat1, lon2, lat2 = map(np.radians, [lon1, lat1, lon2, lat2])\n",
        "\n",
        "    dlon = lon2 - lon1\n",
        "    dlat = lat2 - lat1\n",
        "\n",
        "    a = np.sin(dlat/2.0)**2 + np.cos(lat1) * np.cos(lat2) * np.sin(dlon/2.0)**2\n",
        "\n",
        "    c = 2 * np.arcsin(np.sqrt(a))\n",
        "    km = 6367 * c\n",
        "    return km"
      ]
    },
    {
      "cell_type": "code",
      "execution_count": 82,
      "metadata": {
        "id": "yNJ6CyCFfbM0"
      },
      "outputs": [],
      "source": [
        "def add_trip_distance(df):\n",
        "    df['trip_distance'] = haversine_np(df['pickup_longitude'], df['pickup_latitude'], df['dropoff_longitude'], df['dropoff_latitude'])"
      ]
    },
    {
      "cell_type": "code",
      "execution_count": 83,
      "metadata": {
        "colab": {
          "base_uri": "https://localhost:8080/"
        },
        "id": "pG7Yur8Qfezs",
        "outputId": "414bedcd-d411-4f43-e6e0-50f0b932fb71"
      },
      "outputs": [
        {
          "output_type": "stream",
          "name": "stdout",
          "text": [
            "CPU times: user 984 ms, sys: 116 ms, total: 1.1 s\n",
            "Wall time: 1.33 s\n"
          ]
        }
      ],
      "source": [
        "%%time\n",
        "add_trip_distance(train_df)"
      ]
    },
    {
      "cell_type": "code",
      "execution_count": 84,
      "metadata": {
        "colab": {
          "base_uri": "https://localhost:8080/"
        },
        "id": "vdqYUeMrJl_T",
        "outputId": "be3101ec-b155-4b75-d19f-8cc415c92f12"
      },
      "outputs": [
        {
          "output_type": "stream",
          "name": "stdout",
          "text": [
            "CPU times: user 21.1 ms, sys: 11 µs, total: 21.2 ms\n",
            "Wall time: 23.7 ms\n"
          ]
        }
      ],
      "source": [
        "%%time\n",
        "add_trip_distance(val_df)"
      ]
    },
    {
      "cell_type": "code",
      "execution_count": 85,
      "metadata": {
        "colab": {
          "base_uri": "https://localhost:8080/"
        },
        "id": "5bx5yS8ZcQwf",
        "outputId": "8f51c78c-9277-44ff-af26-fd33bb5ad3e2"
      },
      "outputs": [
        {
          "output_type": "stream",
          "name": "stdout",
          "text": [
            "CPU times: user 7.92 ms, sys: 0 ns, total: 7.92 ms\n",
            "Wall time: 9.87 ms\n"
          ]
        }
      ],
      "source": [
        "%%time\n",
        "add_trip_distance(test_df)"
      ]
    },
    {
      "cell_type": "code",
      "execution_count": 86,
      "metadata": {
        "colab": {
          "base_uri": "https://localhost:8080/",
          "height": 313
        },
        "id": "So94nb3zllra",
        "outputId": "07c975de-e835-4ee9-97dc-feccccfac7ab"
      },
      "outputs": [
        {
          "output_type": "execute_result",
          "data": {
            "text/plain": [
              "         fare_amount           pickup_datetime  pickup_longitude  \\\n",
              "1344710     7.000000 2013-06-21 19:20:00+00:00        -73.986603   \n",
              "881046      4.500000 2014-01-09 18:36:00+00:00        -73.982513   \n",
              "484486      6.500000 2010-11-07 06:10:00+00:00        -73.988365   \n",
              "560794     25.299999 2009-11-02 08:07:00+00:00        -73.991158   \n",
              "1422663     7.300000 2010-05-25 23:15:23+00:00        -73.980354   \n",
              "\n",
              "         pickup_latitude  dropoff_longitude  dropoff_latitude  \\\n",
              "1344710        40.777008         -73.983513         40.762398   \n",
              "881046         40.775196         -73.985092         40.769451   \n",
              "484486         40.737541         -73.990646         40.756027   \n",
              "560794         40.749142         -73.982712         40.756866   \n",
              "1422663        40.780384         -73.955025         40.800144   \n",
              "\n",
              "         passenger_count  is_weekend  is_holiday  hour        Date  \\\n",
              "1344710                2       False       False    19  2013-06-21   \n",
              "881046                 5       False       False    18  2014-01-09   \n",
              "484486                 1       False       False     6  2010-11-07   \n",
              "560794                 1       False       False     8  2009-11-02   \n",
              "1422663                1       False       False    23  2010-05-25   \n",
              "\n",
              "         trip_distance  \n",
              "1344710       1.644263  \n",
              "881046        0.674289  \n",
              "484486        2.063207  \n",
              "560794        1.114796  \n",
              "1422663       3.059984  "
            ],
            "text/html": [
              "\n",
              "  <div id=\"df-5d5a90b6-2d1b-48bc-b94d-9451bb55ab8f\" class=\"colab-df-container\">\n",
              "    <div>\n",
              "<style scoped>\n",
              "    .dataframe tbody tr th:only-of-type {\n",
              "        vertical-align: middle;\n",
              "    }\n",
              "\n",
              "    .dataframe tbody tr th {\n",
              "        vertical-align: top;\n",
              "    }\n",
              "\n",
              "    .dataframe thead th {\n",
              "        text-align: right;\n",
              "    }\n",
              "</style>\n",
              "<table border=\"1\" class=\"dataframe\">\n",
              "  <thead>\n",
              "    <tr style=\"text-align: right;\">\n",
              "      <th></th>\n",
              "      <th>fare_amount</th>\n",
              "      <th>pickup_datetime</th>\n",
              "      <th>pickup_longitude</th>\n",
              "      <th>pickup_latitude</th>\n",
              "      <th>dropoff_longitude</th>\n",
              "      <th>dropoff_latitude</th>\n",
              "      <th>passenger_count</th>\n",
              "      <th>is_weekend</th>\n",
              "      <th>is_holiday</th>\n",
              "      <th>hour</th>\n",
              "      <th>Date</th>\n",
              "      <th>trip_distance</th>\n",
              "    </tr>\n",
              "  </thead>\n",
              "  <tbody>\n",
              "    <tr>\n",
              "      <th>1344710</th>\n",
              "      <td>7.000000</td>\n",
              "      <td>2013-06-21 19:20:00+00:00</td>\n",
              "      <td>-73.986603</td>\n",
              "      <td>40.777008</td>\n",
              "      <td>-73.983513</td>\n",
              "      <td>40.762398</td>\n",
              "      <td>2</td>\n",
              "      <td>False</td>\n",
              "      <td>False</td>\n",
              "      <td>19</td>\n",
              "      <td>2013-06-21</td>\n",
              "      <td>1.644263</td>\n",
              "    </tr>\n",
              "    <tr>\n",
              "      <th>881046</th>\n",
              "      <td>4.500000</td>\n",
              "      <td>2014-01-09 18:36:00+00:00</td>\n",
              "      <td>-73.982513</td>\n",
              "      <td>40.775196</td>\n",
              "      <td>-73.985092</td>\n",
              "      <td>40.769451</td>\n",
              "      <td>5</td>\n",
              "      <td>False</td>\n",
              "      <td>False</td>\n",
              "      <td>18</td>\n",
              "      <td>2014-01-09</td>\n",
              "      <td>0.674289</td>\n",
              "    </tr>\n",
              "    <tr>\n",
              "      <th>484486</th>\n",
              "      <td>6.500000</td>\n",
              "      <td>2010-11-07 06:10:00+00:00</td>\n",
              "      <td>-73.988365</td>\n",
              "      <td>40.737541</td>\n",
              "      <td>-73.990646</td>\n",
              "      <td>40.756027</td>\n",
              "      <td>1</td>\n",
              "      <td>False</td>\n",
              "      <td>False</td>\n",
              "      <td>6</td>\n",
              "      <td>2010-11-07</td>\n",
              "      <td>2.063207</td>\n",
              "    </tr>\n",
              "    <tr>\n",
              "      <th>560794</th>\n",
              "      <td>25.299999</td>\n",
              "      <td>2009-11-02 08:07:00+00:00</td>\n",
              "      <td>-73.991158</td>\n",
              "      <td>40.749142</td>\n",
              "      <td>-73.982712</td>\n",
              "      <td>40.756866</td>\n",
              "      <td>1</td>\n",
              "      <td>False</td>\n",
              "      <td>False</td>\n",
              "      <td>8</td>\n",
              "      <td>2009-11-02</td>\n",
              "      <td>1.114796</td>\n",
              "    </tr>\n",
              "    <tr>\n",
              "      <th>1422663</th>\n",
              "      <td>7.300000</td>\n",
              "      <td>2010-05-25 23:15:23+00:00</td>\n",
              "      <td>-73.980354</td>\n",
              "      <td>40.780384</td>\n",
              "      <td>-73.955025</td>\n",
              "      <td>40.800144</td>\n",
              "      <td>1</td>\n",
              "      <td>False</td>\n",
              "      <td>False</td>\n",
              "      <td>23</td>\n",
              "      <td>2010-05-25</td>\n",
              "      <td>3.059984</td>\n",
              "    </tr>\n",
              "  </tbody>\n",
              "</table>\n",
              "</div>\n",
              "    <div class=\"colab-df-buttons\">\n",
              "\n",
              "  <div class=\"colab-df-container\">\n",
              "    <button class=\"colab-df-convert\" onclick=\"convertToInteractive('df-5d5a90b6-2d1b-48bc-b94d-9451bb55ab8f')\"\n",
              "            title=\"Convert this dataframe to an interactive table.\"\n",
              "            style=\"display:none;\">\n",
              "\n",
              "  <svg xmlns=\"http://www.w3.org/2000/svg\" height=\"24px\" viewBox=\"0 -960 960 960\">\n",
              "    <path d=\"M120-120v-720h720v720H120Zm60-500h600v-160H180v160Zm220 220h160v-160H400v160Zm0 220h160v-160H400v160ZM180-400h160v-160H180v160Zm440 0h160v-160H620v160ZM180-180h160v-160H180v160Zm440 0h160v-160H620v160Z\"/>\n",
              "  </svg>\n",
              "    </button>\n",
              "\n",
              "  <style>\n",
              "    .colab-df-container {\n",
              "      display:flex;\n",
              "      gap: 12px;\n",
              "    }\n",
              "\n",
              "    .colab-df-convert {\n",
              "      background-color: #E8F0FE;\n",
              "      border: none;\n",
              "      border-radius: 50%;\n",
              "      cursor: pointer;\n",
              "      display: none;\n",
              "      fill: #1967D2;\n",
              "      height: 32px;\n",
              "      padding: 0 0 0 0;\n",
              "      width: 32px;\n",
              "    }\n",
              "\n",
              "    .colab-df-convert:hover {\n",
              "      background-color: #E2EBFA;\n",
              "      box-shadow: 0px 1px 2px rgba(60, 64, 67, 0.3), 0px 1px 3px 1px rgba(60, 64, 67, 0.15);\n",
              "      fill: #174EA6;\n",
              "    }\n",
              "\n",
              "    .colab-df-buttons div {\n",
              "      margin-bottom: 4px;\n",
              "    }\n",
              "\n",
              "    [theme=dark] .colab-df-convert {\n",
              "      background-color: #3B4455;\n",
              "      fill: #D2E3FC;\n",
              "    }\n",
              "\n",
              "    [theme=dark] .colab-df-convert:hover {\n",
              "      background-color: #434B5C;\n",
              "      box-shadow: 0px 1px 3px 1px rgba(0, 0, 0, 0.15);\n",
              "      filter: drop-shadow(0px 1px 2px rgba(0, 0, 0, 0.3));\n",
              "      fill: #FFFFFF;\n",
              "    }\n",
              "  </style>\n",
              "\n",
              "    <script>\n",
              "      const buttonEl =\n",
              "        document.querySelector('#df-5d5a90b6-2d1b-48bc-b94d-9451bb55ab8f button.colab-df-convert');\n",
              "      buttonEl.style.display =\n",
              "        google.colab.kernel.accessAllowed ? 'block' : 'none';\n",
              "\n",
              "      async function convertToInteractive(key) {\n",
              "        const element = document.querySelector('#df-5d5a90b6-2d1b-48bc-b94d-9451bb55ab8f');\n",
              "        const dataTable =\n",
              "          await google.colab.kernel.invokeFunction('convertToInteractive',\n",
              "                                                    [key], {});\n",
              "        if (!dataTable) return;\n",
              "\n",
              "        const docLinkHtml = 'Like what you see? Visit the ' +\n",
              "          '<a target=\"_blank\" href=https://colab.research.google.com/notebooks/data_table.ipynb>data table notebook</a>'\n",
              "          + ' to learn more about interactive tables.';\n",
              "        element.innerHTML = '';\n",
              "        dataTable['output_type'] = 'display_data';\n",
              "        await google.colab.output.renderOutput(dataTable, element);\n",
              "        const docLink = document.createElement('div');\n",
              "        docLink.innerHTML = docLinkHtml;\n",
              "        element.appendChild(docLink);\n",
              "      }\n",
              "    </script>\n",
              "  </div>\n",
              "\n",
              "\n",
              "<div id=\"df-1364a8bd-dead-4bca-84cc-38f3e03ac1ef\">\n",
              "  <button class=\"colab-df-quickchart\" onclick=\"quickchart('df-1364a8bd-dead-4bca-84cc-38f3e03ac1ef')\"\n",
              "            title=\"Suggest charts\"\n",
              "            style=\"display:none;\">\n",
              "\n",
              "<svg xmlns=\"http://www.w3.org/2000/svg\" height=\"24px\"viewBox=\"0 0 24 24\"\n",
              "     width=\"24px\">\n",
              "    <g>\n",
              "        <path d=\"M19 3H5c-1.1 0-2 .9-2 2v14c0 1.1.9 2 2 2h14c1.1 0 2-.9 2-2V5c0-1.1-.9-2-2-2zM9 17H7v-7h2v7zm4 0h-2V7h2v10zm4 0h-2v-4h2v4z\"/>\n",
              "    </g>\n",
              "</svg>\n",
              "  </button>\n",
              "\n",
              "<style>\n",
              "  .colab-df-quickchart {\n",
              "      --bg-color: #E8F0FE;\n",
              "      --fill-color: #1967D2;\n",
              "      --hover-bg-color: #E2EBFA;\n",
              "      --hover-fill-color: #174EA6;\n",
              "      --disabled-fill-color: #AAA;\n",
              "      --disabled-bg-color: #DDD;\n",
              "  }\n",
              "\n",
              "  [theme=dark] .colab-df-quickchart {\n",
              "      --bg-color: #3B4455;\n",
              "      --fill-color: #D2E3FC;\n",
              "      --hover-bg-color: #434B5C;\n",
              "      --hover-fill-color: #FFFFFF;\n",
              "      --disabled-bg-color: #3B4455;\n",
              "      --disabled-fill-color: #666;\n",
              "  }\n",
              "\n",
              "  .colab-df-quickchart {\n",
              "    background-color: var(--bg-color);\n",
              "    border: none;\n",
              "    border-radius: 50%;\n",
              "    cursor: pointer;\n",
              "    display: none;\n",
              "    fill: var(--fill-color);\n",
              "    height: 32px;\n",
              "    padding: 0;\n",
              "    width: 32px;\n",
              "  }\n",
              "\n",
              "  .colab-df-quickchart:hover {\n",
              "    background-color: var(--hover-bg-color);\n",
              "    box-shadow: 0 1px 2px rgba(60, 64, 67, 0.3), 0 1px 3px 1px rgba(60, 64, 67, 0.15);\n",
              "    fill: var(--button-hover-fill-color);\n",
              "  }\n",
              "\n",
              "  .colab-df-quickchart-complete:disabled,\n",
              "  .colab-df-quickchart-complete:disabled:hover {\n",
              "    background-color: var(--disabled-bg-color);\n",
              "    fill: var(--disabled-fill-color);\n",
              "    box-shadow: none;\n",
              "  }\n",
              "\n",
              "  .colab-df-spinner {\n",
              "    border: 2px solid var(--fill-color);\n",
              "    border-color: transparent;\n",
              "    border-bottom-color: var(--fill-color);\n",
              "    animation:\n",
              "      spin 1s steps(1) infinite;\n",
              "  }\n",
              "\n",
              "  @keyframes spin {\n",
              "    0% {\n",
              "      border-color: transparent;\n",
              "      border-bottom-color: var(--fill-color);\n",
              "      border-left-color: var(--fill-color);\n",
              "    }\n",
              "    20% {\n",
              "      border-color: transparent;\n",
              "      border-left-color: var(--fill-color);\n",
              "      border-top-color: var(--fill-color);\n",
              "    }\n",
              "    30% {\n",
              "      border-color: transparent;\n",
              "      border-left-color: var(--fill-color);\n",
              "      border-top-color: var(--fill-color);\n",
              "      border-right-color: var(--fill-color);\n",
              "    }\n",
              "    40% {\n",
              "      border-color: transparent;\n",
              "      border-right-color: var(--fill-color);\n",
              "      border-top-color: var(--fill-color);\n",
              "    }\n",
              "    60% {\n",
              "      border-color: transparent;\n",
              "      border-right-color: var(--fill-color);\n",
              "    }\n",
              "    80% {\n",
              "      border-color: transparent;\n",
              "      border-right-color: var(--fill-color);\n",
              "      border-bottom-color: var(--fill-color);\n",
              "    }\n",
              "    90% {\n",
              "      border-color: transparent;\n",
              "      border-bottom-color: var(--fill-color);\n",
              "    }\n",
              "  }\n",
              "</style>\n",
              "\n",
              "  <script>\n",
              "    async function quickchart(key) {\n",
              "      const quickchartButtonEl =\n",
              "        document.querySelector('#' + key + ' button');\n",
              "      quickchartButtonEl.disabled = true;  // To prevent multiple clicks.\n",
              "      quickchartButtonEl.classList.add('colab-df-spinner');\n",
              "      try {\n",
              "        const charts = await google.colab.kernel.invokeFunction(\n",
              "            'suggestCharts', [key], {});\n",
              "      } catch (error) {\n",
              "        console.error('Error during call to suggestCharts:', error);\n",
              "      }\n",
              "      quickchartButtonEl.classList.remove('colab-df-spinner');\n",
              "      quickchartButtonEl.classList.add('colab-df-quickchart-complete');\n",
              "    }\n",
              "    (() => {\n",
              "      let quickchartButtonEl =\n",
              "        document.querySelector('#df-1364a8bd-dead-4bca-84cc-38f3e03ac1ef button');\n",
              "      quickchartButtonEl.style.display =\n",
              "        google.colab.kernel.accessAllowed ? 'block' : 'none';\n",
              "    })();\n",
              "  </script>\n",
              "</div>\n",
              "\n",
              "    </div>\n",
              "  </div>\n"
            ],
            "application/vnd.google.colaboratory.intrinsic+json": {
              "type": "dataframe",
              "variable_name": "train_df"
            }
          },
          "metadata": {},
          "execution_count": 86
        }
      ],
      "source": [
        "train_df.head()"
      ]
    },
    {
      "cell_type": "markdown",
      "metadata": {
        "id": "iIRMTS7-ltO9"
      },
      "source": [
        "###Calculate Distance from following landmarks\n",
        "  - JFK Airport\n",
        "  - LGA Airport\n",
        "  - EWR Airport\n",
        "  - Times Square\n",
        "  - Met Meuseum\n",
        "  - World Trade Center"
      ]
    },
    {
      "cell_type": "code",
      "execution_count": 87,
      "metadata": {
        "id": "xhlIP9tTln-u"
      },
      "outputs": [],
      "source": [
        "jfk_lonlat = -73.7781, 40.6413\n",
        "lga_lonlat = -73.8740, 40.7769\n",
        "ewr_lonlat = -74.1745, 40.6895\n",
        "met_lonlat = -73.9632, 40.7794\n",
        "wtc_lonlat = -74.0099, 40.7126"
      ]
    },
    {
      "cell_type": "code",
      "execution_count": 88,
      "metadata": {
        "id": "gUZhsgk6oS9b"
      },
      "outputs": [],
      "source": [
        "def add_landmark_dropoff_distance(df, landmark_name, landmark_lonlat):\n",
        "    lon, lat = landmark_lonlat\n",
        "    df[landmark_name + '_drop_distance'] = haversine_np(lon, lat, df['dropoff_longitude'], df['dropoff_latitude'])"
      ]
    },
    {
      "cell_type": "code",
      "execution_count": 89,
      "metadata": {
        "colab": {
          "base_uri": "https://localhost:8080/"
        },
        "id": "x-kb2VbgoVgw",
        "outputId": "e05dca26-a1e2-4bd8-f691-6effa98e529b"
      },
      "outputs": [
        {
          "output_type": "stream",
          "name": "stdout",
          "text": [
            "CPU times: user 1.26 s, sys: 77.3 ms, total: 1.33 s\n",
            "Wall time: 1.4 s\n"
          ]
        }
      ],
      "source": [
        "%%time\n",
        "for a_df in [train_df, val_df, test_df]:\n",
        "    for name, lonlat in [('jfk', jfk_lonlat), ('lga', lga_lonlat), ('ewr', ewr_lonlat), ('met', met_lonlat), ('wtc', wtc_lonlat)]:\n",
        "        add_landmark_dropoff_distance(a_df, name, lonlat)"
      ]
    },
    {
      "cell_type": "code",
      "execution_count": 90,
      "metadata": {
        "colab": {
          "base_uri": "https://localhost:8080/",
          "height": 313
        },
        "id": "Ymh499ufohFy",
        "outputId": "85e254c7-5910-4fd3-cc8a-53e67f01a361"
      },
      "outputs": [
        {
          "output_type": "execute_result",
          "data": {
            "text/plain": [
              "         fare_amount           pickup_datetime  pickup_longitude  \\\n",
              "695207           9.5 2014-10-09 23:11:41+00:00        -73.977280   \n",
              "1479593          4.5 2010-10-14 14:06:00+00:00        -73.976219   \n",
              "619214           8.5 2011-04-23 16:22:33+00:00        -73.966522   \n",
              "748136           4.5 2012-06-19 19:34:37+00:00        -73.997772   \n",
              "500539          38.0 2014-10-05 21:44:00+00:00        -73.781876   \n",
              "\n",
              "         pickup_latitude  dropoff_longitude  dropoff_latitude  \\\n",
              "695207         40.742874         -73.990463         40.763290   \n",
              "1479593        40.788830         -73.969536         40.785397   \n",
              "619214         40.764519         -73.992226         40.730679   \n",
              "748136         40.736149         -73.991402         40.740379   \n",
              "500539         40.644707         -73.959763         40.694221   \n",
              "\n",
              "         passenger_count  is_weekend  is_holiday  hour        Date  \\\n",
              "695207                 1       False       False    23  2014-10-09   \n",
              "1479593                3       False       False    14  2010-10-14   \n",
              "619214                 1       False       False    16  2011-04-23   \n",
              "748136                 1       False       False    19  2012-06-19   \n",
              "500539                 1        True       False    21  2014-10-05   \n",
              "\n",
              "         trip_distance  jfk_drop_distance  lga_drop_distance  \\\n",
              "695207        2.525523          22.446286           9.917386   \n",
              "1479593       0.679913          22.724665           8.094030   \n",
              "619214        4.338581          20.596369          11.199405   \n",
              "748136        0.713189          21.076678          10.682808   \n",
              "500539       15.971099          16.402486          11.685796   \n",
              "\n",
              "         ewr_drop_distance  met_drop_distance  wtc_drop_distance  \n",
              "695207           17.534088           2.910175           5.865826  \n",
              "1479593          20.283044           0.853236           8.774167  \n",
              "619214           16.021349           5.939904           2.500420  \n",
              "748136           16.426111           4.943435           3.457748  \n",
              "500539           18.101108           9.469768           4.691672  "
            ],
            "text/html": [
              "\n",
              "  <div id=\"df-927ce0a1-3bcd-4277-a6b1-9a567395089d\" class=\"colab-df-container\">\n",
              "    <div>\n",
              "<style scoped>\n",
              "    .dataframe tbody tr th:only-of-type {\n",
              "        vertical-align: middle;\n",
              "    }\n",
              "\n",
              "    .dataframe tbody tr th {\n",
              "        vertical-align: top;\n",
              "    }\n",
              "\n",
              "    .dataframe thead th {\n",
              "        text-align: right;\n",
              "    }\n",
              "</style>\n",
              "<table border=\"1\" class=\"dataframe\">\n",
              "  <thead>\n",
              "    <tr style=\"text-align: right;\">\n",
              "      <th></th>\n",
              "      <th>fare_amount</th>\n",
              "      <th>pickup_datetime</th>\n",
              "      <th>pickup_longitude</th>\n",
              "      <th>pickup_latitude</th>\n",
              "      <th>dropoff_longitude</th>\n",
              "      <th>dropoff_latitude</th>\n",
              "      <th>passenger_count</th>\n",
              "      <th>is_weekend</th>\n",
              "      <th>is_holiday</th>\n",
              "      <th>hour</th>\n",
              "      <th>Date</th>\n",
              "      <th>trip_distance</th>\n",
              "      <th>jfk_drop_distance</th>\n",
              "      <th>lga_drop_distance</th>\n",
              "      <th>ewr_drop_distance</th>\n",
              "      <th>met_drop_distance</th>\n",
              "      <th>wtc_drop_distance</th>\n",
              "    </tr>\n",
              "  </thead>\n",
              "  <tbody>\n",
              "    <tr>\n",
              "      <th>695207</th>\n",
              "      <td>9.5</td>\n",
              "      <td>2014-10-09 23:11:41+00:00</td>\n",
              "      <td>-73.977280</td>\n",
              "      <td>40.742874</td>\n",
              "      <td>-73.990463</td>\n",
              "      <td>40.763290</td>\n",
              "      <td>1</td>\n",
              "      <td>False</td>\n",
              "      <td>False</td>\n",
              "      <td>23</td>\n",
              "      <td>2014-10-09</td>\n",
              "      <td>2.525523</td>\n",
              "      <td>22.446286</td>\n",
              "      <td>9.917386</td>\n",
              "      <td>17.534088</td>\n",
              "      <td>2.910175</td>\n",
              "      <td>5.865826</td>\n",
              "    </tr>\n",
              "    <tr>\n",
              "      <th>1479593</th>\n",
              "      <td>4.5</td>\n",
              "      <td>2010-10-14 14:06:00+00:00</td>\n",
              "      <td>-73.976219</td>\n",
              "      <td>40.788830</td>\n",
              "      <td>-73.969536</td>\n",
              "      <td>40.785397</td>\n",
              "      <td>3</td>\n",
              "      <td>False</td>\n",
              "      <td>False</td>\n",
              "      <td>14</td>\n",
              "      <td>2010-10-14</td>\n",
              "      <td>0.679913</td>\n",
              "      <td>22.724665</td>\n",
              "      <td>8.094030</td>\n",
              "      <td>20.283044</td>\n",
              "      <td>0.853236</td>\n",
              "      <td>8.774167</td>\n",
              "    </tr>\n",
              "    <tr>\n",
              "      <th>619214</th>\n",
              "      <td>8.5</td>\n",
              "      <td>2011-04-23 16:22:33+00:00</td>\n",
              "      <td>-73.966522</td>\n",
              "      <td>40.764519</td>\n",
              "      <td>-73.992226</td>\n",
              "      <td>40.730679</td>\n",
              "      <td>1</td>\n",
              "      <td>False</td>\n",
              "      <td>False</td>\n",
              "      <td>16</td>\n",
              "      <td>2011-04-23</td>\n",
              "      <td>4.338581</td>\n",
              "      <td>20.596369</td>\n",
              "      <td>11.199405</td>\n",
              "      <td>16.021349</td>\n",
              "      <td>5.939904</td>\n",
              "      <td>2.500420</td>\n",
              "    </tr>\n",
              "    <tr>\n",
              "      <th>748136</th>\n",
              "      <td>4.5</td>\n",
              "      <td>2012-06-19 19:34:37+00:00</td>\n",
              "      <td>-73.997772</td>\n",
              "      <td>40.736149</td>\n",
              "      <td>-73.991402</td>\n",
              "      <td>40.740379</td>\n",
              "      <td>1</td>\n",
              "      <td>False</td>\n",
              "      <td>False</td>\n",
              "      <td>19</td>\n",
              "      <td>2012-06-19</td>\n",
              "      <td>0.713189</td>\n",
              "      <td>21.076678</td>\n",
              "      <td>10.682808</td>\n",
              "      <td>16.426111</td>\n",
              "      <td>4.943435</td>\n",
              "      <td>3.457748</td>\n",
              "    </tr>\n",
              "    <tr>\n",
              "      <th>500539</th>\n",
              "      <td>38.0</td>\n",
              "      <td>2014-10-05 21:44:00+00:00</td>\n",
              "      <td>-73.781876</td>\n",
              "      <td>40.644707</td>\n",
              "      <td>-73.959763</td>\n",
              "      <td>40.694221</td>\n",
              "      <td>1</td>\n",
              "      <td>True</td>\n",
              "      <td>False</td>\n",
              "      <td>21</td>\n",
              "      <td>2014-10-05</td>\n",
              "      <td>15.971099</td>\n",
              "      <td>16.402486</td>\n",
              "      <td>11.685796</td>\n",
              "      <td>18.101108</td>\n",
              "      <td>9.469768</td>\n",
              "      <td>4.691672</td>\n",
              "    </tr>\n",
              "  </tbody>\n",
              "</table>\n",
              "</div>\n",
              "    <div class=\"colab-df-buttons\">\n",
              "\n",
              "  <div class=\"colab-df-container\">\n",
              "    <button class=\"colab-df-convert\" onclick=\"convertToInteractive('df-927ce0a1-3bcd-4277-a6b1-9a567395089d')\"\n",
              "            title=\"Convert this dataframe to an interactive table.\"\n",
              "            style=\"display:none;\">\n",
              "\n",
              "  <svg xmlns=\"http://www.w3.org/2000/svg\" height=\"24px\" viewBox=\"0 -960 960 960\">\n",
              "    <path d=\"M120-120v-720h720v720H120Zm60-500h600v-160H180v160Zm220 220h160v-160H400v160Zm0 220h160v-160H400v160ZM180-400h160v-160H180v160Zm440 0h160v-160H620v160ZM180-180h160v-160H180v160Zm440 0h160v-160H620v160Z\"/>\n",
              "  </svg>\n",
              "    </button>\n",
              "\n",
              "  <style>\n",
              "    .colab-df-container {\n",
              "      display:flex;\n",
              "      gap: 12px;\n",
              "    }\n",
              "\n",
              "    .colab-df-convert {\n",
              "      background-color: #E8F0FE;\n",
              "      border: none;\n",
              "      border-radius: 50%;\n",
              "      cursor: pointer;\n",
              "      display: none;\n",
              "      fill: #1967D2;\n",
              "      height: 32px;\n",
              "      padding: 0 0 0 0;\n",
              "      width: 32px;\n",
              "    }\n",
              "\n",
              "    .colab-df-convert:hover {\n",
              "      background-color: #E2EBFA;\n",
              "      box-shadow: 0px 1px 2px rgba(60, 64, 67, 0.3), 0px 1px 3px 1px rgba(60, 64, 67, 0.15);\n",
              "      fill: #174EA6;\n",
              "    }\n",
              "\n",
              "    .colab-df-buttons div {\n",
              "      margin-bottom: 4px;\n",
              "    }\n",
              "\n",
              "    [theme=dark] .colab-df-convert {\n",
              "      background-color: #3B4455;\n",
              "      fill: #D2E3FC;\n",
              "    }\n",
              "\n",
              "    [theme=dark] .colab-df-convert:hover {\n",
              "      background-color: #434B5C;\n",
              "      box-shadow: 0px 1px 3px 1px rgba(0, 0, 0, 0.15);\n",
              "      filter: drop-shadow(0px 1px 2px rgba(0, 0, 0, 0.3));\n",
              "      fill: #FFFFFF;\n",
              "    }\n",
              "  </style>\n",
              "\n",
              "    <script>\n",
              "      const buttonEl =\n",
              "        document.querySelector('#df-927ce0a1-3bcd-4277-a6b1-9a567395089d button.colab-df-convert');\n",
              "      buttonEl.style.display =\n",
              "        google.colab.kernel.accessAllowed ? 'block' : 'none';\n",
              "\n",
              "      async function convertToInteractive(key) {\n",
              "        const element = document.querySelector('#df-927ce0a1-3bcd-4277-a6b1-9a567395089d');\n",
              "        const dataTable =\n",
              "          await google.colab.kernel.invokeFunction('convertToInteractive',\n",
              "                                                    [key], {});\n",
              "        if (!dataTable) return;\n",
              "\n",
              "        const docLinkHtml = 'Like what you see? Visit the ' +\n",
              "          '<a target=\"_blank\" href=https://colab.research.google.com/notebooks/data_table.ipynb>data table notebook</a>'\n",
              "          + ' to learn more about interactive tables.';\n",
              "        element.innerHTML = '';\n",
              "        dataTable['output_type'] = 'display_data';\n",
              "        await google.colab.output.renderOutput(dataTable, element);\n",
              "        const docLink = document.createElement('div');\n",
              "        docLink.innerHTML = docLinkHtml;\n",
              "        element.appendChild(docLink);\n",
              "      }\n",
              "    </script>\n",
              "  </div>\n",
              "\n",
              "\n",
              "<div id=\"df-8a981ab2-7d24-4975-80b2-de99afb09411\">\n",
              "  <button class=\"colab-df-quickchart\" onclick=\"quickchart('df-8a981ab2-7d24-4975-80b2-de99afb09411')\"\n",
              "            title=\"Suggest charts\"\n",
              "            style=\"display:none;\">\n",
              "\n",
              "<svg xmlns=\"http://www.w3.org/2000/svg\" height=\"24px\"viewBox=\"0 0 24 24\"\n",
              "     width=\"24px\">\n",
              "    <g>\n",
              "        <path d=\"M19 3H5c-1.1 0-2 .9-2 2v14c0 1.1.9 2 2 2h14c1.1 0 2-.9 2-2V5c0-1.1-.9-2-2-2zM9 17H7v-7h2v7zm4 0h-2V7h2v10zm4 0h-2v-4h2v4z\"/>\n",
              "    </g>\n",
              "</svg>\n",
              "  </button>\n",
              "\n",
              "<style>\n",
              "  .colab-df-quickchart {\n",
              "      --bg-color: #E8F0FE;\n",
              "      --fill-color: #1967D2;\n",
              "      --hover-bg-color: #E2EBFA;\n",
              "      --hover-fill-color: #174EA6;\n",
              "      --disabled-fill-color: #AAA;\n",
              "      --disabled-bg-color: #DDD;\n",
              "  }\n",
              "\n",
              "  [theme=dark] .colab-df-quickchart {\n",
              "      --bg-color: #3B4455;\n",
              "      --fill-color: #D2E3FC;\n",
              "      --hover-bg-color: #434B5C;\n",
              "      --hover-fill-color: #FFFFFF;\n",
              "      --disabled-bg-color: #3B4455;\n",
              "      --disabled-fill-color: #666;\n",
              "  }\n",
              "\n",
              "  .colab-df-quickchart {\n",
              "    background-color: var(--bg-color);\n",
              "    border: none;\n",
              "    border-radius: 50%;\n",
              "    cursor: pointer;\n",
              "    display: none;\n",
              "    fill: var(--fill-color);\n",
              "    height: 32px;\n",
              "    padding: 0;\n",
              "    width: 32px;\n",
              "  }\n",
              "\n",
              "  .colab-df-quickchart:hover {\n",
              "    background-color: var(--hover-bg-color);\n",
              "    box-shadow: 0 1px 2px rgba(60, 64, 67, 0.3), 0 1px 3px 1px rgba(60, 64, 67, 0.15);\n",
              "    fill: var(--button-hover-fill-color);\n",
              "  }\n",
              "\n",
              "  .colab-df-quickchart-complete:disabled,\n",
              "  .colab-df-quickchart-complete:disabled:hover {\n",
              "    background-color: var(--disabled-bg-color);\n",
              "    fill: var(--disabled-fill-color);\n",
              "    box-shadow: none;\n",
              "  }\n",
              "\n",
              "  .colab-df-spinner {\n",
              "    border: 2px solid var(--fill-color);\n",
              "    border-color: transparent;\n",
              "    border-bottom-color: var(--fill-color);\n",
              "    animation:\n",
              "      spin 1s steps(1) infinite;\n",
              "  }\n",
              "\n",
              "  @keyframes spin {\n",
              "    0% {\n",
              "      border-color: transparent;\n",
              "      border-bottom-color: var(--fill-color);\n",
              "      border-left-color: var(--fill-color);\n",
              "    }\n",
              "    20% {\n",
              "      border-color: transparent;\n",
              "      border-left-color: var(--fill-color);\n",
              "      border-top-color: var(--fill-color);\n",
              "    }\n",
              "    30% {\n",
              "      border-color: transparent;\n",
              "      border-left-color: var(--fill-color);\n",
              "      border-top-color: var(--fill-color);\n",
              "      border-right-color: var(--fill-color);\n",
              "    }\n",
              "    40% {\n",
              "      border-color: transparent;\n",
              "      border-right-color: var(--fill-color);\n",
              "      border-top-color: var(--fill-color);\n",
              "    }\n",
              "    60% {\n",
              "      border-color: transparent;\n",
              "      border-right-color: var(--fill-color);\n",
              "    }\n",
              "    80% {\n",
              "      border-color: transparent;\n",
              "      border-right-color: var(--fill-color);\n",
              "      border-bottom-color: var(--fill-color);\n",
              "    }\n",
              "    90% {\n",
              "      border-color: transparent;\n",
              "      border-bottom-color: var(--fill-color);\n",
              "    }\n",
              "  }\n",
              "</style>\n",
              "\n",
              "  <script>\n",
              "    async function quickchart(key) {\n",
              "      const quickchartButtonEl =\n",
              "        document.querySelector('#' + key + ' button');\n",
              "      quickchartButtonEl.disabled = true;  // To prevent multiple clicks.\n",
              "      quickchartButtonEl.classList.add('colab-df-spinner');\n",
              "      try {\n",
              "        const charts = await google.colab.kernel.invokeFunction(\n",
              "            'suggestCharts', [key], {});\n",
              "      } catch (error) {\n",
              "        console.error('Error during call to suggestCharts:', error);\n",
              "      }\n",
              "      quickchartButtonEl.classList.remove('colab-df-spinner');\n",
              "      quickchartButtonEl.classList.add('colab-df-quickchart-complete');\n",
              "    }\n",
              "    (() => {\n",
              "      let quickchartButtonEl =\n",
              "        document.querySelector('#df-8a981ab2-7d24-4975-80b2-de99afb09411 button');\n",
              "      quickchartButtonEl.style.display =\n",
              "        google.colab.kernel.accessAllowed ? 'block' : 'none';\n",
              "    })();\n",
              "  </script>\n",
              "</div>\n",
              "\n",
              "    </div>\n",
              "  </div>\n"
            ],
            "application/vnd.google.colaboratory.intrinsic+json": {
              "type": "dataframe",
              "repr_error": "0"
            }
          },
          "metadata": {},
          "execution_count": 90
        }
      ],
      "source": [
        "train_df.sample(5)"
      ]
    },
    {
      "cell_type": "markdown",
      "metadata": {
        "id": "9BCwuglGWOTf"
      },
      "source": [
        "###Add Fuel Prices"
      ]
    },
    {
      "cell_type": "code",
      "execution_count": 91,
      "metadata": {
        "id": "AiZ8gCGk1-Pb"
      },
      "outputs": [],
      "source": [
        "train_df.Date = train_df.Date.astype('datetime64[ns]')\n",
        "val_df.Date = val_df.Date.astype('datetime64[ns]')\n",
        "test_df.Date = test_df.Date.astype('datetime64[ns]')"
      ]
    },
    {
      "cell_type": "code",
      "execution_count": 92,
      "metadata": {
        "colab": {
          "base_uri": "https://localhost:8080/"
        },
        "id": "Kxuv-4KD3Rl_",
        "outputId": "786897c9-0f8d-4e6c-f0cb-e05816a7697d"
      },
      "outputs": [
        {
          "output_type": "execute_result",
          "data": {
            "text/plain": [
              "2372"
            ]
          },
          "metadata": {},
          "execution_count": 92
        }
      ],
      "source": [
        "len(train_df.Date.dt.date.unique())"
      ]
    },
    {
      "cell_type": "code",
      "execution_count": 93,
      "metadata": {
        "id": "nm4pngdl3k8T"
      },
      "outputs": [],
      "source": [
        "x = df_fuel[df_fuel.Date.dt.date>train_df.Date.dt.date.min()]\n",
        "x = x[x.Date.dt.date<train_df.Date.dt.date.max()]"
      ]
    },
    {
      "cell_type": "code",
      "execution_count": 94,
      "metadata": {
        "colab": {
          "base_uri": "https://localhost:8080/"
        },
        "id": "uxj-XykL30rS",
        "outputId": "e8a477b2-a2cd-4a86-8038-0abf0ad0fc48"
      },
      "outputs": [
        {
          "output_type": "execute_result",
          "data": {
            "text/plain": [
              "339"
            ]
          },
          "metadata": {},
          "execution_count": 94
        }
      ],
      "source": [
        "len(x.Date.dt.date.unique())"
      ]
    },
    {
      "cell_type": "code",
      "execution_count": 95,
      "metadata": {
        "id": "FIL0FabOfO5-"
      },
      "outputs": [],
      "source": [
        "df_fuel['Date'] = pd.to_datetime(df_fuel.Date, format='%Y-%m-%d')\n",
        "df_fuel = df_fuel.set_index('Date').resample('D').ffill().reset_index()"
      ]
    },
    {
      "cell_type": "code",
      "execution_count": 96,
      "metadata": {
        "id": "KuVuVd7H4pSI"
      },
      "outputs": [],
      "source": [
        "x = df_fuel[df_fuel.Date.dt.date>train_df.Date.dt.date.min()]\n",
        "x = x[x.Date.dt.date<train_df.Date.dt.date.max()]"
      ]
    },
    {
      "cell_type": "code",
      "execution_count": 97,
      "metadata": {
        "colab": {
          "base_uri": "https://localhost:8080/"
        },
        "id": "qrRi_VSR4q3p",
        "outputId": "68a91f15-eee8-4fd8-a44f-d7ecb1832315"
      },
      "outputs": [
        {
          "output_type": "execute_result",
          "data": {
            "text/plain": [
              "2370"
            ]
          },
          "metadata": {},
          "execution_count": 97
        }
      ],
      "source": [
        "len(x.Date.dt.date.unique())"
      ]
    },
    {
      "cell_type": "code",
      "execution_count": 98,
      "metadata": {
        "id": "lXpt0SvqmbSx"
      },
      "outputs": [],
      "source": [
        "df_fuel.Date = df_fuel.Date.astype('string')"
      ]
    },
    {
      "cell_type": "code",
      "execution_count": 99,
      "metadata": {
        "colab": {
          "base_uri": "https://localhost:8080/"
        },
        "id": "u4xV-URUnj0K",
        "outputId": "4232eb7a-6230-4b5c-a765-db85f6bdce24"
      },
      "outputs": [
        {
          "output_type": "execute_result",
          "data": {
            "text/plain": [
              "string[python]"
            ]
          },
          "metadata": {},
          "execution_count": 99
        }
      ],
      "source": [
        "df_fuel.Date.dtype"
      ]
    },
    {
      "cell_type": "code",
      "execution_count": 100,
      "metadata": {
        "id": "qI5mecxan0dj"
      },
      "outputs": [],
      "source": [
        "train_df.Date = train_df.Date.astype('string')\n",
        "val_df.Date = val_df.Date.astype('string')\n",
        "test_df.Date = test_df.Date.astype('string')"
      ]
    },
    {
      "cell_type": "code",
      "execution_count": 101,
      "metadata": {
        "id": "Z3oKZ9WjYgvb"
      },
      "outputs": [],
      "source": [
        "train_df = train_df.merge(df_fuel, how='left', on = ['Date'], validate='many_to_one') #merging the Fuel data into the train data"
      ]
    },
    {
      "cell_type": "code",
      "execution_count": 102,
      "metadata": {
        "id": "iGlew23xcrKD"
      },
      "outputs": [],
      "source": [
        "val_df = val_df.merge(df_fuel, how='left', on = ['Date'], validate='many_to_one') #merging the Fuel data into the validation data"
      ]
    },
    {
      "cell_type": "code",
      "execution_count": 103,
      "metadata": {
        "id": "N3jbwO9kWxQR"
      },
      "outputs": [],
      "source": [
        "test_df = test_df.merge(df_fuel, how='left', on = ['Date'], validate='many_to_one') # merging the Fuel data into the test data"
      ]
    },
    {
      "cell_type": "markdown",
      "metadata": {
        "id": "6wzLtS69XNnd"
      },
      "source": [
        "###Impute Missing Values"
      ]
    },
    {
      "cell_type": "code",
      "execution_count": 104,
      "metadata": {
        "colab": {
          "base_uri": "https://localhost:8080/"
        },
        "id": "DpKUfFFXXQ98",
        "outputId": "76d428b1-d044-4481-f3a4-3a8d6088b1f3"
      },
      "outputs": [
        {
          "output_type": "execute_result",
          "data": {
            "text/plain": [
              "fare_amount                       0\n",
              "pickup_datetime                   0\n",
              "pickup_longitude                  0\n",
              "pickup_latitude                   0\n",
              "dropoff_longitude                 0\n",
              "dropoff_latitude                  0\n",
              "passenger_count                   0\n",
              "is_weekend                        0\n",
              "is_holiday                        0\n",
              "hour                              0\n",
              "Date                              0\n",
              "trip_distance                     0\n",
              "jfk_drop_distance                 0\n",
              "lga_drop_distance                 0\n",
              "ewr_drop_distance                 0\n",
              "met_drop_distance                 0\n",
              "wtc_drop_distance                 0\n",
              "New York State Average ($/gal)    0\n",
              "dtype: int64"
            ]
          },
          "metadata": {},
          "execution_count": 104
        }
      ],
      "source": [
        "train_df.isna().sum()"
      ]
    },
    {
      "cell_type": "code",
      "execution_count": 105,
      "metadata": {
        "colab": {
          "base_uri": "https://localhost:8080/"
        },
        "id": "BIxNHsThoJ6S",
        "outputId": "45ffaa22-658c-41ac-9766-669ffd4c3828"
      },
      "outputs": [
        {
          "output_type": "execute_result",
          "data": {
            "text/plain": [
              "fare_amount                       0\n",
              "pickup_datetime                   0\n",
              "pickup_longitude                  0\n",
              "pickup_latitude                   0\n",
              "dropoff_longitude                 0\n",
              "dropoff_latitude                  0\n",
              "passenger_count                   0\n",
              "is_weekend                        0\n",
              "is_holiday                        0\n",
              "hour                              0\n",
              "Date                              0\n",
              "trip_distance                     0\n",
              "jfk_drop_distance                 0\n",
              "lga_drop_distance                 0\n",
              "ewr_drop_distance                 0\n",
              "met_drop_distance                 0\n",
              "wtc_drop_distance                 0\n",
              "New York State Average ($/gal)    0\n",
              "dtype: int64"
            ]
          },
          "metadata": {},
          "execution_count": 105
        }
      ],
      "source": [
        "val_df.isna().sum()"
      ]
    },
    {
      "cell_type": "code",
      "execution_count": 106,
      "metadata": {
        "colab": {
          "base_uri": "https://localhost:8080/"
        },
        "id": "7pVBzxbQXTyB",
        "outputId": "e6ef1a7d-ccf3-4a58-d45d-29c8ccc3083b"
      },
      "outputs": [
        {
          "output_type": "execute_result",
          "data": {
            "text/plain": [
              "key                               0\n",
              "pickup_datetime                   0\n",
              "pickup_longitude                  0\n",
              "pickup_latitude                   0\n",
              "dropoff_longitude                 0\n",
              "dropoff_latitude                  0\n",
              "passenger_count                   0\n",
              "is_weekend                        0\n",
              "is_holiday                        0\n",
              "hour                              0\n",
              "Date                              0\n",
              "trip_distance                     0\n",
              "jfk_drop_distance                 0\n",
              "lga_drop_distance                 0\n",
              "ewr_drop_distance                 0\n",
              "met_drop_distance                 0\n",
              "wtc_drop_distance                 0\n",
              "New York State Average ($/gal)    0\n",
              "dtype: int64"
            ]
          },
          "metadata": {},
          "execution_count": 106
        }
      ],
      "source": [
        "test_df.isna().sum()"
      ]
    },
    {
      "cell_type": "markdown",
      "metadata": {
        "id": "IIIAi4l4o1vt"
      },
      "source": [
        "###Remove Outliers & Invalid Data"
      ]
    },
    {
      "cell_type": "code",
      "execution_count": 107,
      "metadata": {
        "colab": {
          "base_uri": "https://localhost:8080/",
          "height": 372
        },
        "id": "CqulPnELokOE",
        "outputId": "fd073b94-9c08-4fce-a97d-fbce2a930614"
      },
      "outputs": [
        {
          "output_type": "execute_result",
          "data": {
            "text/plain": [
              "       pickup_longitude  pickup_latitude  dropoff_longitude  dropoff_latitude  \\\n",
              "count       9914.000000      9914.000000        9914.000000       9914.000000   \n",
              "mean         -73.974716        40.751041         -73.973656         40.751740   \n",
              "std            0.042774         0.033541           0.039072          0.035435   \n",
              "min          -74.252190        40.573143         -74.263245         40.568974   \n",
              "25%          -73.992500        40.736125         -73.991249         40.735253   \n",
              "50%          -73.982327        40.753052         -73.980015         40.754065   \n",
              "75%          -73.968012        40.767113         -73.964062         40.768757   \n",
              "max          -72.986534        41.709557         -72.990967         41.696682   \n",
              "\n",
              "       passenger_count         hour  trip_distance  jfk_drop_distance  \\\n",
              "count      9914.000000  9914.000000    9914.000000        9914.000000   \n",
              "mean          1.671273    13.467420       3.433216          20.916754   \n",
              "std           1.278747     6.868584       3.969883           3.303943   \n",
              "min           1.000000     0.000000       0.000000           0.401900   \n",
              "25%           1.000000     8.000000       1.297261          20.513337   \n",
              "50%           1.000000    15.000000       2.215648          21.181472   \n",
              "75%           2.000000    19.000000       4.043051          21.909794   \n",
              "max           6.000000    23.000000      99.933281         134.497726   \n",
              "\n",
              "       lga_drop_distance  ewr_drop_distance  met_drop_distance  \\\n",
              "count        9914.000000        9914.000000        9914.000000   \n",
              "mean            9.675180          18.546659           4.512898   \n",
              "std             3.295647           4.035820           4.018427   \n",
              "min             0.285629           0.284680           0.085747   \n",
              "25%             8.311565          16.520517           2.126287   \n",
              "50%             9.477797          18.024350           3.698123   \n",
              "75%            10.965272          19.880536           5.922544   \n",
              "max           126.062576         149.400787         130.347153   \n",
              "\n",
              "       wtc_drop_distance  New York State Average ($/gal)  \n",
              "count        9914.000000                     9914.000000  \n",
              "mean            6.037652                        3.845101  \n",
              "std             4.252539                        0.557749  \n",
              "min             0.040269                        2.610000  \n",
              "25%             3.670107                        3.260000  \n",
              "50%             5.541466                        4.170000  \n",
              "75%             7.757612                        4.290000  \n",
              "max           138.619492                        4.470000  "
            ],
            "text/html": [
              "\n",
              "  <div id=\"df-b247e6ca-4abf-4a5a-813d-1a0140989d10\" class=\"colab-df-container\">\n",
              "    <div>\n",
              "<style scoped>\n",
              "    .dataframe tbody tr th:only-of-type {\n",
              "        vertical-align: middle;\n",
              "    }\n",
              "\n",
              "    .dataframe tbody tr th {\n",
              "        vertical-align: top;\n",
              "    }\n",
              "\n",
              "    .dataframe thead th {\n",
              "        text-align: right;\n",
              "    }\n",
              "</style>\n",
              "<table border=\"1\" class=\"dataframe\">\n",
              "  <thead>\n",
              "    <tr style=\"text-align: right;\">\n",
              "      <th></th>\n",
              "      <th>pickup_longitude</th>\n",
              "      <th>pickup_latitude</th>\n",
              "      <th>dropoff_longitude</th>\n",
              "      <th>dropoff_latitude</th>\n",
              "      <th>passenger_count</th>\n",
              "      <th>hour</th>\n",
              "      <th>trip_distance</th>\n",
              "      <th>jfk_drop_distance</th>\n",
              "      <th>lga_drop_distance</th>\n",
              "      <th>ewr_drop_distance</th>\n",
              "      <th>met_drop_distance</th>\n",
              "      <th>wtc_drop_distance</th>\n",
              "      <th>New York State Average ($/gal)</th>\n",
              "    </tr>\n",
              "  </thead>\n",
              "  <tbody>\n",
              "    <tr>\n",
              "      <th>count</th>\n",
              "      <td>9914.000000</td>\n",
              "      <td>9914.000000</td>\n",
              "      <td>9914.000000</td>\n",
              "      <td>9914.000000</td>\n",
              "      <td>9914.000000</td>\n",
              "      <td>9914.000000</td>\n",
              "      <td>9914.000000</td>\n",
              "      <td>9914.000000</td>\n",
              "      <td>9914.000000</td>\n",
              "      <td>9914.000000</td>\n",
              "      <td>9914.000000</td>\n",
              "      <td>9914.000000</td>\n",
              "      <td>9914.000000</td>\n",
              "    </tr>\n",
              "    <tr>\n",
              "      <th>mean</th>\n",
              "      <td>-73.974716</td>\n",
              "      <td>40.751041</td>\n",
              "      <td>-73.973656</td>\n",
              "      <td>40.751740</td>\n",
              "      <td>1.671273</td>\n",
              "      <td>13.467420</td>\n",
              "      <td>3.433216</td>\n",
              "      <td>20.916754</td>\n",
              "      <td>9.675180</td>\n",
              "      <td>18.546659</td>\n",
              "      <td>4.512898</td>\n",
              "      <td>6.037652</td>\n",
              "      <td>3.845101</td>\n",
              "    </tr>\n",
              "    <tr>\n",
              "      <th>std</th>\n",
              "      <td>0.042774</td>\n",
              "      <td>0.033541</td>\n",
              "      <td>0.039072</td>\n",
              "      <td>0.035435</td>\n",
              "      <td>1.278747</td>\n",
              "      <td>6.868584</td>\n",
              "      <td>3.969883</td>\n",
              "      <td>3.303943</td>\n",
              "      <td>3.295647</td>\n",
              "      <td>4.035820</td>\n",
              "      <td>4.018427</td>\n",
              "      <td>4.252539</td>\n",
              "      <td>0.557749</td>\n",
              "    </tr>\n",
              "    <tr>\n",
              "      <th>min</th>\n",
              "      <td>-74.252190</td>\n",
              "      <td>40.573143</td>\n",
              "      <td>-74.263245</td>\n",
              "      <td>40.568974</td>\n",
              "      <td>1.000000</td>\n",
              "      <td>0.000000</td>\n",
              "      <td>0.000000</td>\n",
              "      <td>0.401900</td>\n",
              "      <td>0.285629</td>\n",
              "      <td>0.284680</td>\n",
              "      <td>0.085747</td>\n",
              "      <td>0.040269</td>\n",
              "      <td>2.610000</td>\n",
              "    </tr>\n",
              "    <tr>\n",
              "      <th>25%</th>\n",
              "      <td>-73.992500</td>\n",
              "      <td>40.736125</td>\n",
              "      <td>-73.991249</td>\n",
              "      <td>40.735253</td>\n",
              "      <td>1.000000</td>\n",
              "      <td>8.000000</td>\n",
              "      <td>1.297261</td>\n",
              "      <td>20.513337</td>\n",
              "      <td>8.311565</td>\n",
              "      <td>16.520517</td>\n",
              "      <td>2.126287</td>\n",
              "      <td>3.670107</td>\n",
              "      <td>3.260000</td>\n",
              "    </tr>\n",
              "    <tr>\n",
              "      <th>50%</th>\n",
              "      <td>-73.982327</td>\n",
              "      <td>40.753052</td>\n",
              "      <td>-73.980015</td>\n",
              "      <td>40.754065</td>\n",
              "      <td>1.000000</td>\n",
              "      <td>15.000000</td>\n",
              "      <td>2.215648</td>\n",
              "      <td>21.181472</td>\n",
              "      <td>9.477797</td>\n",
              "      <td>18.024350</td>\n",
              "      <td>3.698123</td>\n",
              "      <td>5.541466</td>\n",
              "      <td>4.170000</td>\n",
              "    </tr>\n",
              "    <tr>\n",
              "      <th>75%</th>\n",
              "      <td>-73.968012</td>\n",
              "      <td>40.767113</td>\n",
              "      <td>-73.964062</td>\n",
              "      <td>40.768757</td>\n",
              "      <td>2.000000</td>\n",
              "      <td>19.000000</td>\n",
              "      <td>4.043051</td>\n",
              "      <td>21.909794</td>\n",
              "      <td>10.965272</td>\n",
              "      <td>19.880536</td>\n",
              "      <td>5.922544</td>\n",
              "      <td>7.757612</td>\n",
              "      <td>4.290000</td>\n",
              "    </tr>\n",
              "    <tr>\n",
              "      <th>max</th>\n",
              "      <td>-72.986534</td>\n",
              "      <td>41.709557</td>\n",
              "      <td>-72.990967</td>\n",
              "      <td>41.696682</td>\n",
              "      <td>6.000000</td>\n",
              "      <td>23.000000</td>\n",
              "      <td>99.933281</td>\n",
              "      <td>134.497726</td>\n",
              "      <td>126.062576</td>\n",
              "      <td>149.400787</td>\n",
              "      <td>130.347153</td>\n",
              "      <td>138.619492</td>\n",
              "      <td>4.470000</td>\n",
              "    </tr>\n",
              "  </tbody>\n",
              "</table>\n",
              "</div>\n",
              "    <div class=\"colab-df-buttons\">\n",
              "\n",
              "  <div class=\"colab-df-container\">\n",
              "    <button class=\"colab-df-convert\" onclick=\"convertToInteractive('df-b247e6ca-4abf-4a5a-813d-1a0140989d10')\"\n",
              "            title=\"Convert this dataframe to an interactive table.\"\n",
              "            style=\"display:none;\">\n",
              "\n",
              "  <svg xmlns=\"http://www.w3.org/2000/svg\" height=\"24px\" viewBox=\"0 -960 960 960\">\n",
              "    <path d=\"M120-120v-720h720v720H120Zm60-500h600v-160H180v160Zm220 220h160v-160H400v160Zm0 220h160v-160H400v160ZM180-400h160v-160H180v160Zm440 0h160v-160H620v160ZM180-180h160v-160H180v160Zm440 0h160v-160H620v160Z\"/>\n",
              "  </svg>\n",
              "    </button>\n",
              "\n",
              "  <style>\n",
              "    .colab-df-container {\n",
              "      display:flex;\n",
              "      gap: 12px;\n",
              "    }\n",
              "\n",
              "    .colab-df-convert {\n",
              "      background-color: #E8F0FE;\n",
              "      border: none;\n",
              "      border-radius: 50%;\n",
              "      cursor: pointer;\n",
              "      display: none;\n",
              "      fill: #1967D2;\n",
              "      height: 32px;\n",
              "      padding: 0 0 0 0;\n",
              "      width: 32px;\n",
              "    }\n",
              "\n",
              "    .colab-df-convert:hover {\n",
              "      background-color: #E2EBFA;\n",
              "      box-shadow: 0px 1px 2px rgba(60, 64, 67, 0.3), 0px 1px 3px 1px rgba(60, 64, 67, 0.15);\n",
              "      fill: #174EA6;\n",
              "    }\n",
              "\n",
              "    .colab-df-buttons div {\n",
              "      margin-bottom: 4px;\n",
              "    }\n",
              "\n",
              "    [theme=dark] .colab-df-convert {\n",
              "      background-color: #3B4455;\n",
              "      fill: #D2E3FC;\n",
              "    }\n",
              "\n",
              "    [theme=dark] .colab-df-convert:hover {\n",
              "      background-color: #434B5C;\n",
              "      box-shadow: 0px 1px 3px 1px rgba(0, 0, 0, 0.15);\n",
              "      filter: drop-shadow(0px 1px 2px rgba(0, 0, 0, 0.3));\n",
              "      fill: #FFFFFF;\n",
              "    }\n",
              "  </style>\n",
              "\n",
              "    <script>\n",
              "      const buttonEl =\n",
              "        document.querySelector('#df-b247e6ca-4abf-4a5a-813d-1a0140989d10 button.colab-df-convert');\n",
              "      buttonEl.style.display =\n",
              "        google.colab.kernel.accessAllowed ? 'block' : 'none';\n",
              "\n",
              "      async function convertToInteractive(key) {\n",
              "        const element = document.querySelector('#df-b247e6ca-4abf-4a5a-813d-1a0140989d10');\n",
              "        const dataTable =\n",
              "          await google.colab.kernel.invokeFunction('convertToInteractive',\n",
              "                                                    [key], {});\n",
              "        if (!dataTable) return;\n",
              "\n",
              "        const docLinkHtml = 'Like what you see? Visit the ' +\n",
              "          '<a target=\"_blank\" href=https://colab.research.google.com/notebooks/data_table.ipynb>data table notebook</a>'\n",
              "          + ' to learn more about interactive tables.';\n",
              "        element.innerHTML = '';\n",
              "        dataTable['output_type'] = 'display_data';\n",
              "        await google.colab.output.renderOutput(dataTable, element);\n",
              "        const docLink = document.createElement('div');\n",
              "        docLink.innerHTML = docLinkHtml;\n",
              "        element.appendChild(docLink);\n",
              "      }\n",
              "    </script>\n",
              "  </div>\n",
              "\n",
              "\n",
              "<div id=\"df-debc36ca-4670-4948-a93d-a9c42d90a32d\">\n",
              "  <button class=\"colab-df-quickchart\" onclick=\"quickchart('df-debc36ca-4670-4948-a93d-a9c42d90a32d')\"\n",
              "            title=\"Suggest charts\"\n",
              "            style=\"display:none;\">\n",
              "\n",
              "<svg xmlns=\"http://www.w3.org/2000/svg\" height=\"24px\"viewBox=\"0 0 24 24\"\n",
              "     width=\"24px\">\n",
              "    <g>\n",
              "        <path d=\"M19 3H5c-1.1 0-2 .9-2 2v14c0 1.1.9 2 2 2h14c1.1 0 2-.9 2-2V5c0-1.1-.9-2-2-2zM9 17H7v-7h2v7zm4 0h-2V7h2v10zm4 0h-2v-4h2v4z\"/>\n",
              "    </g>\n",
              "</svg>\n",
              "  </button>\n",
              "\n",
              "<style>\n",
              "  .colab-df-quickchart {\n",
              "      --bg-color: #E8F0FE;\n",
              "      --fill-color: #1967D2;\n",
              "      --hover-bg-color: #E2EBFA;\n",
              "      --hover-fill-color: #174EA6;\n",
              "      --disabled-fill-color: #AAA;\n",
              "      --disabled-bg-color: #DDD;\n",
              "  }\n",
              "\n",
              "  [theme=dark] .colab-df-quickchart {\n",
              "      --bg-color: #3B4455;\n",
              "      --fill-color: #D2E3FC;\n",
              "      --hover-bg-color: #434B5C;\n",
              "      --hover-fill-color: #FFFFFF;\n",
              "      --disabled-bg-color: #3B4455;\n",
              "      --disabled-fill-color: #666;\n",
              "  }\n",
              "\n",
              "  .colab-df-quickchart {\n",
              "    background-color: var(--bg-color);\n",
              "    border: none;\n",
              "    border-radius: 50%;\n",
              "    cursor: pointer;\n",
              "    display: none;\n",
              "    fill: var(--fill-color);\n",
              "    height: 32px;\n",
              "    padding: 0;\n",
              "    width: 32px;\n",
              "  }\n",
              "\n",
              "  .colab-df-quickchart:hover {\n",
              "    background-color: var(--hover-bg-color);\n",
              "    box-shadow: 0 1px 2px rgba(60, 64, 67, 0.3), 0 1px 3px 1px rgba(60, 64, 67, 0.15);\n",
              "    fill: var(--button-hover-fill-color);\n",
              "  }\n",
              "\n",
              "  .colab-df-quickchart-complete:disabled,\n",
              "  .colab-df-quickchart-complete:disabled:hover {\n",
              "    background-color: var(--disabled-bg-color);\n",
              "    fill: var(--disabled-fill-color);\n",
              "    box-shadow: none;\n",
              "  }\n",
              "\n",
              "  .colab-df-spinner {\n",
              "    border: 2px solid var(--fill-color);\n",
              "    border-color: transparent;\n",
              "    border-bottom-color: var(--fill-color);\n",
              "    animation:\n",
              "      spin 1s steps(1) infinite;\n",
              "  }\n",
              "\n",
              "  @keyframes spin {\n",
              "    0% {\n",
              "      border-color: transparent;\n",
              "      border-bottom-color: var(--fill-color);\n",
              "      border-left-color: var(--fill-color);\n",
              "    }\n",
              "    20% {\n",
              "      border-color: transparent;\n",
              "      border-left-color: var(--fill-color);\n",
              "      border-top-color: var(--fill-color);\n",
              "    }\n",
              "    30% {\n",
              "      border-color: transparent;\n",
              "      border-left-color: var(--fill-color);\n",
              "      border-top-color: var(--fill-color);\n",
              "      border-right-color: var(--fill-color);\n",
              "    }\n",
              "    40% {\n",
              "      border-color: transparent;\n",
              "      border-right-color: var(--fill-color);\n",
              "      border-top-color: var(--fill-color);\n",
              "    }\n",
              "    60% {\n",
              "      border-color: transparent;\n",
              "      border-right-color: var(--fill-color);\n",
              "    }\n",
              "    80% {\n",
              "      border-color: transparent;\n",
              "      border-right-color: var(--fill-color);\n",
              "      border-bottom-color: var(--fill-color);\n",
              "    }\n",
              "    90% {\n",
              "      border-color: transparent;\n",
              "      border-bottom-color: var(--fill-color);\n",
              "    }\n",
              "  }\n",
              "</style>\n",
              "\n",
              "  <script>\n",
              "    async function quickchart(key) {\n",
              "      const quickchartButtonEl =\n",
              "        document.querySelector('#' + key + ' button');\n",
              "      quickchartButtonEl.disabled = true;  // To prevent multiple clicks.\n",
              "      quickchartButtonEl.classList.add('colab-df-spinner');\n",
              "      try {\n",
              "        const charts = await google.colab.kernel.invokeFunction(\n",
              "            'suggestCharts', [key], {});\n",
              "      } catch (error) {\n",
              "        console.error('Error during call to suggestCharts:', error);\n",
              "      }\n",
              "      quickchartButtonEl.classList.remove('colab-df-spinner');\n",
              "      quickchartButtonEl.classList.add('colab-df-quickchart-complete');\n",
              "    }\n",
              "    (() => {\n",
              "      let quickchartButtonEl =\n",
              "        document.querySelector('#df-debc36ca-4670-4948-a93d-a9c42d90a32d button');\n",
              "      quickchartButtonEl.style.display =\n",
              "        google.colab.kernel.accessAllowed ? 'block' : 'none';\n",
              "    })();\n",
              "  </script>\n",
              "</div>\n",
              "\n",
              "    </div>\n",
              "  </div>\n"
            ],
            "application/vnd.google.colaboratory.intrinsic+json": {
              "type": "dataframe",
              "summary": "{\n  \"name\": \"test_df\",\n  \"rows\": 8,\n  \"fields\": [\n    {\n      \"column\": \"pickup_longitude\",\n      \"properties\": {\n        \"dtype\": \"number\",\n        \"std\": 3527.603736406376,\n        \"min\": -74.25218963623047,\n        \"max\": 9914.0,\n        \"num_unique_values\": 8,\n        \"samples\": [\n          -73.97471618652344,\n          -73.98232650756836,\n          9914.0\n        ],\n        \"semantic_type\": \"\",\n        \"description\": \"\"\n      }\n    },\n    {\n      \"column\": \"pickup_latitude\",\n      \"properties\": {\n        \"dtype\": \"number\",\n        \"std\": 3492.7668685471854,\n        \"min\": 0.0335414856672287,\n        \"max\": 9914.0,\n        \"num_unique_values\": 8,\n        \"samples\": [\n          40.751041412353516,\n          40.7530517578125,\n          9914.0\n        ],\n        \"semantic_type\": \"\",\n        \"description\": \"\"\n      }\n    },\n    {\n      \"column\": \"dropoff_longitude\",\n      \"properties\": {\n        \"dtype\": \"number\",\n        \"std\": 3527.6042660359194,\n        \"min\": -74.26324462890625,\n        \"max\": 9914.0,\n        \"num_unique_values\": 8,\n        \"samples\": [\n          -73.9736557006836,\n          -73.98001480102539,\n          9914.0\n        ],\n        \"semantic_type\": \"\",\n        \"description\": \"\"\n      }\n    },\n    {\n      \"column\": \"dropoff_latitude\",\n      \"properties\": {\n        \"dtype\": \"number\",\n        \"std\": 3492.7675017420042,\n        \"min\": 0.035435210913419724,\n        \"max\": 9914.0,\n        \"num_unique_values\": 8,\n        \"samples\": [\n          40.751739501953125,\n          40.75406455993652,\n          9914.0\n        ],\n        \"semantic_type\": \"\",\n        \"description\": \"\"\n      }\n    },\n    {\n      \"column\": \"passenger_count\",\n      \"properties\": {\n        \"dtype\": \"number\",\n        \"std\": 3504.4241319953294,\n        \"min\": 1.0,\n        \"max\": 9914.0,\n        \"num_unique_values\": 6,\n        \"samples\": [\n          9914.0,\n          1.671272947347186,\n          6.0\n        ],\n        \"semantic_type\": \"\",\n        \"description\": \"\"\n      }\n    },\n    {\n      \"column\": \"hour\",\n      \"properties\": {\n        \"dtype\": \"number\",\n        \"std\": 3500.825688015157,\n        \"min\": 0.0,\n        \"max\": 9914.0,\n        \"num_unique_values\": 8,\n        \"samples\": [\n          13.467419810369176,\n          15.0,\n          9914.0\n        ],\n        \"semantic_type\": \"\",\n        \"description\": \"\"\n      }\n    },\n    {\n      \"column\": \"trip_distance\",\n      \"properties\": {\n        \"dtype\": \"number\",\n        \"std\": 3499.4917580325546,\n        \"min\": 0.0,\n        \"max\": 9914.0,\n        \"num_unique_values\": 8,\n        \"samples\": [\n          3.433215856552124,\n          2.2156484127044678,\n          9914.0\n        ],\n        \"semantic_type\": \"\",\n        \"description\": \"\"\n      }\n    },\n    {\n      \"column\": \"jfk_drop_distance\",\n      \"properties\": {\n        \"dtype\": \"number\",\n        \"std\": 3494.140701419347,\n        \"min\": 0.401900053024292,\n        \"max\": 9914.0,\n        \"num_unique_values\": 8,\n        \"samples\": [\n          20.9167537689209,\n          21.181471824645996,\n          9914.0\n        ],\n        \"semantic_type\": \"\",\n        \"description\": \"\"\n      }\n    },\n    {\n      \"column\": \"lga_drop_distance\",\n      \"properties\": {\n        \"dtype\": \"number\",\n        \"std\": 3496.8893379947936,\n        \"min\": 0.2856287658214569,\n        \"max\": 9914.0,\n        \"num_unique_values\": 8,\n        \"samples\": [\n          9.675180435180664,\n          9.477797031402588,\n          9914.0\n        ],\n        \"semantic_type\": \"\",\n        \"description\": \"\"\n      }\n    },\n    {\n      \"column\": \"ewr_drop_distance\",\n      \"properties\": {\n        \"dtype\": \"number\",\n        \"std\": 3494.012476112278,\n        \"min\": 0.2846802771091461,\n        \"max\": 9914.0,\n        \"num_unique_values\": 8,\n        \"samples\": [\n          18.546659469604492,\n          18.0243501663208,\n          9914.0\n        ],\n        \"semantic_type\": \"\",\n        \"description\": \"\"\n      }\n    },\n    {\n      \"column\": \"met_drop_distance\",\n      \"properties\": {\n        \"dtype\": \"number\",\n        \"std\": 3497.798793179499,\n        \"min\": 0.08574718981981277,\n        \"max\": 9914.0,\n        \"num_unique_values\": 8,\n        \"samples\": [\n          4.5128984451293945,\n          3.6981230974197388,\n          9914.0\n        ],\n        \"semantic_type\": \"\",\n        \"description\": \"\"\n      }\n    },\n    {\n      \"column\": \"wtc_drop_distance\",\n      \"properties\": {\n        \"dtype\": \"number\",\n        \"std\": 3497.0635443486885,\n        \"min\": 0.04026930779218674,\n        \"max\": 9914.0,\n        \"num_unique_values\": 8,\n        \"samples\": [\n          6.037652492523193,\n          5.541465520858765,\n          9914.0\n        ],\n        \"semantic_type\": \"\",\n        \"description\": \"\"\n      }\n    },\n    {\n      \"column\": \"New York State Average ($/gal)\",\n      \"properties\": {\n        \"dtype\": \"number\",\n        \"std\": 3503.9566258188192,\n        \"min\": 0.5577490888512949,\n        \"max\": 9914.0,\n        \"num_unique_values\": 8,\n        \"samples\": [\n          3.8451008674601574,\n          4.17,\n          9914.0\n        ],\n        \"semantic_type\": \"\",\n        \"description\": \"\"\n      }\n    }\n  ]\n}"
            }
          },
          "metadata": {},
          "execution_count": 107
        }
      ],
      "source": [
        "test_df.describe()"
      ]
    },
    {
      "cell_type": "markdown",
      "metadata": {
        "id": "7lWyu2_sp4hN"
      },
      "source": [
        "Taking into account the stats obtained above, we can use the following ranges:\n",
        "  - fare_amount: $1 to  $500\n",
        "  - longitudes: -75 to -72\n",
        "  - latitudes: 40 to 42\n",
        "  - passenger_count: 1 to 6"
      ]
    },
    {
      "cell_type": "code",
      "execution_count": 108,
      "metadata": {
        "id": "3XfOkpjTprBk"
      },
      "outputs": [],
      "source": [
        "def remove_outliers(df):\n",
        "    return df[(df['fare_amount'] >= 1.) & (df['fare_amount'] <= 500.) & (df['pickup_longitude'] >= -75) & (df['pickup_longitude'] <= -72) &\n",
        "              (df['dropoff_longitude'] >= -75) & (df['dropoff_longitude'] <= -72) & (df['pickup_latitude'] >= 40) & (df['pickup_latitude'] <= 42) &\n",
        "              (df['dropoff_latitude'] >=40) & (df['dropoff_latitude'] <= 42) & (df['passenger_count'] >= 1) & (df['passenger_count'] <= 6)]"
      ]
    },
    {
      "cell_type": "code",
      "execution_count": 109,
      "metadata": {
        "colab": {
          "base_uri": "https://localhost:8080/",
          "height": 687
        },
        "id": "dCwRSKdlqWLw",
        "outputId": "fa8ad23d-a475-44e0-d2c5-423457575fa1"
      },
      "outputs": [
        {
          "output_type": "execute_result",
          "data": {
            "text/plain": [
              "         fare_amount           pickup_datetime  pickup_longitude  \\\n",
              "0           7.000000 2013-06-21 19:20:00+00:00        -73.986603   \n",
              "1           4.500000 2014-01-09 18:36:00+00:00        -73.982513   \n",
              "2           6.500000 2010-11-07 06:10:00+00:00        -73.988365   \n",
              "3          25.299999 2009-11-02 08:07:00+00:00        -73.991158   \n",
              "4           7.300000 2010-05-25 23:15:23+00:00        -73.980354   \n",
              "...              ...                       ...               ...   \n",
              "1329366     6.500000 2013-08-17 21:02:16+00:00        -73.962624   \n",
              "1329367    40.500000 2010-04-12 16:52:11+00:00        -73.985069   \n",
              "1329368     7.700000 2010-10-16 09:48:35+00:00        -73.983635   \n",
              "1329369     8.500000 2011-09-07 12:30:19+00:00        -73.966866   \n",
              "1329370     9.500000 2014-04-19 16:29:44+00:00        -73.975594   \n",
              "\n",
              "         pickup_latitude  dropoff_longitude  dropoff_latitude  \\\n",
              "0              40.777008         -73.983513         40.762398   \n",
              "1              40.775196         -73.985092         40.769451   \n",
              "2              40.737541         -73.990646         40.756027   \n",
              "3              40.749142         -73.982712         40.756866   \n",
              "4              40.780384         -73.955025         40.800144   \n",
              "...                  ...                ...               ...   \n",
              "1329366        40.763153         -73.973259         40.750961   \n",
              "1329367        40.758743         -73.990257         40.754696   \n",
              "1329368        40.738041         -73.969292         40.768490   \n",
              "1329369        40.756706         -73.980789         40.749470   \n",
              "1329370        40.756962         -73.981903         40.768478   \n",
              "\n",
              "         passenger_count  is_weekend  is_holiday  hour        Date  \\\n",
              "0                      2       False       False    19  2013-06-21   \n",
              "1                      5       False       False    18  2014-01-09   \n",
              "2                      1       False       False     6  2010-11-07   \n",
              "3                      1       False       False     8  2009-11-02   \n",
              "4                      1       False       False    23  2010-05-25   \n",
              "...                  ...         ...         ...   ...         ...   \n",
              "1329366                1       False       False    21  2013-08-17   \n",
              "1329367                1       False       False    16  2010-04-12   \n",
              "1329368                3       False       False     9  2010-10-16   \n",
              "1329369                1       False       False    12  2011-09-07   \n",
              "1329370                1       False       False    16  2014-04-19   \n",
              "\n",
              "         trip_distance  jfk_drop_distance  lga_drop_distance  \\\n",
              "0             1.644263          21.921406           9.356100   \n",
              "1             0.674289          22.513548           9.385714   \n",
              "2             2.063207          21.981661          10.087758   \n",
              "3             1.114796          21.496013           9.416364   \n",
              "4             3.059984          23.100325           7.290286   \n",
              "...                ...                ...                ...   \n",
              "1329366       1.623849          20.465999           8.837469   \n",
              "1329367       0.627031          21.869701          10.091044   \n",
              "1329368       3.592625          21.428418           8.073380   \n",
              "1329369       1.421660          20.883614           9.491200   \n",
              "1329370       1.385553          22.237280           9.128883   \n",
              "\n",
              "         ewr_drop_distance  met_drop_distance  wtc_drop_distance  \\\n",
              "0                18.009067           2.547729           5.963304   \n",
              "1                18.257477           2.148751           6.653792   \n",
              "2                17.158174           3.476056           5.090721   \n",
              "3                17.802666           2.994468           5.425738   \n",
              "4                22.194601           2.405673          10.769313   \n",
              "...                    ...                ...                ...   \n",
              "1329366          18.273443           3.271681           5.262413   \n",
              "1329367          17.124931           3.566717           4.961840   \n",
              "1329368          19.382592           1.316138           7.089886   \n",
              "1329369          17.623306           3.640766           4.774326   \n",
              "1329370          18.440981           1.987703           6.641692   \n",
              "\n",
              "         New York State Average ($/gal)  \n",
              "0                                  4.17  \n",
              "1                                  4.21  \n",
              "2                                  3.31  \n",
              "3                                  3.02  \n",
              "4                                  3.29  \n",
              "...                                 ...  \n",
              "1329366                            4.20  \n",
              "1329367                            3.22  \n",
              "1329368                            3.26  \n",
              "1329369                            4.22  \n",
              "1329370                            4.39  \n",
              "\n",
              "[1296907 rows x 18 columns]"
            ],
            "text/html": [
              "\n",
              "  <div id=\"df-f24897f6-08a4-4a6e-a273-32c86c9fa7c7\" class=\"colab-df-container\">\n",
              "    <div>\n",
              "<style scoped>\n",
              "    .dataframe tbody tr th:only-of-type {\n",
              "        vertical-align: middle;\n",
              "    }\n",
              "\n",
              "    .dataframe tbody tr th {\n",
              "        vertical-align: top;\n",
              "    }\n",
              "\n",
              "    .dataframe thead th {\n",
              "        text-align: right;\n",
              "    }\n",
              "</style>\n",
              "<table border=\"1\" class=\"dataframe\">\n",
              "  <thead>\n",
              "    <tr style=\"text-align: right;\">\n",
              "      <th></th>\n",
              "      <th>fare_amount</th>\n",
              "      <th>pickup_datetime</th>\n",
              "      <th>pickup_longitude</th>\n",
              "      <th>pickup_latitude</th>\n",
              "      <th>dropoff_longitude</th>\n",
              "      <th>dropoff_latitude</th>\n",
              "      <th>passenger_count</th>\n",
              "      <th>is_weekend</th>\n",
              "      <th>is_holiday</th>\n",
              "      <th>hour</th>\n",
              "      <th>Date</th>\n",
              "      <th>trip_distance</th>\n",
              "      <th>jfk_drop_distance</th>\n",
              "      <th>lga_drop_distance</th>\n",
              "      <th>ewr_drop_distance</th>\n",
              "      <th>met_drop_distance</th>\n",
              "      <th>wtc_drop_distance</th>\n",
              "      <th>New York State Average ($/gal)</th>\n",
              "    </tr>\n",
              "  </thead>\n",
              "  <tbody>\n",
              "    <tr>\n",
              "      <th>0</th>\n",
              "      <td>7.000000</td>\n",
              "      <td>2013-06-21 19:20:00+00:00</td>\n",
              "      <td>-73.986603</td>\n",
              "      <td>40.777008</td>\n",
              "      <td>-73.983513</td>\n",
              "      <td>40.762398</td>\n",
              "      <td>2</td>\n",
              "      <td>False</td>\n",
              "      <td>False</td>\n",
              "      <td>19</td>\n",
              "      <td>2013-06-21</td>\n",
              "      <td>1.644263</td>\n",
              "      <td>21.921406</td>\n",
              "      <td>9.356100</td>\n",
              "      <td>18.009067</td>\n",
              "      <td>2.547729</td>\n",
              "      <td>5.963304</td>\n",
              "      <td>4.17</td>\n",
              "    </tr>\n",
              "    <tr>\n",
              "      <th>1</th>\n",
              "      <td>4.500000</td>\n",
              "      <td>2014-01-09 18:36:00+00:00</td>\n",
              "      <td>-73.982513</td>\n",
              "      <td>40.775196</td>\n",
              "      <td>-73.985092</td>\n",
              "      <td>40.769451</td>\n",
              "      <td>5</td>\n",
              "      <td>False</td>\n",
              "      <td>False</td>\n",
              "      <td>18</td>\n",
              "      <td>2014-01-09</td>\n",
              "      <td>0.674289</td>\n",
              "      <td>22.513548</td>\n",
              "      <td>9.385714</td>\n",
              "      <td>18.257477</td>\n",
              "      <td>2.148751</td>\n",
              "      <td>6.653792</td>\n",
              "      <td>4.21</td>\n",
              "    </tr>\n",
              "    <tr>\n",
              "      <th>2</th>\n",
              "      <td>6.500000</td>\n",
              "      <td>2010-11-07 06:10:00+00:00</td>\n",
              "      <td>-73.988365</td>\n",
              "      <td>40.737541</td>\n",
              "      <td>-73.990646</td>\n",
              "      <td>40.756027</td>\n",
              "      <td>1</td>\n",
              "      <td>False</td>\n",
              "      <td>False</td>\n",
              "      <td>6</td>\n",
              "      <td>2010-11-07</td>\n",
              "      <td>2.063207</td>\n",
              "      <td>21.981661</td>\n",
              "      <td>10.087758</td>\n",
              "      <td>17.158174</td>\n",
              "      <td>3.476056</td>\n",
              "      <td>5.090721</td>\n",
              "      <td>3.31</td>\n",
              "    </tr>\n",
              "    <tr>\n",
              "      <th>3</th>\n",
              "      <td>25.299999</td>\n",
              "      <td>2009-11-02 08:07:00+00:00</td>\n",
              "      <td>-73.991158</td>\n",
              "      <td>40.749142</td>\n",
              "      <td>-73.982712</td>\n",
              "      <td>40.756866</td>\n",
              "      <td>1</td>\n",
              "      <td>False</td>\n",
              "      <td>False</td>\n",
              "      <td>8</td>\n",
              "      <td>2009-11-02</td>\n",
              "      <td>1.114796</td>\n",
              "      <td>21.496013</td>\n",
              "      <td>9.416364</td>\n",
              "      <td>17.802666</td>\n",
              "      <td>2.994468</td>\n",
              "      <td>5.425738</td>\n",
              "      <td>3.02</td>\n",
              "    </tr>\n",
              "    <tr>\n",
              "      <th>4</th>\n",
              "      <td>7.300000</td>\n",
              "      <td>2010-05-25 23:15:23+00:00</td>\n",
              "      <td>-73.980354</td>\n",
              "      <td>40.780384</td>\n",
              "      <td>-73.955025</td>\n",
              "      <td>40.800144</td>\n",
              "      <td>1</td>\n",
              "      <td>False</td>\n",
              "      <td>False</td>\n",
              "      <td>23</td>\n",
              "      <td>2010-05-25</td>\n",
              "      <td>3.059984</td>\n",
              "      <td>23.100325</td>\n",
              "      <td>7.290286</td>\n",
              "      <td>22.194601</td>\n",
              "      <td>2.405673</td>\n",
              "      <td>10.769313</td>\n",
              "      <td>3.29</td>\n",
              "    </tr>\n",
              "    <tr>\n",
              "      <th>...</th>\n",
              "      <td>...</td>\n",
              "      <td>...</td>\n",
              "      <td>...</td>\n",
              "      <td>...</td>\n",
              "      <td>...</td>\n",
              "      <td>...</td>\n",
              "      <td>...</td>\n",
              "      <td>...</td>\n",
              "      <td>...</td>\n",
              "      <td>...</td>\n",
              "      <td>...</td>\n",
              "      <td>...</td>\n",
              "      <td>...</td>\n",
              "      <td>...</td>\n",
              "      <td>...</td>\n",
              "      <td>...</td>\n",
              "      <td>...</td>\n",
              "      <td>...</td>\n",
              "    </tr>\n",
              "    <tr>\n",
              "      <th>1329366</th>\n",
              "      <td>6.500000</td>\n",
              "      <td>2013-08-17 21:02:16+00:00</td>\n",
              "      <td>-73.962624</td>\n",
              "      <td>40.763153</td>\n",
              "      <td>-73.973259</td>\n",
              "      <td>40.750961</td>\n",
              "      <td>1</td>\n",
              "      <td>False</td>\n",
              "      <td>False</td>\n",
              "      <td>21</td>\n",
              "      <td>2013-08-17</td>\n",
              "      <td>1.623849</td>\n",
              "      <td>20.465999</td>\n",
              "      <td>8.837469</td>\n",
              "      <td>18.273443</td>\n",
              "      <td>3.271681</td>\n",
              "      <td>5.262413</td>\n",
              "      <td>4.20</td>\n",
              "    </tr>\n",
              "    <tr>\n",
              "      <th>1329367</th>\n",
              "      <td>40.500000</td>\n",
              "      <td>2010-04-12 16:52:11+00:00</td>\n",
              "      <td>-73.985069</td>\n",
              "      <td>40.758743</td>\n",
              "      <td>-73.990257</td>\n",
              "      <td>40.754696</td>\n",
              "      <td>1</td>\n",
              "      <td>False</td>\n",
              "      <td>False</td>\n",
              "      <td>16</td>\n",
              "      <td>2010-04-12</td>\n",
              "      <td>0.627031</td>\n",
              "      <td>21.869701</td>\n",
              "      <td>10.091044</td>\n",
              "      <td>17.124931</td>\n",
              "      <td>3.566717</td>\n",
              "      <td>4.961840</td>\n",
              "      <td>3.22</td>\n",
              "    </tr>\n",
              "    <tr>\n",
              "      <th>1329368</th>\n",
              "      <td>7.700000</td>\n",
              "      <td>2010-10-16 09:48:35+00:00</td>\n",
              "      <td>-73.983635</td>\n",
              "      <td>40.738041</td>\n",
              "      <td>-73.969292</td>\n",
              "      <td>40.768490</td>\n",
              "      <td>3</td>\n",
              "      <td>False</td>\n",
              "      <td>False</td>\n",
              "      <td>9</td>\n",
              "      <td>2010-10-16</td>\n",
              "      <td>3.592625</td>\n",
              "      <td>21.428418</td>\n",
              "      <td>8.073380</td>\n",
              "      <td>19.382592</td>\n",
              "      <td>1.316138</td>\n",
              "      <td>7.089886</td>\n",
              "      <td>3.26</td>\n",
              "    </tr>\n",
              "    <tr>\n",
              "      <th>1329369</th>\n",
              "      <td>8.500000</td>\n",
              "      <td>2011-09-07 12:30:19+00:00</td>\n",
              "      <td>-73.966866</td>\n",
              "      <td>40.756706</td>\n",
              "      <td>-73.980789</td>\n",
              "      <td>40.749470</td>\n",
              "      <td>1</td>\n",
              "      <td>False</td>\n",
              "      <td>False</td>\n",
              "      <td>12</td>\n",
              "      <td>2011-09-07</td>\n",
              "      <td>1.421660</td>\n",
              "      <td>20.883614</td>\n",
              "      <td>9.491200</td>\n",
              "      <td>17.623306</td>\n",
              "      <td>3.640766</td>\n",
              "      <td>4.774326</td>\n",
              "      <td>4.22</td>\n",
              "    </tr>\n",
              "    <tr>\n",
              "      <th>1329370</th>\n",
              "      <td>9.500000</td>\n",
              "      <td>2014-04-19 16:29:44+00:00</td>\n",
              "      <td>-73.975594</td>\n",
              "      <td>40.756962</td>\n",
              "      <td>-73.981903</td>\n",
              "      <td>40.768478</td>\n",
              "      <td>1</td>\n",
              "      <td>False</td>\n",
              "      <td>False</td>\n",
              "      <td>16</td>\n",
              "      <td>2014-04-19</td>\n",
              "      <td>1.385553</td>\n",
              "      <td>22.237280</td>\n",
              "      <td>9.128883</td>\n",
              "      <td>18.440981</td>\n",
              "      <td>1.987703</td>\n",
              "      <td>6.641692</td>\n",
              "      <td>4.39</td>\n",
              "    </tr>\n",
              "  </tbody>\n",
              "</table>\n",
              "<p>1296907 rows × 18 columns</p>\n",
              "</div>\n",
              "    <div class=\"colab-df-buttons\">\n",
              "\n",
              "  <div class=\"colab-df-container\">\n",
              "    <button class=\"colab-df-convert\" onclick=\"convertToInteractive('df-f24897f6-08a4-4a6e-a273-32c86c9fa7c7')\"\n",
              "            title=\"Convert this dataframe to an interactive table.\"\n",
              "            style=\"display:none;\">\n",
              "\n",
              "  <svg xmlns=\"http://www.w3.org/2000/svg\" height=\"24px\" viewBox=\"0 -960 960 960\">\n",
              "    <path d=\"M120-120v-720h720v720H120Zm60-500h600v-160H180v160Zm220 220h160v-160H400v160Zm0 220h160v-160H400v160ZM180-400h160v-160H180v160Zm440 0h160v-160H620v160ZM180-180h160v-160H180v160Zm440 0h160v-160H620v160Z\"/>\n",
              "  </svg>\n",
              "    </button>\n",
              "\n",
              "  <style>\n",
              "    .colab-df-container {\n",
              "      display:flex;\n",
              "      gap: 12px;\n",
              "    }\n",
              "\n",
              "    .colab-df-convert {\n",
              "      background-color: #E8F0FE;\n",
              "      border: none;\n",
              "      border-radius: 50%;\n",
              "      cursor: pointer;\n",
              "      display: none;\n",
              "      fill: #1967D2;\n",
              "      height: 32px;\n",
              "      padding: 0 0 0 0;\n",
              "      width: 32px;\n",
              "    }\n",
              "\n",
              "    .colab-df-convert:hover {\n",
              "      background-color: #E2EBFA;\n",
              "      box-shadow: 0px 1px 2px rgba(60, 64, 67, 0.3), 0px 1px 3px 1px rgba(60, 64, 67, 0.15);\n",
              "      fill: #174EA6;\n",
              "    }\n",
              "\n",
              "    .colab-df-buttons div {\n",
              "      margin-bottom: 4px;\n",
              "    }\n",
              "\n",
              "    [theme=dark] .colab-df-convert {\n",
              "      background-color: #3B4455;\n",
              "      fill: #D2E3FC;\n",
              "    }\n",
              "\n",
              "    [theme=dark] .colab-df-convert:hover {\n",
              "      background-color: #434B5C;\n",
              "      box-shadow: 0px 1px 3px 1px rgba(0, 0, 0, 0.15);\n",
              "      filter: drop-shadow(0px 1px 2px rgba(0, 0, 0, 0.3));\n",
              "      fill: #FFFFFF;\n",
              "    }\n",
              "  </style>\n",
              "\n",
              "    <script>\n",
              "      const buttonEl =\n",
              "        document.querySelector('#df-f24897f6-08a4-4a6e-a273-32c86c9fa7c7 button.colab-df-convert');\n",
              "      buttonEl.style.display =\n",
              "        google.colab.kernel.accessAllowed ? 'block' : 'none';\n",
              "\n",
              "      async function convertToInteractive(key) {\n",
              "        const element = document.querySelector('#df-f24897f6-08a4-4a6e-a273-32c86c9fa7c7');\n",
              "        const dataTable =\n",
              "          await google.colab.kernel.invokeFunction('convertToInteractive',\n",
              "                                                    [key], {});\n",
              "        if (!dataTable) return;\n",
              "\n",
              "        const docLinkHtml = 'Like what you see? Visit the ' +\n",
              "          '<a target=\"_blank\" href=https://colab.research.google.com/notebooks/data_table.ipynb>data table notebook</a>'\n",
              "          + ' to learn more about interactive tables.';\n",
              "        element.innerHTML = '';\n",
              "        dataTable['output_type'] = 'display_data';\n",
              "        await google.colab.output.renderOutput(dataTable, element);\n",
              "        const docLink = document.createElement('div');\n",
              "        docLink.innerHTML = docLinkHtml;\n",
              "        element.appendChild(docLink);\n",
              "      }\n",
              "    </script>\n",
              "  </div>\n",
              "\n",
              "\n",
              "<div id=\"df-2fd39e78-87e8-4016-ba61-21b08b375518\">\n",
              "  <button class=\"colab-df-quickchart\" onclick=\"quickchart('df-2fd39e78-87e8-4016-ba61-21b08b375518')\"\n",
              "            title=\"Suggest charts\"\n",
              "            style=\"display:none;\">\n",
              "\n",
              "<svg xmlns=\"http://www.w3.org/2000/svg\" height=\"24px\"viewBox=\"0 0 24 24\"\n",
              "     width=\"24px\">\n",
              "    <g>\n",
              "        <path d=\"M19 3H5c-1.1 0-2 .9-2 2v14c0 1.1.9 2 2 2h14c1.1 0 2-.9 2-2V5c0-1.1-.9-2-2-2zM9 17H7v-7h2v7zm4 0h-2V7h2v10zm4 0h-2v-4h2v4z\"/>\n",
              "    </g>\n",
              "</svg>\n",
              "  </button>\n",
              "\n",
              "<style>\n",
              "  .colab-df-quickchart {\n",
              "      --bg-color: #E8F0FE;\n",
              "      --fill-color: #1967D2;\n",
              "      --hover-bg-color: #E2EBFA;\n",
              "      --hover-fill-color: #174EA6;\n",
              "      --disabled-fill-color: #AAA;\n",
              "      --disabled-bg-color: #DDD;\n",
              "  }\n",
              "\n",
              "  [theme=dark] .colab-df-quickchart {\n",
              "      --bg-color: #3B4455;\n",
              "      --fill-color: #D2E3FC;\n",
              "      --hover-bg-color: #434B5C;\n",
              "      --hover-fill-color: #FFFFFF;\n",
              "      --disabled-bg-color: #3B4455;\n",
              "      --disabled-fill-color: #666;\n",
              "  }\n",
              "\n",
              "  .colab-df-quickchart {\n",
              "    background-color: var(--bg-color);\n",
              "    border: none;\n",
              "    border-radius: 50%;\n",
              "    cursor: pointer;\n",
              "    display: none;\n",
              "    fill: var(--fill-color);\n",
              "    height: 32px;\n",
              "    padding: 0;\n",
              "    width: 32px;\n",
              "  }\n",
              "\n",
              "  .colab-df-quickchart:hover {\n",
              "    background-color: var(--hover-bg-color);\n",
              "    box-shadow: 0 1px 2px rgba(60, 64, 67, 0.3), 0 1px 3px 1px rgba(60, 64, 67, 0.15);\n",
              "    fill: var(--button-hover-fill-color);\n",
              "  }\n",
              "\n",
              "  .colab-df-quickchart-complete:disabled,\n",
              "  .colab-df-quickchart-complete:disabled:hover {\n",
              "    background-color: var(--disabled-bg-color);\n",
              "    fill: var(--disabled-fill-color);\n",
              "    box-shadow: none;\n",
              "  }\n",
              "\n",
              "  .colab-df-spinner {\n",
              "    border: 2px solid var(--fill-color);\n",
              "    border-color: transparent;\n",
              "    border-bottom-color: var(--fill-color);\n",
              "    animation:\n",
              "      spin 1s steps(1) infinite;\n",
              "  }\n",
              "\n",
              "  @keyframes spin {\n",
              "    0% {\n",
              "      border-color: transparent;\n",
              "      border-bottom-color: var(--fill-color);\n",
              "      border-left-color: var(--fill-color);\n",
              "    }\n",
              "    20% {\n",
              "      border-color: transparent;\n",
              "      border-left-color: var(--fill-color);\n",
              "      border-top-color: var(--fill-color);\n",
              "    }\n",
              "    30% {\n",
              "      border-color: transparent;\n",
              "      border-left-color: var(--fill-color);\n",
              "      border-top-color: var(--fill-color);\n",
              "      border-right-color: var(--fill-color);\n",
              "    }\n",
              "    40% {\n",
              "      border-color: transparent;\n",
              "      border-right-color: var(--fill-color);\n",
              "      border-top-color: var(--fill-color);\n",
              "    }\n",
              "    60% {\n",
              "      border-color: transparent;\n",
              "      border-right-color: var(--fill-color);\n",
              "    }\n",
              "    80% {\n",
              "      border-color: transparent;\n",
              "      border-right-color: var(--fill-color);\n",
              "      border-bottom-color: var(--fill-color);\n",
              "    }\n",
              "    90% {\n",
              "      border-color: transparent;\n",
              "      border-bottom-color: var(--fill-color);\n",
              "    }\n",
              "  }\n",
              "</style>\n",
              "\n",
              "  <script>\n",
              "    async function quickchart(key) {\n",
              "      const quickchartButtonEl =\n",
              "        document.querySelector('#' + key + ' button');\n",
              "      quickchartButtonEl.disabled = true;  // To prevent multiple clicks.\n",
              "      quickchartButtonEl.classList.add('colab-df-spinner');\n",
              "      try {\n",
              "        const charts = await google.colab.kernel.invokeFunction(\n",
              "            'suggestCharts', [key], {});\n",
              "      } catch (error) {\n",
              "        console.error('Error during call to suggestCharts:', error);\n",
              "      }\n",
              "      quickchartButtonEl.classList.remove('colab-df-spinner');\n",
              "      quickchartButtonEl.classList.add('colab-df-quickchart-complete');\n",
              "    }\n",
              "    (() => {\n",
              "      let quickchartButtonEl =\n",
              "        document.querySelector('#df-2fd39e78-87e8-4016-ba61-21b08b375518 button');\n",
              "      quickchartButtonEl.style.display =\n",
              "        google.colab.kernel.accessAllowed ? 'block' : 'none';\n",
              "    })();\n",
              "  </script>\n",
              "</div>\n",
              "\n",
              "    </div>\n",
              "  </div>\n"
            ],
            "application/vnd.google.colaboratory.intrinsic+json": {
              "type": "dataframe"
            }
          },
          "metadata": {},
          "execution_count": 109
        }
      ],
      "source": [
        "remove_outliers(train_df)"
      ]
    },
    {
      "cell_type": "code",
      "execution_count": 110,
      "metadata": {
        "colab": {
          "base_uri": "https://localhost:8080/",
          "height": 687
        },
        "id": "Jd3tgQSOqhBI",
        "outputId": "415f4b71-90f3-4589-d47c-4e7599525a35"
      },
      "outputs": [
        {
          "output_type": "execute_result",
          "data": {
            "text/plain": [
              "        fare_amount           pickup_datetime  pickup_longitude  \\\n",
              "0          4.100000 2009-03-15 19:34:00+00:00        -73.965759   \n",
              "1         11.500000 2014-10-10 19:19:23+00:00        -73.947441   \n",
              "2         14.900000 2010-11-14 22:19:00+00:00        -73.975182   \n",
              "3          3.500000 2014-05-12 10:25:46+00:00        -73.989113   \n",
              "4          5.000000 2014-02-03 01:02:28+00:00        -73.921646   \n",
              "...             ...                       ...               ...   \n",
              "332341     6.500000 2012-07-11 20:09:00+00:00        -73.977676   \n",
              "332342    10.000000 2013-07-04 11:53:19+00:00        -73.977531   \n",
              "332343     6.500000 2012-07-31 15:57:40+00:00        -73.956017   \n",
              "332344    56.799999 2012-10-09 19:14:00+00:00        -73.789238   \n",
              "332345     6.900000 2010-04-01 23:54:17+00:00        -74.010979   \n",
              "\n",
              "        pickup_latitude  dropoff_longitude  dropoff_latitude  passenger_count  \\\n",
              "0             40.773941         -73.955383         40.775158                2   \n",
              "1             40.783585         -73.969872         40.756138                1   \n",
              "2             40.733097         -73.994156         40.686237                1   \n",
              "3             40.748135         -73.989113         40.748135                1   \n",
              "4             40.767036         -73.914055         40.759014                1   \n",
              "...                 ...                ...               ...              ...   \n",
              "332341        40.746468         -73.962479         40.766636                1   \n",
              "332342        40.758072         -73.951759         40.769730                1   \n",
              "332343        40.785038         -73.964355         40.768024                1   \n",
              "332344        40.646133         -73.970551         40.756645                5   \n",
              "332345        40.710999         -73.999542         40.723389                1   \n",
              "\n",
              "        is_weekend  is_holiday  hour        Date  trip_distance  \\\n",
              "0            False       False    19  2009-03-15       0.883488   \n",
              "1            False       False    19  2014-10-10       3.586975   \n",
              "2            False       False    22  2010-11-14       5.446932   \n",
              "3            False       False    10  2014-05-12       0.000000   \n",
              "4            False       False     1  2014-02-03       1.096974   \n",
              "...            ...         ...   ...         ...            ...   \n",
              "332341       False       False    20  2012-07-11       2.580712   \n",
              "332342       False       False    11  2013-07-04       2.526998   \n",
              "332343       False       False    15  2012-07-31       2.016728   \n",
              "332344       False       False    19  2012-10-09      19.599277   \n",
              "332345       False       False    23  2010-04-01       1.680533   \n",
              "\n",
              "        jfk_drop_distance  lga_drop_distance  ewr_drop_distance  \\\n",
              "0               21.078148           6.851129          20.761919   \n",
              "1               20.588648           8.391970          18.757540   \n",
              "2               18.884666          14.278491          15.200688   \n",
              "3               21.378151          10.202284          16.919353   \n",
              "4               17.386938           3.913147          23.254728   \n",
              "...                   ...                ...                ...   \n",
              "332341          20.862862           7.532883          19.805904   \n",
              "332342          20.437653           6.591766          20.768559   \n",
              "332343          21.083412           7.667755          19.730917   \n",
              "332344          20.668571           8.432059          18.726952   \n",
              "332345          20.771173          12.126464          15.212222   \n",
              "\n",
              "        met_drop_distance  wtc_drop_distance  New York State Average ($/gal)  \n",
              "0                0.809481           8.330369                            2.69  \n",
              "1                2.644982           5.896741                            4.05  \n",
              "2               10.675554           3.215672                            3.32  \n",
              "3                4.101915           4.319462                            4.33  \n",
              "4                4.716121           9.578014                            4.32  \n",
              "...                   ...                ...                             ...  \n",
              "332341           1.419510           7.211180                            4.03  \n",
              "332342           1.443016           8.017034                            4.16  \n",
              "332343           1.267851           7.255141                            4.09  \n",
              "332344           2.603177           5.910473                            4.35  \n",
              "332345           6.935267           1.482844                            3.16  \n",
              "\n",
              "[323976 rows x 18 columns]"
            ],
            "text/html": [
              "\n",
              "  <div id=\"df-ea7f918c-01fb-424c-a7a5-3829ebd54c36\" class=\"colab-df-container\">\n",
              "    <div>\n",
              "<style scoped>\n",
              "    .dataframe tbody tr th:only-of-type {\n",
              "        vertical-align: middle;\n",
              "    }\n",
              "\n",
              "    .dataframe tbody tr th {\n",
              "        vertical-align: top;\n",
              "    }\n",
              "\n",
              "    .dataframe thead th {\n",
              "        text-align: right;\n",
              "    }\n",
              "</style>\n",
              "<table border=\"1\" class=\"dataframe\">\n",
              "  <thead>\n",
              "    <tr style=\"text-align: right;\">\n",
              "      <th></th>\n",
              "      <th>fare_amount</th>\n",
              "      <th>pickup_datetime</th>\n",
              "      <th>pickup_longitude</th>\n",
              "      <th>pickup_latitude</th>\n",
              "      <th>dropoff_longitude</th>\n",
              "      <th>dropoff_latitude</th>\n",
              "      <th>passenger_count</th>\n",
              "      <th>is_weekend</th>\n",
              "      <th>is_holiday</th>\n",
              "      <th>hour</th>\n",
              "      <th>Date</th>\n",
              "      <th>trip_distance</th>\n",
              "      <th>jfk_drop_distance</th>\n",
              "      <th>lga_drop_distance</th>\n",
              "      <th>ewr_drop_distance</th>\n",
              "      <th>met_drop_distance</th>\n",
              "      <th>wtc_drop_distance</th>\n",
              "      <th>New York State Average ($/gal)</th>\n",
              "    </tr>\n",
              "  </thead>\n",
              "  <tbody>\n",
              "    <tr>\n",
              "      <th>0</th>\n",
              "      <td>4.100000</td>\n",
              "      <td>2009-03-15 19:34:00+00:00</td>\n",
              "      <td>-73.965759</td>\n",
              "      <td>40.773941</td>\n",
              "      <td>-73.955383</td>\n",
              "      <td>40.775158</td>\n",
              "      <td>2</td>\n",
              "      <td>False</td>\n",
              "      <td>False</td>\n",
              "      <td>19</td>\n",
              "      <td>2009-03-15</td>\n",
              "      <td>0.883488</td>\n",
              "      <td>21.078148</td>\n",
              "      <td>6.851129</td>\n",
              "      <td>20.761919</td>\n",
              "      <td>0.809481</td>\n",
              "      <td>8.330369</td>\n",
              "      <td>2.69</td>\n",
              "    </tr>\n",
              "    <tr>\n",
              "      <th>1</th>\n",
              "      <td>11.500000</td>\n",
              "      <td>2014-10-10 19:19:23+00:00</td>\n",
              "      <td>-73.947441</td>\n",
              "      <td>40.783585</td>\n",
              "      <td>-73.969872</td>\n",
              "      <td>40.756138</td>\n",
              "      <td>1</td>\n",
              "      <td>False</td>\n",
              "      <td>False</td>\n",
              "      <td>19</td>\n",
              "      <td>2014-10-10</td>\n",
              "      <td>3.586975</td>\n",
              "      <td>20.588648</td>\n",
              "      <td>8.391970</td>\n",
              "      <td>18.757540</td>\n",
              "      <td>2.644982</td>\n",
              "      <td>5.896741</td>\n",
              "      <td>4.05</td>\n",
              "    </tr>\n",
              "    <tr>\n",
              "      <th>2</th>\n",
              "      <td>14.900000</td>\n",
              "      <td>2010-11-14 22:19:00+00:00</td>\n",
              "      <td>-73.975182</td>\n",
              "      <td>40.733097</td>\n",
              "      <td>-73.994156</td>\n",
              "      <td>40.686237</td>\n",
              "      <td>1</td>\n",
              "      <td>False</td>\n",
              "      <td>False</td>\n",
              "      <td>22</td>\n",
              "      <td>2010-11-14</td>\n",
              "      <td>5.446932</td>\n",
              "      <td>18.884666</td>\n",
              "      <td>14.278491</td>\n",
              "      <td>15.200688</td>\n",
              "      <td>10.675554</td>\n",
              "      <td>3.215672</td>\n",
              "      <td>3.32</td>\n",
              "    </tr>\n",
              "    <tr>\n",
              "      <th>3</th>\n",
              "      <td>3.500000</td>\n",
              "      <td>2014-05-12 10:25:46+00:00</td>\n",
              "      <td>-73.989113</td>\n",
              "      <td>40.748135</td>\n",
              "      <td>-73.989113</td>\n",
              "      <td>40.748135</td>\n",
              "      <td>1</td>\n",
              "      <td>False</td>\n",
              "      <td>False</td>\n",
              "      <td>10</td>\n",
              "      <td>2014-05-12</td>\n",
              "      <td>0.000000</td>\n",
              "      <td>21.378151</td>\n",
              "      <td>10.202284</td>\n",
              "      <td>16.919353</td>\n",
              "      <td>4.101915</td>\n",
              "      <td>4.319462</td>\n",
              "      <td>4.33</td>\n",
              "    </tr>\n",
              "    <tr>\n",
              "      <th>4</th>\n",
              "      <td>5.000000</td>\n",
              "      <td>2014-02-03 01:02:28+00:00</td>\n",
              "      <td>-73.921646</td>\n",
              "      <td>40.767036</td>\n",
              "      <td>-73.914055</td>\n",
              "      <td>40.759014</td>\n",
              "      <td>1</td>\n",
              "      <td>False</td>\n",
              "      <td>False</td>\n",
              "      <td>1</td>\n",
              "      <td>2014-02-03</td>\n",
              "      <td>1.096974</td>\n",
              "      <td>17.386938</td>\n",
              "      <td>3.913147</td>\n",
              "      <td>23.254728</td>\n",
              "      <td>4.716121</td>\n",
              "      <td>9.578014</td>\n",
              "      <td>4.32</td>\n",
              "    </tr>\n",
              "    <tr>\n",
              "      <th>...</th>\n",
              "      <td>...</td>\n",
              "      <td>...</td>\n",
              "      <td>...</td>\n",
              "      <td>...</td>\n",
              "      <td>...</td>\n",
              "      <td>...</td>\n",
              "      <td>...</td>\n",
              "      <td>...</td>\n",
              "      <td>...</td>\n",
              "      <td>...</td>\n",
              "      <td>...</td>\n",
              "      <td>...</td>\n",
              "      <td>...</td>\n",
              "      <td>...</td>\n",
              "      <td>...</td>\n",
              "      <td>...</td>\n",
              "      <td>...</td>\n",
              "      <td>...</td>\n",
              "    </tr>\n",
              "    <tr>\n",
              "      <th>332341</th>\n",
              "      <td>6.500000</td>\n",
              "      <td>2012-07-11 20:09:00+00:00</td>\n",
              "      <td>-73.977676</td>\n",
              "      <td>40.746468</td>\n",
              "      <td>-73.962479</td>\n",
              "      <td>40.766636</td>\n",
              "      <td>1</td>\n",
              "      <td>False</td>\n",
              "      <td>False</td>\n",
              "      <td>20</td>\n",
              "      <td>2012-07-11</td>\n",
              "      <td>2.580712</td>\n",
              "      <td>20.862862</td>\n",
              "      <td>7.532883</td>\n",
              "      <td>19.805904</td>\n",
              "      <td>1.419510</td>\n",
              "      <td>7.211180</td>\n",
              "      <td>4.03</td>\n",
              "    </tr>\n",
              "    <tr>\n",
              "      <th>332342</th>\n",
              "      <td>10.000000</td>\n",
              "      <td>2013-07-04 11:53:19+00:00</td>\n",
              "      <td>-73.977531</td>\n",
              "      <td>40.758072</td>\n",
              "      <td>-73.951759</td>\n",
              "      <td>40.769730</td>\n",
              "      <td>1</td>\n",
              "      <td>False</td>\n",
              "      <td>False</td>\n",
              "      <td>11</td>\n",
              "      <td>2013-07-04</td>\n",
              "      <td>2.526998</td>\n",
              "      <td>20.437653</td>\n",
              "      <td>6.591766</td>\n",
              "      <td>20.768559</td>\n",
              "      <td>1.443016</td>\n",
              "      <td>8.017034</td>\n",
              "      <td>4.16</td>\n",
              "    </tr>\n",
              "    <tr>\n",
              "      <th>332343</th>\n",
              "      <td>6.500000</td>\n",
              "      <td>2012-07-31 15:57:40+00:00</td>\n",
              "      <td>-73.956017</td>\n",
              "      <td>40.785038</td>\n",
              "      <td>-73.964355</td>\n",
              "      <td>40.768024</td>\n",
              "      <td>1</td>\n",
              "      <td>False</td>\n",
              "      <td>False</td>\n",
              "      <td>15</td>\n",
              "      <td>2012-07-31</td>\n",
              "      <td>2.016728</td>\n",
              "      <td>21.083412</td>\n",
              "      <td>7.667755</td>\n",
              "      <td>19.730917</td>\n",
              "      <td>1.267851</td>\n",
              "      <td>7.255141</td>\n",
              "      <td>4.09</td>\n",
              "    </tr>\n",
              "    <tr>\n",
              "      <th>332344</th>\n",
              "      <td>56.799999</td>\n",
              "      <td>2012-10-09 19:14:00+00:00</td>\n",
              "      <td>-73.789238</td>\n",
              "      <td>40.646133</td>\n",
              "      <td>-73.970551</td>\n",
              "      <td>40.756645</td>\n",
              "      <td>5</td>\n",
              "      <td>False</td>\n",
              "      <td>False</td>\n",
              "      <td>19</td>\n",
              "      <td>2012-10-09</td>\n",
              "      <td>19.599277</td>\n",
              "      <td>20.668571</td>\n",
              "      <td>8.432059</td>\n",
              "      <td>18.726952</td>\n",
              "      <td>2.603177</td>\n",
              "      <td>5.910473</td>\n",
              "      <td>4.35</td>\n",
              "    </tr>\n",
              "    <tr>\n",
              "      <th>332345</th>\n",
              "      <td>6.900000</td>\n",
              "      <td>2010-04-01 23:54:17+00:00</td>\n",
              "      <td>-74.010979</td>\n",
              "      <td>40.710999</td>\n",
              "      <td>-73.999542</td>\n",
              "      <td>40.723389</td>\n",
              "      <td>1</td>\n",
              "      <td>False</td>\n",
              "      <td>False</td>\n",
              "      <td>23</td>\n",
              "      <td>2010-04-01</td>\n",
              "      <td>1.680533</td>\n",
              "      <td>20.771173</td>\n",
              "      <td>12.126464</td>\n",
              "      <td>15.212222</td>\n",
              "      <td>6.935267</td>\n",
              "      <td>1.482844</td>\n",
              "      <td>3.16</td>\n",
              "    </tr>\n",
              "  </tbody>\n",
              "</table>\n",
              "<p>323976 rows × 18 columns</p>\n",
              "</div>\n",
              "    <div class=\"colab-df-buttons\">\n",
              "\n",
              "  <div class=\"colab-df-container\">\n",
              "    <button class=\"colab-df-convert\" onclick=\"convertToInteractive('df-ea7f918c-01fb-424c-a7a5-3829ebd54c36')\"\n",
              "            title=\"Convert this dataframe to an interactive table.\"\n",
              "            style=\"display:none;\">\n",
              "\n",
              "  <svg xmlns=\"http://www.w3.org/2000/svg\" height=\"24px\" viewBox=\"0 -960 960 960\">\n",
              "    <path d=\"M120-120v-720h720v720H120Zm60-500h600v-160H180v160Zm220 220h160v-160H400v160Zm0 220h160v-160H400v160ZM180-400h160v-160H180v160Zm440 0h160v-160H620v160ZM180-180h160v-160H180v160Zm440 0h160v-160H620v160Z\"/>\n",
              "  </svg>\n",
              "    </button>\n",
              "\n",
              "  <style>\n",
              "    .colab-df-container {\n",
              "      display:flex;\n",
              "      gap: 12px;\n",
              "    }\n",
              "\n",
              "    .colab-df-convert {\n",
              "      background-color: #E8F0FE;\n",
              "      border: none;\n",
              "      border-radius: 50%;\n",
              "      cursor: pointer;\n",
              "      display: none;\n",
              "      fill: #1967D2;\n",
              "      height: 32px;\n",
              "      padding: 0 0 0 0;\n",
              "      width: 32px;\n",
              "    }\n",
              "\n",
              "    .colab-df-convert:hover {\n",
              "      background-color: #E2EBFA;\n",
              "      box-shadow: 0px 1px 2px rgba(60, 64, 67, 0.3), 0px 1px 3px 1px rgba(60, 64, 67, 0.15);\n",
              "      fill: #174EA6;\n",
              "    }\n",
              "\n",
              "    .colab-df-buttons div {\n",
              "      margin-bottom: 4px;\n",
              "    }\n",
              "\n",
              "    [theme=dark] .colab-df-convert {\n",
              "      background-color: #3B4455;\n",
              "      fill: #D2E3FC;\n",
              "    }\n",
              "\n",
              "    [theme=dark] .colab-df-convert:hover {\n",
              "      background-color: #434B5C;\n",
              "      box-shadow: 0px 1px 3px 1px rgba(0, 0, 0, 0.15);\n",
              "      filter: drop-shadow(0px 1px 2px rgba(0, 0, 0, 0.3));\n",
              "      fill: #FFFFFF;\n",
              "    }\n",
              "  </style>\n",
              "\n",
              "    <script>\n",
              "      const buttonEl =\n",
              "        document.querySelector('#df-ea7f918c-01fb-424c-a7a5-3829ebd54c36 button.colab-df-convert');\n",
              "      buttonEl.style.display =\n",
              "        google.colab.kernel.accessAllowed ? 'block' : 'none';\n",
              "\n",
              "      async function convertToInteractive(key) {\n",
              "        const element = document.querySelector('#df-ea7f918c-01fb-424c-a7a5-3829ebd54c36');\n",
              "        const dataTable =\n",
              "          await google.colab.kernel.invokeFunction('convertToInteractive',\n",
              "                                                    [key], {});\n",
              "        if (!dataTable) return;\n",
              "\n",
              "        const docLinkHtml = 'Like what you see? Visit the ' +\n",
              "          '<a target=\"_blank\" href=https://colab.research.google.com/notebooks/data_table.ipynb>data table notebook</a>'\n",
              "          + ' to learn more about interactive tables.';\n",
              "        element.innerHTML = '';\n",
              "        dataTable['output_type'] = 'display_data';\n",
              "        await google.colab.output.renderOutput(dataTable, element);\n",
              "        const docLink = document.createElement('div');\n",
              "        docLink.innerHTML = docLinkHtml;\n",
              "        element.appendChild(docLink);\n",
              "      }\n",
              "    </script>\n",
              "  </div>\n",
              "\n",
              "\n",
              "<div id=\"df-05e73cf7-0f85-4636-be81-5c2faec488e4\">\n",
              "  <button class=\"colab-df-quickchart\" onclick=\"quickchart('df-05e73cf7-0f85-4636-be81-5c2faec488e4')\"\n",
              "            title=\"Suggest charts\"\n",
              "            style=\"display:none;\">\n",
              "\n",
              "<svg xmlns=\"http://www.w3.org/2000/svg\" height=\"24px\"viewBox=\"0 0 24 24\"\n",
              "     width=\"24px\">\n",
              "    <g>\n",
              "        <path d=\"M19 3H5c-1.1 0-2 .9-2 2v14c0 1.1.9 2 2 2h14c1.1 0 2-.9 2-2V5c0-1.1-.9-2-2-2zM9 17H7v-7h2v7zm4 0h-2V7h2v10zm4 0h-2v-4h2v4z\"/>\n",
              "    </g>\n",
              "</svg>\n",
              "  </button>\n",
              "\n",
              "<style>\n",
              "  .colab-df-quickchart {\n",
              "      --bg-color: #E8F0FE;\n",
              "      --fill-color: #1967D2;\n",
              "      --hover-bg-color: #E2EBFA;\n",
              "      --hover-fill-color: #174EA6;\n",
              "      --disabled-fill-color: #AAA;\n",
              "      --disabled-bg-color: #DDD;\n",
              "  }\n",
              "\n",
              "  [theme=dark] .colab-df-quickchart {\n",
              "      --bg-color: #3B4455;\n",
              "      --fill-color: #D2E3FC;\n",
              "      --hover-bg-color: #434B5C;\n",
              "      --hover-fill-color: #FFFFFF;\n",
              "      --disabled-bg-color: #3B4455;\n",
              "      --disabled-fill-color: #666;\n",
              "  }\n",
              "\n",
              "  .colab-df-quickchart {\n",
              "    background-color: var(--bg-color);\n",
              "    border: none;\n",
              "    border-radius: 50%;\n",
              "    cursor: pointer;\n",
              "    display: none;\n",
              "    fill: var(--fill-color);\n",
              "    height: 32px;\n",
              "    padding: 0;\n",
              "    width: 32px;\n",
              "  }\n",
              "\n",
              "  .colab-df-quickchart:hover {\n",
              "    background-color: var(--hover-bg-color);\n",
              "    box-shadow: 0 1px 2px rgba(60, 64, 67, 0.3), 0 1px 3px 1px rgba(60, 64, 67, 0.15);\n",
              "    fill: var(--button-hover-fill-color);\n",
              "  }\n",
              "\n",
              "  .colab-df-quickchart-complete:disabled,\n",
              "  .colab-df-quickchart-complete:disabled:hover {\n",
              "    background-color: var(--disabled-bg-color);\n",
              "    fill: var(--disabled-fill-color);\n",
              "    box-shadow: none;\n",
              "  }\n",
              "\n",
              "  .colab-df-spinner {\n",
              "    border: 2px solid var(--fill-color);\n",
              "    border-color: transparent;\n",
              "    border-bottom-color: var(--fill-color);\n",
              "    animation:\n",
              "      spin 1s steps(1) infinite;\n",
              "  }\n",
              "\n",
              "  @keyframes spin {\n",
              "    0% {\n",
              "      border-color: transparent;\n",
              "      border-bottom-color: var(--fill-color);\n",
              "      border-left-color: var(--fill-color);\n",
              "    }\n",
              "    20% {\n",
              "      border-color: transparent;\n",
              "      border-left-color: var(--fill-color);\n",
              "      border-top-color: var(--fill-color);\n",
              "    }\n",
              "    30% {\n",
              "      border-color: transparent;\n",
              "      border-left-color: var(--fill-color);\n",
              "      border-top-color: var(--fill-color);\n",
              "      border-right-color: var(--fill-color);\n",
              "    }\n",
              "    40% {\n",
              "      border-color: transparent;\n",
              "      border-right-color: var(--fill-color);\n",
              "      border-top-color: var(--fill-color);\n",
              "    }\n",
              "    60% {\n",
              "      border-color: transparent;\n",
              "      border-right-color: var(--fill-color);\n",
              "    }\n",
              "    80% {\n",
              "      border-color: transparent;\n",
              "      border-right-color: var(--fill-color);\n",
              "      border-bottom-color: var(--fill-color);\n",
              "    }\n",
              "    90% {\n",
              "      border-color: transparent;\n",
              "      border-bottom-color: var(--fill-color);\n",
              "    }\n",
              "  }\n",
              "</style>\n",
              "\n",
              "  <script>\n",
              "    async function quickchart(key) {\n",
              "      const quickchartButtonEl =\n",
              "        document.querySelector('#' + key + ' button');\n",
              "      quickchartButtonEl.disabled = true;  // To prevent multiple clicks.\n",
              "      quickchartButtonEl.classList.add('colab-df-spinner');\n",
              "      try {\n",
              "        const charts = await google.colab.kernel.invokeFunction(\n",
              "            'suggestCharts', [key], {});\n",
              "      } catch (error) {\n",
              "        console.error('Error during call to suggestCharts:', error);\n",
              "      }\n",
              "      quickchartButtonEl.classList.remove('colab-df-spinner');\n",
              "      quickchartButtonEl.classList.add('colab-df-quickchart-complete');\n",
              "    }\n",
              "    (() => {\n",
              "      let quickchartButtonEl =\n",
              "        document.querySelector('#df-05e73cf7-0f85-4636-be81-5c2faec488e4 button');\n",
              "      quickchartButtonEl.style.display =\n",
              "        google.colab.kernel.accessAllowed ? 'block' : 'none';\n",
              "    })();\n",
              "  </script>\n",
              "</div>\n",
              "\n",
              "    </div>\n",
              "  </div>\n"
            ],
            "application/vnd.google.colaboratory.intrinsic+json": {
              "type": "dataframe"
            }
          },
          "metadata": {},
          "execution_count": 110
        }
      ],
      "source": [
        "remove_outliers(val_df)"
      ]
    },
    {
      "cell_type": "markdown",
      "metadata": {
        "id": "mMw3G3Z9sMKE"
      },
      "source": [
        "##6. Training & Evaluating Different Models\n",
        "  - Ridge Regression\n",
        "  - Gradient Boosting"
      ]
    },
    {
      "cell_type": "markdown",
      "metadata": {
        "id": "mUP9ydpf73Pu"
      },
      "source": [
        "####Preparing inputs & targets"
      ]
    },
    {
      "cell_type": "code",
      "execution_count": 111,
      "metadata": {
        "colab": {
          "base_uri": "https://localhost:8080/"
        },
        "id": "elWUVm0mrlkN",
        "outputId": "e9520cb8-03da-4bb2-8955-ca99c20758cb"
      },
      "outputs": [
        {
          "output_type": "execute_result",
          "data": {
            "text/plain": [
              "Index(['fare_amount', 'pickup_datetime', 'pickup_longitude', 'pickup_latitude',\n",
              "       'dropoff_longitude', 'dropoff_latitude', 'passenger_count',\n",
              "       'is_weekend', 'is_holiday', 'hour', 'Date', 'trip_distance',\n",
              "       'jfk_drop_distance', 'lga_drop_distance', 'ewr_drop_distance',\n",
              "       'met_drop_distance', 'wtc_drop_distance',\n",
              "       'New York State Average ($/gal)'],\n",
              "      dtype='object')"
            ]
          },
          "metadata": {},
          "execution_count": 111
        }
      ],
      "source": [
        "train_df.columns"
      ]
    },
    {
      "cell_type": "code",
      "execution_count": 112,
      "metadata": {
        "id": "kSrS9zSvss1V"
      },
      "outputs": [],
      "source": [
        "input_cols = ['pickup_longitude', 'pickup_latitude',\n",
        "       'dropoff_longitude', 'dropoff_latitude', 'passenger_count',\n",
        "       'is_weekend', 'is_holiday', 'hour', 'trip_distance',\n",
        "       'jfk_drop_distance', 'lga_drop_distance', 'ewr_drop_distance',\n",
        "       'met_drop_distance', 'wtc_drop_distance',\n",
        "       'New York State Average ($/gal)']"
      ]
    },
    {
      "cell_type": "code",
      "execution_count": 113,
      "metadata": {
        "id": "wcB2HYuos1z8"
      },
      "outputs": [],
      "source": [
        "target_cols = 'fare_amount'"
      ]
    },
    {
      "cell_type": "code",
      "execution_count": 114,
      "metadata": {
        "id": "7oN8Vm9Cs4xU"
      },
      "outputs": [],
      "source": [
        "train_inputs = train_df[input_cols]\n",
        "train_targets = train_df[target_cols]"
      ]
    },
    {
      "cell_type": "code",
      "execution_count": 115,
      "metadata": {
        "colab": {
          "base_uri": "https://localhost:8080/",
          "height": 296
        },
        "id": "p8kCyo0Yuf4o",
        "outputId": "51cfee70-fb74-41e8-b25d-7bafba3ee845"
      },
      "outputs": [
        {
          "output_type": "execute_result",
          "data": {
            "text/plain": [
              "   pickup_longitude  pickup_latitude  dropoff_longitude  dropoff_latitude  \\\n",
              "0        -73.986603        40.777008         -73.983513         40.762398   \n",
              "1        -73.982513        40.775196         -73.985092         40.769451   \n",
              "2        -73.988365        40.737541         -73.990646         40.756027   \n",
              "3        -73.991158        40.749142         -73.982712         40.756866   \n",
              "4        -73.980354        40.780384         -73.955025         40.800144   \n",
              "\n",
              "   passenger_count  is_weekend  is_holiday  hour  trip_distance  \\\n",
              "0                2       False       False    19       1.644263   \n",
              "1                5       False       False    18       0.674289   \n",
              "2                1       False       False     6       2.063207   \n",
              "3                1       False       False     8       1.114796   \n",
              "4                1       False       False    23       3.059984   \n",
              "\n",
              "   jfk_drop_distance  lga_drop_distance  ewr_drop_distance  met_drop_distance  \\\n",
              "0          21.921406           9.356100          18.009067           2.547729   \n",
              "1          22.513548           9.385714          18.257477           2.148751   \n",
              "2          21.981661          10.087758          17.158174           3.476056   \n",
              "3          21.496013           9.416364          17.802666           2.994468   \n",
              "4          23.100325           7.290286          22.194601           2.405673   \n",
              "\n",
              "   wtc_drop_distance  New York State Average ($/gal)  \n",
              "0           5.963304                            4.17  \n",
              "1           6.653792                            4.21  \n",
              "2           5.090721                            3.31  \n",
              "3           5.425738                            3.02  \n",
              "4          10.769313                            3.29  "
            ],
            "text/html": [
              "\n",
              "  <div id=\"df-fb88a6fc-4101-43cf-aa5a-fbf232a7a455\" class=\"colab-df-container\">\n",
              "    <div>\n",
              "<style scoped>\n",
              "    .dataframe tbody tr th:only-of-type {\n",
              "        vertical-align: middle;\n",
              "    }\n",
              "\n",
              "    .dataframe tbody tr th {\n",
              "        vertical-align: top;\n",
              "    }\n",
              "\n",
              "    .dataframe thead th {\n",
              "        text-align: right;\n",
              "    }\n",
              "</style>\n",
              "<table border=\"1\" class=\"dataframe\">\n",
              "  <thead>\n",
              "    <tr style=\"text-align: right;\">\n",
              "      <th></th>\n",
              "      <th>pickup_longitude</th>\n",
              "      <th>pickup_latitude</th>\n",
              "      <th>dropoff_longitude</th>\n",
              "      <th>dropoff_latitude</th>\n",
              "      <th>passenger_count</th>\n",
              "      <th>is_weekend</th>\n",
              "      <th>is_holiday</th>\n",
              "      <th>hour</th>\n",
              "      <th>trip_distance</th>\n",
              "      <th>jfk_drop_distance</th>\n",
              "      <th>lga_drop_distance</th>\n",
              "      <th>ewr_drop_distance</th>\n",
              "      <th>met_drop_distance</th>\n",
              "      <th>wtc_drop_distance</th>\n",
              "      <th>New York State Average ($/gal)</th>\n",
              "    </tr>\n",
              "  </thead>\n",
              "  <tbody>\n",
              "    <tr>\n",
              "      <th>0</th>\n",
              "      <td>-73.986603</td>\n",
              "      <td>40.777008</td>\n",
              "      <td>-73.983513</td>\n",
              "      <td>40.762398</td>\n",
              "      <td>2</td>\n",
              "      <td>False</td>\n",
              "      <td>False</td>\n",
              "      <td>19</td>\n",
              "      <td>1.644263</td>\n",
              "      <td>21.921406</td>\n",
              "      <td>9.356100</td>\n",
              "      <td>18.009067</td>\n",
              "      <td>2.547729</td>\n",
              "      <td>5.963304</td>\n",
              "      <td>4.17</td>\n",
              "    </tr>\n",
              "    <tr>\n",
              "      <th>1</th>\n",
              "      <td>-73.982513</td>\n",
              "      <td>40.775196</td>\n",
              "      <td>-73.985092</td>\n",
              "      <td>40.769451</td>\n",
              "      <td>5</td>\n",
              "      <td>False</td>\n",
              "      <td>False</td>\n",
              "      <td>18</td>\n",
              "      <td>0.674289</td>\n",
              "      <td>22.513548</td>\n",
              "      <td>9.385714</td>\n",
              "      <td>18.257477</td>\n",
              "      <td>2.148751</td>\n",
              "      <td>6.653792</td>\n",
              "      <td>4.21</td>\n",
              "    </tr>\n",
              "    <tr>\n",
              "      <th>2</th>\n",
              "      <td>-73.988365</td>\n",
              "      <td>40.737541</td>\n",
              "      <td>-73.990646</td>\n",
              "      <td>40.756027</td>\n",
              "      <td>1</td>\n",
              "      <td>False</td>\n",
              "      <td>False</td>\n",
              "      <td>6</td>\n",
              "      <td>2.063207</td>\n",
              "      <td>21.981661</td>\n",
              "      <td>10.087758</td>\n",
              "      <td>17.158174</td>\n",
              "      <td>3.476056</td>\n",
              "      <td>5.090721</td>\n",
              "      <td>3.31</td>\n",
              "    </tr>\n",
              "    <tr>\n",
              "      <th>3</th>\n",
              "      <td>-73.991158</td>\n",
              "      <td>40.749142</td>\n",
              "      <td>-73.982712</td>\n",
              "      <td>40.756866</td>\n",
              "      <td>1</td>\n",
              "      <td>False</td>\n",
              "      <td>False</td>\n",
              "      <td>8</td>\n",
              "      <td>1.114796</td>\n",
              "      <td>21.496013</td>\n",
              "      <td>9.416364</td>\n",
              "      <td>17.802666</td>\n",
              "      <td>2.994468</td>\n",
              "      <td>5.425738</td>\n",
              "      <td>3.02</td>\n",
              "    </tr>\n",
              "    <tr>\n",
              "      <th>4</th>\n",
              "      <td>-73.980354</td>\n",
              "      <td>40.780384</td>\n",
              "      <td>-73.955025</td>\n",
              "      <td>40.800144</td>\n",
              "      <td>1</td>\n",
              "      <td>False</td>\n",
              "      <td>False</td>\n",
              "      <td>23</td>\n",
              "      <td>3.059984</td>\n",
              "      <td>23.100325</td>\n",
              "      <td>7.290286</td>\n",
              "      <td>22.194601</td>\n",
              "      <td>2.405673</td>\n",
              "      <td>10.769313</td>\n",
              "      <td>3.29</td>\n",
              "    </tr>\n",
              "  </tbody>\n",
              "</table>\n",
              "</div>\n",
              "    <div class=\"colab-df-buttons\">\n",
              "\n",
              "  <div class=\"colab-df-container\">\n",
              "    <button class=\"colab-df-convert\" onclick=\"convertToInteractive('df-fb88a6fc-4101-43cf-aa5a-fbf232a7a455')\"\n",
              "            title=\"Convert this dataframe to an interactive table.\"\n",
              "            style=\"display:none;\">\n",
              "\n",
              "  <svg xmlns=\"http://www.w3.org/2000/svg\" height=\"24px\" viewBox=\"0 -960 960 960\">\n",
              "    <path d=\"M120-120v-720h720v720H120Zm60-500h600v-160H180v160Zm220 220h160v-160H400v160Zm0 220h160v-160H400v160ZM180-400h160v-160H180v160Zm440 0h160v-160H620v160ZM180-180h160v-160H180v160Zm440 0h160v-160H620v160Z\"/>\n",
              "  </svg>\n",
              "    </button>\n",
              "\n",
              "  <style>\n",
              "    .colab-df-container {\n",
              "      display:flex;\n",
              "      gap: 12px;\n",
              "    }\n",
              "\n",
              "    .colab-df-convert {\n",
              "      background-color: #E8F0FE;\n",
              "      border: none;\n",
              "      border-radius: 50%;\n",
              "      cursor: pointer;\n",
              "      display: none;\n",
              "      fill: #1967D2;\n",
              "      height: 32px;\n",
              "      padding: 0 0 0 0;\n",
              "      width: 32px;\n",
              "    }\n",
              "\n",
              "    .colab-df-convert:hover {\n",
              "      background-color: #E2EBFA;\n",
              "      box-shadow: 0px 1px 2px rgba(60, 64, 67, 0.3), 0px 1px 3px 1px rgba(60, 64, 67, 0.15);\n",
              "      fill: #174EA6;\n",
              "    }\n",
              "\n",
              "    .colab-df-buttons div {\n",
              "      margin-bottom: 4px;\n",
              "    }\n",
              "\n",
              "    [theme=dark] .colab-df-convert {\n",
              "      background-color: #3B4455;\n",
              "      fill: #D2E3FC;\n",
              "    }\n",
              "\n",
              "    [theme=dark] .colab-df-convert:hover {\n",
              "      background-color: #434B5C;\n",
              "      box-shadow: 0px 1px 3px 1px rgba(0, 0, 0, 0.15);\n",
              "      filter: drop-shadow(0px 1px 2px rgba(0, 0, 0, 0.3));\n",
              "      fill: #FFFFFF;\n",
              "    }\n",
              "  </style>\n",
              "\n",
              "    <script>\n",
              "      const buttonEl =\n",
              "        document.querySelector('#df-fb88a6fc-4101-43cf-aa5a-fbf232a7a455 button.colab-df-convert');\n",
              "      buttonEl.style.display =\n",
              "        google.colab.kernel.accessAllowed ? 'block' : 'none';\n",
              "\n",
              "      async function convertToInteractive(key) {\n",
              "        const element = document.querySelector('#df-fb88a6fc-4101-43cf-aa5a-fbf232a7a455');\n",
              "        const dataTable =\n",
              "          await google.colab.kernel.invokeFunction('convertToInteractive',\n",
              "                                                    [key], {});\n",
              "        if (!dataTable) return;\n",
              "\n",
              "        const docLinkHtml = 'Like what you see? Visit the ' +\n",
              "          '<a target=\"_blank\" href=https://colab.research.google.com/notebooks/data_table.ipynb>data table notebook</a>'\n",
              "          + ' to learn more about interactive tables.';\n",
              "        element.innerHTML = '';\n",
              "        dataTable['output_type'] = 'display_data';\n",
              "        await google.colab.output.renderOutput(dataTable, element);\n",
              "        const docLink = document.createElement('div');\n",
              "        docLink.innerHTML = docLinkHtml;\n",
              "        element.appendChild(docLink);\n",
              "      }\n",
              "    </script>\n",
              "  </div>\n",
              "\n",
              "\n",
              "<div id=\"df-3671df46-4f65-4af5-a31e-ac86a7432f60\">\n",
              "  <button class=\"colab-df-quickchart\" onclick=\"quickchart('df-3671df46-4f65-4af5-a31e-ac86a7432f60')\"\n",
              "            title=\"Suggest charts\"\n",
              "            style=\"display:none;\">\n",
              "\n",
              "<svg xmlns=\"http://www.w3.org/2000/svg\" height=\"24px\"viewBox=\"0 0 24 24\"\n",
              "     width=\"24px\">\n",
              "    <g>\n",
              "        <path d=\"M19 3H5c-1.1 0-2 .9-2 2v14c0 1.1.9 2 2 2h14c1.1 0 2-.9 2-2V5c0-1.1-.9-2-2-2zM9 17H7v-7h2v7zm4 0h-2V7h2v10zm4 0h-2v-4h2v4z\"/>\n",
              "    </g>\n",
              "</svg>\n",
              "  </button>\n",
              "\n",
              "<style>\n",
              "  .colab-df-quickchart {\n",
              "      --bg-color: #E8F0FE;\n",
              "      --fill-color: #1967D2;\n",
              "      --hover-bg-color: #E2EBFA;\n",
              "      --hover-fill-color: #174EA6;\n",
              "      --disabled-fill-color: #AAA;\n",
              "      --disabled-bg-color: #DDD;\n",
              "  }\n",
              "\n",
              "  [theme=dark] .colab-df-quickchart {\n",
              "      --bg-color: #3B4455;\n",
              "      --fill-color: #D2E3FC;\n",
              "      --hover-bg-color: #434B5C;\n",
              "      --hover-fill-color: #FFFFFF;\n",
              "      --disabled-bg-color: #3B4455;\n",
              "      --disabled-fill-color: #666;\n",
              "  }\n",
              "\n",
              "  .colab-df-quickchart {\n",
              "    background-color: var(--bg-color);\n",
              "    border: none;\n",
              "    border-radius: 50%;\n",
              "    cursor: pointer;\n",
              "    display: none;\n",
              "    fill: var(--fill-color);\n",
              "    height: 32px;\n",
              "    padding: 0;\n",
              "    width: 32px;\n",
              "  }\n",
              "\n",
              "  .colab-df-quickchart:hover {\n",
              "    background-color: var(--hover-bg-color);\n",
              "    box-shadow: 0 1px 2px rgba(60, 64, 67, 0.3), 0 1px 3px 1px rgba(60, 64, 67, 0.15);\n",
              "    fill: var(--button-hover-fill-color);\n",
              "  }\n",
              "\n",
              "  .colab-df-quickchart-complete:disabled,\n",
              "  .colab-df-quickchart-complete:disabled:hover {\n",
              "    background-color: var(--disabled-bg-color);\n",
              "    fill: var(--disabled-fill-color);\n",
              "    box-shadow: none;\n",
              "  }\n",
              "\n",
              "  .colab-df-spinner {\n",
              "    border: 2px solid var(--fill-color);\n",
              "    border-color: transparent;\n",
              "    border-bottom-color: var(--fill-color);\n",
              "    animation:\n",
              "      spin 1s steps(1) infinite;\n",
              "  }\n",
              "\n",
              "  @keyframes spin {\n",
              "    0% {\n",
              "      border-color: transparent;\n",
              "      border-bottom-color: var(--fill-color);\n",
              "      border-left-color: var(--fill-color);\n",
              "    }\n",
              "    20% {\n",
              "      border-color: transparent;\n",
              "      border-left-color: var(--fill-color);\n",
              "      border-top-color: var(--fill-color);\n",
              "    }\n",
              "    30% {\n",
              "      border-color: transparent;\n",
              "      border-left-color: var(--fill-color);\n",
              "      border-top-color: var(--fill-color);\n",
              "      border-right-color: var(--fill-color);\n",
              "    }\n",
              "    40% {\n",
              "      border-color: transparent;\n",
              "      border-right-color: var(--fill-color);\n",
              "      border-top-color: var(--fill-color);\n",
              "    }\n",
              "    60% {\n",
              "      border-color: transparent;\n",
              "      border-right-color: var(--fill-color);\n",
              "    }\n",
              "    80% {\n",
              "      border-color: transparent;\n",
              "      border-right-color: var(--fill-color);\n",
              "      border-bottom-color: var(--fill-color);\n",
              "    }\n",
              "    90% {\n",
              "      border-color: transparent;\n",
              "      border-bottom-color: var(--fill-color);\n",
              "    }\n",
              "  }\n",
              "</style>\n",
              "\n",
              "  <script>\n",
              "    async function quickchart(key) {\n",
              "      const quickchartButtonEl =\n",
              "        document.querySelector('#' + key + ' button');\n",
              "      quickchartButtonEl.disabled = true;  // To prevent multiple clicks.\n",
              "      quickchartButtonEl.classList.add('colab-df-spinner');\n",
              "      try {\n",
              "        const charts = await google.colab.kernel.invokeFunction(\n",
              "            'suggestCharts', [key], {});\n",
              "      } catch (error) {\n",
              "        console.error('Error during call to suggestCharts:', error);\n",
              "      }\n",
              "      quickchartButtonEl.classList.remove('colab-df-spinner');\n",
              "      quickchartButtonEl.classList.add('colab-df-quickchart-complete');\n",
              "    }\n",
              "    (() => {\n",
              "      let quickchartButtonEl =\n",
              "        document.querySelector('#df-3671df46-4f65-4af5-a31e-ac86a7432f60 button');\n",
              "      quickchartButtonEl.style.display =\n",
              "        google.colab.kernel.accessAllowed ? 'block' : 'none';\n",
              "    })();\n",
              "  </script>\n",
              "</div>\n",
              "\n",
              "    </div>\n",
              "  </div>\n"
            ],
            "application/vnd.google.colaboratory.intrinsic+json": {
              "type": "dataframe",
              "variable_name": "train_inputs"
            }
          },
          "metadata": {},
          "execution_count": 115
        }
      ],
      "source": [
        "train_inputs.head()"
      ]
    },
    {
      "cell_type": "code",
      "execution_count": 116,
      "metadata": {
        "id": "AMZDQgskJIm3"
      },
      "outputs": [],
      "source": [
        "val_inputs =val_df[input_cols]\n",
        "val_targets = val_df[target_cols]"
      ]
    },
    {
      "cell_type": "code",
      "execution_count": 117,
      "metadata": {
        "id": "orZk9-1N9wGN"
      },
      "outputs": [],
      "source": [
        "test_inputs =test_df[input_cols]"
      ]
    },
    {
      "cell_type": "markdown",
      "metadata": {
        "id": "AyHvxB8AtEFJ"
      },
      "source": [
        "Let's define a helper function to evaluate models"
      ]
    },
    {
      "cell_type": "code",
      "execution_count": 118,
      "metadata": {
        "id": "sZMmXA3ztBlq"
      },
      "outputs": [],
      "source": [
        "def evaluate(model, train_inputs, train_preds):\n",
        "  print(train_inputs.head())\n",
        "  train_preds = model.predict(train_inputs)\n",
        "  train_rmse = mean_squared_error(train_targets, train_preds, squared=False)\n",
        "  val_preds = model.predict(val_inputs)\n",
        "  val_rmse = mean_squared_error(val_targets, val_preds, squared=False)\n",
        "  return train_rmse, val_rmse, train_preds, val_preds"
      ]
    },
    {
      "cell_type": "markdown",
      "metadata": {
        "id": "OQliLFm_tmuO"
      },
      "source": [
        "####Ridge Regression"
      ]
    },
    {
      "cell_type": "code",
      "execution_count": 119,
      "metadata": {
        "id": "wD1ja_1Ttkmb"
      },
      "outputs": [],
      "source": [
        "from sklearn.linear_model import Ridge"
      ]
    },
    {
      "cell_type": "code",
      "execution_count": 120,
      "metadata": {
        "colab": {
          "base_uri": "https://localhost:8080/"
        },
        "id": "AVzz5IUAt2Iz",
        "outputId": "dc9dcc84-ce72-4d07-a0bf-fdcc8b14baf2"
      },
      "outputs": [
        {
          "output_type": "stream",
          "name": "stdout",
          "text": [
            "   pickup_longitude  pickup_latitude  dropoff_longitude  dropoff_latitude  \\\n",
            "0        -73.986603        40.777008         -73.983513         40.762398   \n",
            "1        -73.982513        40.775196         -73.985092         40.769451   \n",
            "2        -73.988365        40.737541         -73.990646         40.756027   \n",
            "3        -73.991158        40.749142         -73.982712         40.756866   \n",
            "4        -73.980354        40.780384         -73.955025         40.800144   \n",
            "\n",
            "   passenger_count  is_weekend  is_holiday  hour  trip_distance  \\\n",
            "0                2       False       False    19       1.644263   \n",
            "1                5       False       False    18       0.674289   \n",
            "2                1       False       False     6       2.063207   \n",
            "3                1       False       False     8       1.114796   \n",
            "4                1       False       False    23       3.059984   \n",
            "\n",
            "   jfk_drop_distance  lga_drop_distance  ewr_drop_distance  met_drop_distance  \\\n",
            "0          21.921406           9.356100          18.009067           2.547729   \n",
            "1          22.513548           9.385714          18.257477           2.148751   \n",
            "2          21.981661          10.087758          17.158174           3.476056   \n",
            "3          21.496013           9.416364          17.802666           2.994468   \n",
            "4          23.100325           7.290286          22.194601           2.405673   \n",
            "\n",
            "   wtc_drop_distance  New York State Average ($/gal)  \n",
            "0           5.963304                            4.17  \n",
            "1           6.653792                            4.21  \n",
            "2           5.090721                            3.31  \n",
            "3           5.425738                            3.02  \n",
            "4          10.769313                            3.29  \n"
          ]
        },
        {
          "output_type": "execute_result",
          "data": {
            "text/plain": [
              "(8.205699227613012,\n",
              " 8.161465132516257,\n",
              " array([9.65549197, 9.90802778, 8.84297422, ..., 7.8832382 , 9.77001074,\n",
              "        9.50028557]),\n",
              " array([ 8.08975031,  9.68658771, 17.40573256, ...,  8.92727258,\n",
              "        10.24239045,  9.15093456]))"
            ]
          },
          "metadata": {},
          "execution_count": 120
        }
      ],
      "source": [
        "ridge_model = Ridge(random_state=42, alpha=0.9)\n",
        "ridge_model.fit(train_inputs, train_targets)\n",
        "train_inputs.head()\n",
        "evaluate(ridge_model, train_inputs, train_preds)"
      ]
    },
    {
      "cell_type": "markdown",
      "metadata": {
        "id": "eFG_iWIB8WQ2"
      },
      "source": [
        "####Ridge Regression after standardization"
      ]
    },
    {
      "cell_type": "code",
      "execution_count": 121,
      "metadata": {
        "colab": {
          "base_uri": "https://localhost:8080/"
        },
        "id": "vMFQKW2LEZL0",
        "outputId": "9388233a-2c18-445e-dea2-fb928dbba89a"
      },
      "outputs": [
        {
          "output_type": "execute_result",
          "data": {
            "text/plain": [
              "['pickup_longitude',\n",
              " 'pickup_latitude',\n",
              " 'dropoff_longitude',\n",
              " 'dropoff_latitude',\n",
              " 'passenger_count',\n",
              " 'hour',\n",
              " 'trip_distance',\n",
              " 'jfk_drop_distance',\n",
              " 'lga_drop_distance',\n",
              " 'ewr_drop_distance',\n",
              " 'met_drop_distance',\n",
              " 'wtc_drop_distance',\n",
              " 'New York State Average ($/gal)']"
            ]
          },
          "metadata": {},
          "execution_count": 121
        }
      ],
      "source": [
        "train_inputs_list = list(train_inputs.columns)\n",
        "train_inputs_list.remove('is_weekend')\n",
        "train_inputs_list.remove('is_holiday')\n",
        "train_inputs_list"
      ]
    },
    {
      "cell_type": "code",
      "execution_count": 122,
      "metadata": {
        "id": "mLnYBwJuD4YP"
      },
      "outputs": [],
      "source": [
        "X_train = train_inputs[train_inputs_list].values\n",
        "y_train = train_targets.values.reshape((-1,1))\n",
        "X_val = val_inputs[train_inputs_list].values\n",
        "y_val = val_targets.values.reshape((-1,1))"
      ]
    },
    {
      "cell_type": "code",
      "execution_count": 123,
      "metadata": {
        "colab": {
          "base_uri": "https://localhost:8080/"
        },
        "id": "LHURe1swMA4S",
        "outputId": "835d6f3c-78b6-4b73-a250-f9849894a50c"
      },
      "outputs": [
        {
          "output_type": "execute_result",
          "data": {
            "text/plain": [
              "((1329371, 1), (332346, 1))"
            ]
          },
          "metadata": {},
          "execution_count": 123
        }
      ],
      "source": [
        "y_train.shape, y_val.shape"
      ]
    },
    {
      "cell_type": "code",
      "execution_count": 124,
      "metadata": {
        "colab": {
          "base_uri": "https://localhost:8080/"
        },
        "id": "GhB7pagLLVvY",
        "outputId": "244c3f65-2059-407d-dcc7-f08640385192"
      },
      "outputs": [
        {
          "output_type": "execute_result",
          "data": {
            "text/plain": [
              "(1329371, 13)"
            ]
          },
          "metadata": {},
          "execution_count": 124
        }
      ],
      "source": [
        "X_train.shape"
      ]
    },
    {
      "cell_type": "code",
      "execution_count": 125,
      "metadata": {
        "colab": {
          "base_uri": "https://localhost:8080/"
        },
        "id": "oL42vp8GLYMv",
        "outputId": "3612ad08-79b0-4989-9a88-a0533c001cda"
      },
      "outputs": [
        {
          "output_type": "execute_result",
          "data": {
            "text/plain": [
              "(1329371, 2)"
            ]
          },
          "metadata": {},
          "execution_count": 125
        }
      ],
      "source": [
        "train_inputs.loc[:,['is_weekend','is_holiday']].values.shape"
      ]
    },
    {
      "cell_type": "code",
      "execution_count": 126,
      "metadata": {
        "id": "NacvX_n__Iyn"
      },
      "outputs": [],
      "source": [
        "from sklearn.preprocessing import StandardScaler\n",
        "sc_x = StandardScaler()\n",
        "sc_y = StandardScaler()\n",
        "X_train = sc_x.fit_transform(X_train)\n",
        "y_train = sc_y.fit_transform(y_train)\n",
        "X_train = np.append(X_train, train_inputs.loc[:,['is_weekend','is_holiday']].values,axis=1)\n",
        "X_val = sc_x.transform(X_val)\n",
        "X_val = np.append(X_val, val_inputs.loc[:,['is_weekend','is_holiday']].values,axis=1)"
      ]
    },
    {
      "cell_type": "code",
      "execution_count": 127,
      "metadata": {
        "colab": {
          "base_uri": "https://localhost:8080/",
          "height": 109
        },
        "id": "NWNBJBH38TXP",
        "outputId": "c9f2a871-4ea6-40e6-b57d-190309240d62"
      },
      "outputs": [
        {
          "output_type": "stream",
          "name": "stdout",
          "text": [
            "CPU times: user 252 ms, sys: 78.8 ms, total: 331 ms\n",
            "Wall time: 340 ms\n"
          ]
        },
        {
          "output_type": "execute_result",
          "data": {
            "text/plain": [
              "Ridge(alpha=0.9, random_state=42)"
            ],
            "text/html": [
              "<style>#sk-container-id-2 {color: black;background-color: white;}#sk-container-id-2 pre{padding: 0;}#sk-container-id-2 div.sk-toggleable {background-color: white;}#sk-container-id-2 label.sk-toggleable__label {cursor: pointer;display: block;width: 100%;margin-bottom: 0;padding: 0.3em;box-sizing: border-box;text-align: center;}#sk-container-id-2 label.sk-toggleable__label-arrow:before {content: \"▸\";float: left;margin-right: 0.25em;color: #696969;}#sk-container-id-2 label.sk-toggleable__label-arrow:hover:before {color: black;}#sk-container-id-2 div.sk-estimator:hover label.sk-toggleable__label-arrow:before {color: black;}#sk-container-id-2 div.sk-toggleable__content {max-height: 0;max-width: 0;overflow: hidden;text-align: left;background-color: #f0f8ff;}#sk-container-id-2 div.sk-toggleable__content pre {margin: 0.2em;color: black;border-radius: 0.25em;background-color: #f0f8ff;}#sk-container-id-2 input.sk-toggleable__control:checked~div.sk-toggleable__content {max-height: 200px;max-width: 100%;overflow: auto;}#sk-container-id-2 input.sk-toggleable__control:checked~label.sk-toggleable__label-arrow:before {content: \"▾\";}#sk-container-id-2 div.sk-estimator input.sk-toggleable__control:checked~label.sk-toggleable__label {background-color: #d4ebff;}#sk-container-id-2 div.sk-label input.sk-toggleable__control:checked~label.sk-toggleable__label {background-color: #d4ebff;}#sk-container-id-2 input.sk-hidden--visually {border: 0;clip: rect(1px 1px 1px 1px);clip: rect(1px, 1px, 1px, 1px);height: 1px;margin: -1px;overflow: hidden;padding: 0;position: absolute;width: 1px;}#sk-container-id-2 div.sk-estimator {font-family: monospace;background-color: #f0f8ff;border: 1px dotted black;border-radius: 0.25em;box-sizing: border-box;margin-bottom: 0.5em;}#sk-container-id-2 div.sk-estimator:hover {background-color: #d4ebff;}#sk-container-id-2 div.sk-parallel-item::after {content: \"\";width: 100%;border-bottom: 1px solid gray;flex-grow: 1;}#sk-container-id-2 div.sk-label:hover label.sk-toggleable__label {background-color: #d4ebff;}#sk-container-id-2 div.sk-serial::before {content: \"\";position: absolute;border-left: 1px solid gray;box-sizing: border-box;top: 0;bottom: 0;left: 50%;z-index: 0;}#sk-container-id-2 div.sk-serial {display: flex;flex-direction: column;align-items: center;background-color: white;padding-right: 0.2em;padding-left: 0.2em;position: relative;}#sk-container-id-2 div.sk-item {position: relative;z-index: 1;}#sk-container-id-2 div.sk-parallel {display: flex;align-items: stretch;justify-content: center;background-color: white;position: relative;}#sk-container-id-2 div.sk-item::before, #sk-container-id-2 div.sk-parallel-item::before {content: \"\";position: absolute;border-left: 1px solid gray;box-sizing: border-box;top: 0;bottom: 0;left: 50%;z-index: -1;}#sk-container-id-2 div.sk-parallel-item {display: flex;flex-direction: column;z-index: 1;position: relative;background-color: white;}#sk-container-id-2 div.sk-parallel-item:first-child::after {align-self: flex-end;width: 50%;}#sk-container-id-2 div.sk-parallel-item:last-child::after {align-self: flex-start;width: 50%;}#sk-container-id-2 div.sk-parallel-item:only-child::after {width: 0;}#sk-container-id-2 div.sk-dashed-wrapped {border: 1px dashed gray;margin: 0 0.4em 0.5em 0.4em;box-sizing: border-box;padding-bottom: 0.4em;background-color: white;}#sk-container-id-2 div.sk-label label {font-family: monospace;font-weight: bold;display: inline-block;line-height: 1.2em;}#sk-container-id-2 div.sk-label-container {text-align: center;}#sk-container-id-2 div.sk-container {/* jupyter's `normalize.less` sets `[hidden] { display: none; }` but bootstrap.min.css set `[hidden] { display: none !important; }` so we also need the `!important` here to be able to override the default hidden behavior on the sphinx rendered scikit-learn.org. See: https://github.com/scikit-learn/scikit-learn/issues/21755 */display: inline-block !important;position: relative;}#sk-container-id-2 div.sk-text-repr-fallback {display: none;}</style><div id=\"sk-container-id-2\" class=\"sk-top-container\"><div class=\"sk-text-repr-fallback\"><pre>Ridge(alpha=0.9, random_state=42)</pre><b>In a Jupyter environment, please rerun this cell to show the HTML representation or trust the notebook. <br />On GitHub, the HTML representation is unable to render, please try loading this page with nbviewer.org.</b></div><div class=\"sk-container\" hidden><div class=\"sk-item\"><div class=\"sk-estimator sk-toggleable\"><input class=\"sk-toggleable__control sk-hidden--visually\" id=\"sk-estimator-id-2\" type=\"checkbox\" checked><label for=\"sk-estimator-id-2\" class=\"sk-toggleable__label sk-toggleable__label-arrow\">Ridge</label><div class=\"sk-toggleable__content\"><pre>Ridge(alpha=0.9, random_state=42)</pre></div></div></div></div></div>"
            ]
          },
          "metadata": {},
          "execution_count": 127
        }
      ],
      "source": [
        "%%time\n",
        "model = Ridge(random_state=42, alpha=0.9)\n",
        "model.fit(X_train, y_train)"
      ]
    },
    {
      "cell_type": "code",
      "execution_count": 128,
      "metadata": {
        "id": "8Zf0zP0dNC6Q"
      },
      "outputs": [],
      "source": [
        "y_preds_train = sc_y.inverse_transform(model.predict(X_train).reshape(-1,1))\n",
        "y_preds_val = sc_y.inverse_transform(model.predict(X_val).reshape(-1,1))"
      ]
    },
    {
      "cell_type": "code",
      "execution_count": 129,
      "metadata": {
        "id": "fQ5_AleBNaBl"
      },
      "outputs": [],
      "source": [
        "train_s_rmse = mean_squared_error(y_train, y_preds_train, squared=False)\n",
        "val_s_rmse = mean_squared_error(y_val, y_preds_val, squared=False)"
      ]
    },
    {
      "cell_type": "code",
      "execution_count": 130,
      "metadata": {
        "colab": {
          "base_uri": "https://localhost:8080/"
        },
        "id": "HmFgix1uNpSM",
        "outputId": "ac605d67-14d0-4915-a64e-0f833976cb15"
      },
      "outputs": [
        {
          "output_type": "execute_result",
          "data": {
            "text/plain": [
              "(12.001759261475536, 8.3441769240125)"
            ]
          },
          "metadata": {},
          "execution_count": 130
        }
      ],
      "source": [
        "train_s_rmse, val_s_rmse"
      ]
    },
    {
      "cell_type": "markdown",
      "metadata": {
        "id": "glbThfqEwmRb"
      },
      "source": [
        "####XGBoost Regression"
      ]
    },
    {
      "cell_type": "code",
      "execution_count": 131,
      "metadata": {
        "id": "OaeFrsqQ0Gih"
      },
      "outputs": [],
      "source": [
        "from xgboost import XGBRegressor\n",
        "regressor = XGBRegressor(max_depth=5, random_state=42)"
      ]
    },
    {
      "cell_type": "code",
      "execution_count": 132,
      "metadata": {
        "colab": {
          "base_uri": "https://localhost:8080/",
          "height": 283
        },
        "id": "zuYhuUQ704uX",
        "outputId": "1a3caa7c-4885-4004-8ce7-9f0e435d8057"
      },
      "outputs": [
        {
          "output_type": "stream",
          "name": "stdout",
          "text": [
            "CPU times: user 25.7 s, sys: 3.28 s, total: 29 s\n",
            "Wall time: 25.8 s\n"
          ]
        },
        {
          "output_type": "execute_result",
          "data": {
            "text/plain": [
              "XGBRegressor(base_score=None, booster=None, callbacks=None,\n",
              "             colsample_bylevel=None, colsample_bynode=None,\n",
              "             colsample_bytree=None, device=None, early_stopping_rounds=None,\n",
              "             enable_categorical=False, eval_metric=None, feature_types=None,\n",
              "             gamma=None, grow_policy=None, importance_type=None,\n",
              "             interaction_constraints=None, learning_rate=None, max_bin=None,\n",
              "             max_cat_threshold=None, max_cat_to_onehot=None,\n",
              "             max_delta_step=None, max_depth=5, max_leaves=None,\n",
              "             min_child_weight=None, missing=nan, monotone_constraints=None,\n",
              "             multi_strategy=None, n_estimators=None, n_jobs=None,\n",
              "             num_parallel_tree=None, random_state=42, ...)"
            ],
            "text/html": [
              "<style>#sk-container-id-3 {color: black;background-color: white;}#sk-container-id-3 pre{padding: 0;}#sk-container-id-3 div.sk-toggleable {background-color: white;}#sk-container-id-3 label.sk-toggleable__label {cursor: pointer;display: block;width: 100%;margin-bottom: 0;padding: 0.3em;box-sizing: border-box;text-align: center;}#sk-container-id-3 label.sk-toggleable__label-arrow:before {content: \"▸\";float: left;margin-right: 0.25em;color: #696969;}#sk-container-id-3 label.sk-toggleable__label-arrow:hover:before {color: black;}#sk-container-id-3 div.sk-estimator:hover label.sk-toggleable__label-arrow:before {color: black;}#sk-container-id-3 div.sk-toggleable__content {max-height: 0;max-width: 0;overflow: hidden;text-align: left;background-color: #f0f8ff;}#sk-container-id-3 div.sk-toggleable__content pre {margin: 0.2em;color: black;border-radius: 0.25em;background-color: #f0f8ff;}#sk-container-id-3 input.sk-toggleable__control:checked~div.sk-toggleable__content {max-height: 200px;max-width: 100%;overflow: auto;}#sk-container-id-3 input.sk-toggleable__control:checked~label.sk-toggleable__label-arrow:before {content: \"▾\";}#sk-container-id-3 div.sk-estimator input.sk-toggleable__control:checked~label.sk-toggleable__label {background-color: #d4ebff;}#sk-container-id-3 div.sk-label input.sk-toggleable__control:checked~label.sk-toggleable__label {background-color: #d4ebff;}#sk-container-id-3 input.sk-hidden--visually {border: 0;clip: rect(1px 1px 1px 1px);clip: rect(1px, 1px, 1px, 1px);height: 1px;margin: -1px;overflow: hidden;padding: 0;position: absolute;width: 1px;}#sk-container-id-3 div.sk-estimator {font-family: monospace;background-color: #f0f8ff;border: 1px dotted black;border-radius: 0.25em;box-sizing: border-box;margin-bottom: 0.5em;}#sk-container-id-3 div.sk-estimator:hover {background-color: #d4ebff;}#sk-container-id-3 div.sk-parallel-item::after {content: \"\";width: 100%;border-bottom: 1px solid gray;flex-grow: 1;}#sk-container-id-3 div.sk-label:hover label.sk-toggleable__label {background-color: #d4ebff;}#sk-container-id-3 div.sk-serial::before {content: \"\";position: absolute;border-left: 1px solid gray;box-sizing: border-box;top: 0;bottom: 0;left: 50%;z-index: 0;}#sk-container-id-3 div.sk-serial {display: flex;flex-direction: column;align-items: center;background-color: white;padding-right: 0.2em;padding-left: 0.2em;position: relative;}#sk-container-id-3 div.sk-item {position: relative;z-index: 1;}#sk-container-id-3 div.sk-parallel {display: flex;align-items: stretch;justify-content: center;background-color: white;position: relative;}#sk-container-id-3 div.sk-item::before, #sk-container-id-3 div.sk-parallel-item::before {content: \"\";position: absolute;border-left: 1px solid gray;box-sizing: border-box;top: 0;bottom: 0;left: 50%;z-index: -1;}#sk-container-id-3 div.sk-parallel-item {display: flex;flex-direction: column;z-index: 1;position: relative;background-color: white;}#sk-container-id-3 div.sk-parallel-item:first-child::after {align-self: flex-end;width: 50%;}#sk-container-id-3 div.sk-parallel-item:last-child::after {align-self: flex-start;width: 50%;}#sk-container-id-3 div.sk-parallel-item:only-child::after {width: 0;}#sk-container-id-3 div.sk-dashed-wrapped {border: 1px dashed gray;margin: 0 0.4em 0.5em 0.4em;box-sizing: border-box;padding-bottom: 0.4em;background-color: white;}#sk-container-id-3 div.sk-label label {font-family: monospace;font-weight: bold;display: inline-block;line-height: 1.2em;}#sk-container-id-3 div.sk-label-container {text-align: center;}#sk-container-id-3 div.sk-container {/* jupyter's `normalize.less` sets `[hidden] { display: none; }` but bootstrap.min.css set `[hidden] { display: none !important; }` so we also need the `!important` here to be able to override the default hidden behavior on the sphinx rendered scikit-learn.org. See: https://github.com/scikit-learn/scikit-learn/issues/21755 */display: inline-block !important;position: relative;}#sk-container-id-3 div.sk-text-repr-fallback {display: none;}</style><div id=\"sk-container-id-3\" class=\"sk-top-container\"><div class=\"sk-text-repr-fallback\"><pre>XGBRegressor(base_score=None, booster=None, callbacks=None,\n",
              "             colsample_bylevel=None, colsample_bynode=None,\n",
              "             colsample_bytree=None, device=None, early_stopping_rounds=None,\n",
              "             enable_categorical=False, eval_metric=None, feature_types=None,\n",
              "             gamma=None, grow_policy=None, importance_type=None,\n",
              "             interaction_constraints=None, learning_rate=None, max_bin=None,\n",
              "             max_cat_threshold=None, max_cat_to_onehot=None,\n",
              "             max_delta_step=None, max_depth=5, max_leaves=None,\n",
              "             min_child_weight=None, missing=nan, monotone_constraints=None,\n",
              "             multi_strategy=None, n_estimators=None, n_jobs=None,\n",
              "             num_parallel_tree=None, random_state=42, ...)</pre><b>In a Jupyter environment, please rerun this cell to show the HTML representation or trust the notebook. <br />On GitHub, the HTML representation is unable to render, please try loading this page with nbviewer.org.</b></div><div class=\"sk-container\" hidden><div class=\"sk-item\"><div class=\"sk-estimator sk-toggleable\"><input class=\"sk-toggleable__control sk-hidden--visually\" id=\"sk-estimator-id-3\" type=\"checkbox\" checked><label for=\"sk-estimator-id-3\" class=\"sk-toggleable__label sk-toggleable__label-arrow\">XGBRegressor</label><div class=\"sk-toggleable__content\"><pre>XGBRegressor(base_score=None, booster=None, callbacks=None,\n",
              "             colsample_bylevel=None, colsample_bynode=None,\n",
              "             colsample_bytree=None, device=None, early_stopping_rounds=None,\n",
              "             enable_categorical=False, eval_metric=None, feature_types=None,\n",
              "             gamma=None, grow_policy=None, importance_type=None,\n",
              "             interaction_constraints=None, learning_rate=None, max_bin=None,\n",
              "             max_cat_threshold=None, max_cat_to_onehot=None,\n",
              "             max_delta_step=None, max_depth=5, max_leaves=None,\n",
              "             min_child_weight=None, missing=nan, monotone_constraints=None,\n",
              "             multi_strategy=None, n_estimators=None, n_jobs=None,\n",
              "             num_parallel_tree=None, random_state=42, ...)</pre></div></div></div></div></div>"
            ]
          },
          "metadata": {},
          "execution_count": 132
        }
      ],
      "source": [
        "%%time\n",
        "regressor.fit(train_inputs, train_targets)"
      ]
    },
    {
      "cell_type": "code",
      "execution_count": 133,
      "metadata": {
        "id": "Hf9JYTE01DVi"
      },
      "outputs": [],
      "source": [
        "train_m_preds = regressor.predict(train_inputs)\n",
        "train_m_rmse = mean_squared_error(train_targets, train_m_preds, squared=False)\n",
        "val_m_preds = regressor.predict(val_inputs)\n",
        "val_m_rmse = mean_squared_error(val_targets, val_m_preds, squared=False)"
      ]
    },
    {
      "cell_type": "code",
      "execution_count": 134,
      "metadata": {
        "colab": {
          "base_uri": "https://localhost:8080/"
        },
        "id": "CGktfZZA2IPi",
        "outputId": "65f2f984-4dea-4519-a990-7cd2f194506d"
      },
      "outputs": [
        {
          "output_type": "execute_result",
          "data": {
            "text/plain": [
              "4.346115"
            ]
          },
          "metadata": {},
          "execution_count": 134
        }
      ],
      "source": [
        "train_m_rmse"
      ]
    },
    {
      "cell_type": "code",
      "execution_count": 135,
      "metadata": {
        "colab": {
          "base_uri": "https://localhost:8080/"
        },
        "id": "VAN7mMK02K45",
        "outputId": "507ecfb3-b874-4d6d-c104-e1d03a829887"
      },
      "outputs": [
        {
          "output_type": "execute_result",
          "data": {
            "text/plain": [
              "4.3737645"
            ]
          },
          "metadata": {},
          "execution_count": 135
        }
      ],
      "source": [
        "val_m_rmse"
      ]
    },
    {
      "cell_type": "markdown",
      "metadata": {
        "id": "MvGMpnEClXD1"
      },
      "source": [
        "##7. Predicting Fares for test data & Creating the submission file"
      ]
    },
    {
      "cell_type": "code",
      "execution_count": 136,
      "metadata": {
        "id": "7VVn5rHj2RMM"
      },
      "outputs": [],
      "source": [
        "test_preds = regressor.predict(test_inputs)"
      ]
    },
    {
      "cell_type": "code",
      "execution_count": 137,
      "metadata": {
        "id": "sU0DArsi97-3"
      },
      "outputs": [],
      "source": [
        "submission = pd.read_csv(\n",
        "    data_dir+'/test.csv',)"
      ]
    },
    {
      "cell_type": "code",
      "execution_count": 138,
      "metadata": {
        "id": "WDCmK1Di-Fi_"
      },
      "outputs": [],
      "source": [
        "submission['fare_amount'] = test_preds"
      ]
    },
    {
      "cell_type": "code",
      "execution_count": 139,
      "metadata": {
        "id": "k83UQqLv-H8z"
      },
      "outputs": [],
      "source": [
        "submission = submission.loc[:,['key','fare_amount']]"
      ]
    },
    {
      "cell_type": "code",
      "execution_count": 140,
      "metadata": {
        "colab": {
          "base_uri": "https://localhost:8080/",
          "height": 424
        },
        "id": "sq8xGWNY-jWr",
        "outputId": "f517d14e-050c-46fe-d715-6f9daccc94ab"
      },
      "outputs": [
        {
          "output_type": "execute_result",
          "data": {
            "text/plain": [
              "                              key  fare_amount\n",
              "0     2015-01-27 13:08:24.0000002    10.039685\n",
              "1     2015-01-27 13:08:24.0000003    10.659751\n",
              "2     2011-10-08 11:53:44.0000002     5.720724\n",
              "3     2012-12-01 21:12:12.0000002     7.799421\n",
              "4     2012-12-01 21:12:12.0000003    14.303241\n",
              "...                           ...          ...\n",
              "9909  2015-05-10 12:37:51.0000002     9.546297\n",
              "9910  2015-01-12 17:05:51.0000001    11.031953\n",
              "9911  2015-04-19 20:44:15.0000001    51.287834\n",
              "9912  2015-01-31 01:05:19.0000005    20.444647\n",
              "9913  2015-01-18 14:06:23.0000006     6.969773\n",
              "\n",
              "[9914 rows x 2 columns]"
            ],
            "text/html": [
              "\n",
              "  <div id=\"df-75465e1b-18f1-4f0e-bc3c-0321e8165e13\" class=\"colab-df-container\">\n",
              "    <div>\n",
              "<style scoped>\n",
              "    .dataframe tbody tr th:only-of-type {\n",
              "        vertical-align: middle;\n",
              "    }\n",
              "\n",
              "    .dataframe tbody tr th {\n",
              "        vertical-align: top;\n",
              "    }\n",
              "\n",
              "    .dataframe thead th {\n",
              "        text-align: right;\n",
              "    }\n",
              "</style>\n",
              "<table border=\"1\" class=\"dataframe\">\n",
              "  <thead>\n",
              "    <tr style=\"text-align: right;\">\n",
              "      <th></th>\n",
              "      <th>key</th>\n",
              "      <th>fare_amount</th>\n",
              "    </tr>\n",
              "  </thead>\n",
              "  <tbody>\n",
              "    <tr>\n",
              "      <th>0</th>\n",
              "      <td>2015-01-27 13:08:24.0000002</td>\n",
              "      <td>10.039685</td>\n",
              "    </tr>\n",
              "    <tr>\n",
              "      <th>1</th>\n",
              "      <td>2015-01-27 13:08:24.0000003</td>\n",
              "      <td>10.659751</td>\n",
              "    </tr>\n",
              "    <tr>\n",
              "      <th>2</th>\n",
              "      <td>2011-10-08 11:53:44.0000002</td>\n",
              "      <td>5.720724</td>\n",
              "    </tr>\n",
              "    <tr>\n",
              "      <th>3</th>\n",
              "      <td>2012-12-01 21:12:12.0000002</td>\n",
              "      <td>7.799421</td>\n",
              "    </tr>\n",
              "    <tr>\n",
              "      <th>4</th>\n",
              "      <td>2012-12-01 21:12:12.0000003</td>\n",
              "      <td>14.303241</td>\n",
              "    </tr>\n",
              "    <tr>\n",
              "      <th>...</th>\n",
              "      <td>...</td>\n",
              "      <td>...</td>\n",
              "    </tr>\n",
              "    <tr>\n",
              "      <th>9909</th>\n",
              "      <td>2015-05-10 12:37:51.0000002</td>\n",
              "      <td>9.546297</td>\n",
              "    </tr>\n",
              "    <tr>\n",
              "      <th>9910</th>\n",
              "      <td>2015-01-12 17:05:51.0000001</td>\n",
              "      <td>11.031953</td>\n",
              "    </tr>\n",
              "    <tr>\n",
              "      <th>9911</th>\n",
              "      <td>2015-04-19 20:44:15.0000001</td>\n",
              "      <td>51.287834</td>\n",
              "    </tr>\n",
              "    <tr>\n",
              "      <th>9912</th>\n",
              "      <td>2015-01-31 01:05:19.0000005</td>\n",
              "      <td>20.444647</td>\n",
              "    </tr>\n",
              "    <tr>\n",
              "      <th>9913</th>\n",
              "      <td>2015-01-18 14:06:23.0000006</td>\n",
              "      <td>6.969773</td>\n",
              "    </tr>\n",
              "  </tbody>\n",
              "</table>\n",
              "<p>9914 rows × 2 columns</p>\n",
              "</div>\n",
              "    <div class=\"colab-df-buttons\">\n",
              "\n",
              "  <div class=\"colab-df-container\">\n",
              "    <button class=\"colab-df-convert\" onclick=\"convertToInteractive('df-75465e1b-18f1-4f0e-bc3c-0321e8165e13')\"\n",
              "            title=\"Convert this dataframe to an interactive table.\"\n",
              "            style=\"display:none;\">\n",
              "\n",
              "  <svg xmlns=\"http://www.w3.org/2000/svg\" height=\"24px\" viewBox=\"0 -960 960 960\">\n",
              "    <path d=\"M120-120v-720h720v720H120Zm60-500h600v-160H180v160Zm220 220h160v-160H400v160Zm0 220h160v-160H400v160ZM180-400h160v-160H180v160Zm440 0h160v-160H620v160ZM180-180h160v-160H180v160Zm440 0h160v-160H620v160Z\"/>\n",
              "  </svg>\n",
              "    </button>\n",
              "\n",
              "  <style>\n",
              "    .colab-df-container {\n",
              "      display:flex;\n",
              "      gap: 12px;\n",
              "    }\n",
              "\n",
              "    .colab-df-convert {\n",
              "      background-color: #E8F0FE;\n",
              "      border: none;\n",
              "      border-radius: 50%;\n",
              "      cursor: pointer;\n",
              "      display: none;\n",
              "      fill: #1967D2;\n",
              "      height: 32px;\n",
              "      padding: 0 0 0 0;\n",
              "      width: 32px;\n",
              "    }\n",
              "\n",
              "    .colab-df-convert:hover {\n",
              "      background-color: #E2EBFA;\n",
              "      box-shadow: 0px 1px 2px rgba(60, 64, 67, 0.3), 0px 1px 3px 1px rgba(60, 64, 67, 0.15);\n",
              "      fill: #174EA6;\n",
              "    }\n",
              "\n",
              "    .colab-df-buttons div {\n",
              "      margin-bottom: 4px;\n",
              "    }\n",
              "\n",
              "    [theme=dark] .colab-df-convert {\n",
              "      background-color: #3B4455;\n",
              "      fill: #D2E3FC;\n",
              "    }\n",
              "\n",
              "    [theme=dark] .colab-df-convert:hover {\n",
              "      background-color: #434B5C;\n",
              "      box-shadow: 0px 1px 3px 1px rgba(0, 0, 0, 0.15);\n",
              "      filter: drop-shadow(0px 1px 2px rgba(0, 0, 0, 0.3));\n",
              "      fill: #FFFFFF;\n",
              "    }\n",
              "  </style>\n",
              "\n",
              "    <script>\n",
              "      const buttonEl =\n",
              "        document.querySelector('#df-75465e1b-18f1-4f0e-bc3c-0321e8165e13 button.colab-df-convert');\n",
              "      buttonEl.style.display =\n",
              "        google.colab.kernel.accessAllowed ? 'block' : 'none';\n",
              "\n",
              "      async function convertToInteractive(key) {\n",
              "        const element = document.querySelector('#df-75465e1b-18f1-4f0e-bc3c-0321e8165e13');\n",
              "        const dataTable =\n",
              "          await google.colab.kernel.invokeFunction('convertToInteractive',\n",
              "                                                    [key], {});\n",
              "        if (!dataTable) return;\n",
              "\n",
              "        const docLinkHtml = 'Like what you see? Visit the ' +\n",
              "          '<a target=\"_blank\" href=https://colab.research.google.com/notebooks/data_table.ipynb>data table notebook</a>'\n",
              "          + ' to learn more about interactive tables.';\n",
              "        element.innerHTML = '';\n",
              "        dataTable['output_type'] = 'display_data';\n",
              "        await google.colab.output.renderOutput(dataTable, element);\n",
              "        const docLink = document.createElement('div');\n",
              "        docLink.innerHTML = docLinkHtml;\n",
              "        element.appendChild(docLink);\n",
              "      }\n",
              "    </script>\n",
              "  </div>\n",
              "\n",
              "\n",
              "<div id=\"df-4fbbe8ba-e5d1-4a5e-b19d-ed83fc8777dd\">\n",
              "  <button class=\"colab-df-quickchart\" onclick=\"quickchart('df-4fbbe8ba-e5d1-4a5e-b19d-ed83fc8777dd')\"\n",
              "            title=\"Suggest charts\"\n",
              "            style=\"display:none;\">\n",
              "\n",
              "<svg xmlns=\"http://www.w3.org/2000/svg\" height=\"24px\"viewBox=\"0 0 24 24\"\n",
              "     width=\"24px\">\n",
              "    <g>\n",
              "        <path d=\"M19 3H5c-1.1 0-2 .9-2 2v14c0 1.1.9 2 2 2h14c1.1 0 2-.9 2-2V5c0-1.1-.9-2-2-2zM9 17H7v-7h2v7zm4 0h-2V7h2v10zm4 0h-2v-4h2v4z\"/>\n",
              "    </g>\n",
              "</svg>\n",
              "  </button>\n",
              "\n",
              "<style>\n",
              "  .colab-df-quickchart {\n",
              "      --bg-color: #E8F0FE;\n",
              "      --fill-color: #1967D2;\n",
              "      --hover-bg-color: #E2EBFA;\n",
              "      --hover-fill-color: #174EA6;\n",
              "      --disabled-fill-color: #AAA;\n",
              "      --disabled-bg-color: #DDD;\n",
              "  }\n",
              "\n",
              "  [theme=dark] .colab-df-quickchart {\n",
              "      --bg-color: #3B4455;\n",
              "      --fill-color: #D2E3FC;\n",
              "      --hover-bg-color: #434B5C;\n",
              "      --hover-fill-color: #FFFFFF;\n",
              "      --disabled-bg-color: #3B4455;\n",
              "      --disabled-fill-color: #666;\n",
              "  }\n",
              "\n",
              "  .colab-df-quickchart {\n",
              "    background-color: var(--bg-color);\n",
              "    border: none;\n",
              "    border-radius: 50%;\n",
              "    cursor: pointer;\n",
              "    display: none;\n",
              "    fill: var(--fill-color);\n",
              "    height: 32px;\n",
              "    padding: 0;\n",
              "    width: 32px;\n",
              "  }\n",
              "\n",
              "  .colab-df-quickchart:hover {\n",
              "    background-color: var(--hover-bg-color);\n",
              "    box-shadow: 0 1px 2px rgba(60, 64, 67, 0.3), 0 1px 3px 1px rgba(60, 64, 67, 0.15);\n",
              "    fill: var(--button-hover-fill-color);\n",
              "  }\n",
              "\n",
              "  .colab-df-quickchart-complete:disabled,\n",
              "  .colab-df-quickchart-complete:disabled:hover {\n",
              "    background-color: var(--disabled-bg-color);\n",
              "    fill: var(--disabled-fill-color);\n",
              "    box-shadow: none;\n",
              "  }\n",
              "\n",
              "  .colab-df-spinner {\n",
              "    border: 2px solid var(--fill-color);\n",
              "    border-color: transparent;\n",
              "    border-bottom-color: var(--fill-color);\n",
              "    animation:\n",
              "      spin 1s steps(1) infinite;\n",
              "  }\n",
              "\n",
              "  @keyframes spin {\n",
              "    0% {\n",
              "      border-color: transparent;\n",
              "      border-bottom-color: var(--fill-color);\n",
              "      border-left-color: var(--fill-color);\n",
              "    }\n",
              "    20% {\n",
              "      border-color: transparent;\n",
              "      border-left-color: var(--fill-color);\n",
              "      border-top-color: var(--fill-color);\n",
              "    }\n",
              "    30% {\n",
              "      border-color: transparent;\n",
              "      border-left-color: var(--fill-color);\n",
              "      border-top-color: var(--fill-color);\n",
              "      border-right-color: var(--fill-color);\n",
              "    }\n",
              "    40% {\n",
              "      border-color: transparent;\n",
              "      border-right-color: var(--fill-color);\n",
              "      border-top-color: var(--fill-color);\n",
              "    }\n",
              "    60% {\n",
              "      border-color: transparent;\n",
              "      border-right-color: var(--fill-color);\n",
              "    }\n",
              "    80% {\n",
              "      border-color: transparent;\n",
              "      border-right-color: var(--fill-color);\n",
              "      border-bottom-color: var(--fill-color);\n",
              "    }\n",
              "    90% {\n",
              "      border-color: transparent;\n",
              "      border-bottom-color: var(--fill-color);\n",
              "    }\n",
              "  }\n",
              "</style>\n",
              "\n",
              "  <script>\n",
              "    async function quickchart(key) {\n",
              "      const quickchartButtonEl =\n",
              "        document.querySelector('#' + key + ' button');\n",
              "      quickchartButtonEl.disabled = true;  // To prevent multiple clicks.\n",
              "      quickchartButtonEl.classList.add('colab-df-spinner');\n",
              "      try {\n",
              "        const charts = await google.colab.kernel.invokeFunction(\n",
              "            'suggestCharts', [key], {});\n",
              "      } catch (error) {\n",
              "        console.error('Error during call to suggestCharts:', error);\n",
              "      }\n",
              "      quickchartButtonEl.classList.remove('colab-df-spinner');\n",
              "      quickchartButtonEl.classList.add('colab-df-quickchart-complete');\n",
              "    }\n",
              "    (() => {\n",
              "      let quickchartButtonEl =\n",
              "        document.querySelector('#df-4fbbe8ba-e5d1-4a5e-b19d-ed83fc8777dd button');\n",
              "      quickchartButtonEl.style.display =\n",
              "        google.colab.kernel.accessAllowed ? 'block' : 'none';\n",
              "    })();\n",
              "  </script>\n",
              "</div>\n",
              "\n",
              "  <div id=\"id_ec5e4239-d9e7-4b9d-b08f-e2cf2e55a0d6\">\n",
              "    <style>\n",
              "      .colab-df-generate {\n",
              "        background-color: #E8F0FE;\n",
              "        border: none;\n",
              "        border-radius: 50%;\n",
              "        cursor: pointer;\n",
              "        display: none;\n",
              "        fill: #1967D2;\n",
              "        height: 32px;\n",
              "        padding: 0 0 0 0;\n",
              "        width: 32px;\n",
              "      }\n",
              "\n",
              "      .colab-df-generate:hover {\n",
              "        background-color: #E2EBFA;\n",
              "        box-shadow: 0px 1px 2px rgba(60, 64, 67, 0.3), 0px 1px 3px 1px rgba(60, 64, 67, 0.15);\n",
              "        fill: #174EA6;\n",
              "      }\n",
              "\n",
              "      [theme=dark] .colab-df-generate {\n",
              "        background-color: #3B4455;\n",
              "        fill: #D2E3FC;\n",
              "      }\n",
              "\n",
              "      [theme=dark] .colab-df-generate:hover {\n",
              "        background-color: #434B5C;\n",
              "        box-shadow: 0px 1px 3px 1px rgba(0, 0, 0, 0.15);\n",
              "        filter: drop-shadow(0px 1px 2px rgba(0, 0, 0, 0.3));\n",
              "        fill: #FFFFFF;\n",
              "      }\n",
              "    </style>\n",
              "    <button class=\"colab-df-generate\" onclick=\"generateWithVariable('submission')\"\n",
              "            title=\"Generate code using this dataframe.\"\n",
              "            style=\"display:none;\">\n",
              "\n",
              "  <svg xmlns=\"http://www.w3.org/2000/svg\" height=\"24px\"viewBox=\"0 0 24 24\"\n",
              "       width=\"24px\">\n",
              "    <path d=\"M7,19H8.4L18.45,9,17,7.55,7,17.6ZM5,21V16.75L18.45,3.32a2,2,0,0,1,2.83,0l1.4,1.43a1.91,1.91,0,0,1,.58,1.4,1.91,1.91,0,0,1-.58,1.4L9.25,21ZM18.45,9,17,7.55Zm-12,3A5.31,5.31,0,0,0,4.9,8.1,5.31,5.31,0,0,0,1,6.5,5.31,5.31,0,0,0,4.9,4.9,5.31,5.31,0,0,0,6.5,1,5.31,5.31,0,0,0,8.1,4.9,5.31,5.31,0,0,0,12,6.5,5.46,5.46,0,0,0,6.5,12Z\"/>\n",
              "  </svg>\n",
              "    </button>\n",
              "    <script>\n",
              "      (() => {\n",
              "      const buttonEl =\n",
              "        document.querySelector('#id_ec5e4239-d9e7-4b9d-b08f-e2cf2e55a0d6 button.colab-df-generate');\n",
              "      buttonEl.style.display =\n",
              "        google.colab.kernel.accessAllowed ? 'block' : 'none';\n",
              "\n",
              "      buttonEl.onclick = () => {\n",
              "        google.colab.notebook.generateWithVariable('submission');\n",
              "      }\n",
              "      })();\n",
              "    </script>\n",
              "  </div>\n",
              "\n",
              "    </div>\n",
              "  </div>\n"
            ],
            "application/vnd.google.colaboratory.intrinsic+json": {
              "type": "dataframe",
              "variable_name": "submission",
              "summary": "{\n  \"name\": \"submission\",\n  \"rows\": 9914,\n  \"fields\": [\n    {\n      \"column\": \"key\",\n      \"properties\": {\n        \"dtype\": \"object\",\n        \"num_unique_values\": 9914,\n        \"samples\": [\n          \"2012-01-26 07:33:00.000000147\",\n          \"2012-10-15 20:10:31.0000005\",\n          \"2009-06-10 16:55:00.000000139\"\n        ],\n        \"semantic_type\": \"\",\n        \"description\": \"\"\n      }\n    },\n    {\n      \"column\": \"fare_amount\",\n      \"properties\": {\n        \"dtype\": \"float32\",\n        \"num_unique_values\": 9908,\n        \"samples\": [\n          8.385303497314453,\n          20.085359573364258,\n          4.990423202514648\n        ],\n        \"semantic_type\": \"\",\n        \"description\": \"\"\n      }\n    }\n  ]\n}"
            }
          },
          "metadata": {},
          "execution_count": 140
        }
      ],
      "source": [
        "submission"
      ]
    },
    {
      "source": [
        "# @title fare_amount\n",
        "\n",
        "from matplotlib import pyplot as plt\n",
        "submission['fare_amount'].plot(kind='hist', bins=20, title='fare_amount')\n",
        "plt.gca().spines[['top', 'right',]].set_visible(False)"
      ],
      "cell_type": "code",
      "execution_count": 143,
      "outputs": [
        {
          "output_type": "display_data",
          "data": {
            "text/plain": [
              "<Figure size 640x480 with 1 Axes>"
            ],
            "image/png": "[encoded data removed]"
          },
          "metadata": {}
        }
      ],
      "metadata": {
        "cellView": "form",
        "colab": {
          "base_uri": "https://localhost:8080/",
          "height": 452
        },
        "id": "nZZioL5X2dIX",
        "outputId": "79dcc3b7-e73d-4b13-e0b5-bf258d1fc895"
      }
    },
    {
      "cell_type": "code",
      "execution_count": 141,
      "metadata": {
        "colab": {
          "base_uri": "https://localhost:8080/"
        },
        "id": "efECTmE__efq",
        "outputId": "fad05aa4-b92d-4038-f277-2a1c4d938988"
      },
      "outputs": [
        {
          "output_type": "execute_result",
          "data": {
            "text/plain": [
              "key            0\n",
              "fare_amount    0\n",
              "dtype: int64"
            ]
          },
          "metadata": {},
          "execution_count": 141
        }
      ],
      "source": [
        "submission.isna().sum()"
      ]
    },
    {
      "cell_type": "code",
      "execution_count": 142,
      "metadata": {
        "id": "IZa0qVQK_ap4"
      },
      "outputs": [],
      "source": [
        "submission.to_csv('submission.csv',index=False)"
      ]
    }
  ],
  "metadata": {
    "colab": {
      "collapsed_sections": [
        "_G_hnytj-c0x",
        "NgB0jZmhKYJD",
        "rPVZGLMkIrhS",
        "Og1BoM_sJlLi",
        "RcqEV86EP-8X",
        "o2V5IbGMKsW4",
        "fOUOcFkWS7un",
        "_gjhxJ46ckLU",
        "mUP9ydpf73Pu"
      ],
      "provenance": []
    },
    "kernelspec": {
      "display_name": "Python 3",
      "name": "python3"
    },
    "language_info": {
      "name": "python"
    }
  },
  "nbformat": 4,
  "nbformat_minor": 0
}